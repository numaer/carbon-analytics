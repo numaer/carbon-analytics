{
 "cells": [
  {
   "cell_type": "markdown",
   "metadata": {},
   "source": [
    "# Hub & Spoke Visuals\n",
    "\n",
    "This notebook explores the visuals of the Team NYC dashboard after HC and NA process the raw AIS data. The visualizations here will be solely plotly so that we can easily port them over to the Dashboard. NC nicely describes our input dataframe \"fullTrips\" as a cleaned and processed dataframe where each row is a trip. A trip is defined as:\n",
    "\n",
    "1. Spoke start port\n",
    "2. Hub start port\n",
    "3. Hub end port\n",
    "4. Spoke end port\n",
    "\n",
    "We use the available post-processed data to generate visuals in plotly here which we can plug-and-play and __Dash__.\n",
    "\n",
    "### Dashboard Contents\n",
    "\n",
    "* Hub and Spoke on a Map\n",
    "* High level metrics (# trips, total carbon emission, # hubs)\n",
    "* Trip scatterplot\n",
    "\n",
    "*Note: We need to be extremely creative here. The nature of our model won't let us render too much on the map and so we can't rely on just a map to be the entire visual. Consider charts like bar charts, pie charts, time series, etc*"
   ]
  },
  {
   "cell_type": "code",
   "execution_count": 337,
   "metadata": {},
   "outputs": [],
   "source": [
    "import pandas as pd\n",
    "import numpy as np\n",
    "import math\n",
    "import matplotlib.pyplot as plt\n",
    "from time import process_time\n",
    "from sklearn.cluster import DBSCAN\n",
    "import plotly.graph_objects as go\n",
    "import plotly.express as px"
   ]
  },
  {
   "cell_type": "code",
   "execution_count": 246,
   "metadata": {},
   "outputs": [],
   "source": [
    "\"\"\"\n",
    "HELPERS\n",
    "\"\"\"\n",
    "\n",
    "def get_lat_lon_range(df):\n",
    "    \"\"\"Return the range of lat and lon in the data.\"\"\"\n",
    "    return [df['lat'].min(), df['lat'].max()], [df['lon'].min(), df['lon'].max()]\n",
    "\n",
    "def get_scope(lat_range, lon_range):\n",
    "    \"\"\"Assign the proper scope based on range of data's lat/lon.\"\"\"\n",
    "    us_lat_rng = [24, 55]\n",
    "    us_lon_rng = [-127, -50]\n",
    "    na_lat_rng = [15, 85]\n",
    "    na_lon_rng = [-170, -50]\n",
    "    eu_lat_rng = [30, 80]\n",
    "    eu_lon_rng = [-20, 70]\n",
    "    sa_lat_rng = [-60, 12]\n",
    "    sa_lon_rng = [-81, -34]\n",
    "\n",
    "    if (lat_range[0] >= us_lat_rng[0] and lat_range[1] <= us_lat_rng[1]\n",
    "            and lon_range[0] >= us_lon_rng[0] and lon_range[1] <= us_lon_rng[1]):\n",
    "        scope = 'usa'\n",
    "    elif (lat_range[0] >= na_lat_rng[0] and lat_range[1] <= na_lat_rng[1]\n",
    "            and lon_range[0] >= na_lon_rng[0] and lon_range[1] <= na_lon_rng[1]):\n",
    "        scope = 'north america'\n",
    "    elif (lat_range[0] >= eu_lat_rng[0] and lat_range[1] <= eu_lat_rng[1]\n",
    "          and lon_range[0] >= eu_lon_rng[0] and lon_range[1] <= eu_lon_rng[1]):\n",
    "        scope = 'europe'\n",
    "    elif (lat_range[0] >= sa_lat_rng[0] and lat_range[1] <= sa_lat_rng[1]\n",
    "          and lon_range[0] >= sa_lon_rng[0] and lon_range[1] <= sa_lon_rng[1]):\n",
    "        scope = 'south america'\n",
    "    else:  # can add asia and africa\n",
    "        scope = 'world'  # default\n",
    "    return scope"
   ]
  },
  {
   "cell_type": "code",
   "execution_count": 349,
   "metadata": {},
   "outputs": [
    {
     "data": {
      "text/html": [
       "<div>\n",
       "<style scoped>\n",
       "    .dataframe tbody tr th:only-of-type {\n",
       "        vertical-align: middle;\n",
       "    }\n",
       "\n",
       "    .dataframe tbody tr th {\n",
       "        vertical-align: top;\n",
       "    }\n",
       "\n",
       "    .dataframe thead th {\n",
       "        text-align: right;\n",
       "    }\n",
       "</style>\n",
       "<table border=\"1\" class=\"dataframe\">\n",
       "  <thead>\n",
       "    <tr style=\"text-align: right;\">\n",
       "      <th></th>\n",
       "      <th>Port_ID</th>\n",
       "      <th>CENTER_LON</th>\n",
       "      <th>CENTER_LAT</th>\n",
       "    </tr>\n",
       "  </thead>\n",
       "  <tbody>\n",
       "    <tr>\n",
       "      <th>0</th>\n",
       "      <td>-1</td>\n",
       "      <td>-64.268406</td>\n",
       "      <td>18.234004</td>\n",
       "    </tr>\n",
       "    <tr>\n",
       "      <th>1</th>\n",
       "      <td>0</td>\n",
       "      <td>-63.044450</td>\n",
       "      <td>18.010393</td>\n",
       "    </tr>\n",
       "    <tr>\n",
       "      <th>2</th>\n",
       "      <td>1</td>\n",
       "      <td>-64.949977</td>\n",
       "      <td>18.334146</td>\n",
       "    </tr>\n",
       "    <tr>\n",
       "      <th>3</th>\n",
       "      <td>2</td>\n",
       "      <td>-64.597297</td>\n",
       "      <td>18.401753</td>\n",
       "    </tr>\n",
       "    <tr>\n",
       "      <th>4</th>\n",
       "      <td>3</td>\n",
       "      <td>-64.754876</td>\n",
       "      <td>17.696373</td>\n",
       "    </tr>\n",
       "  </tbody>\n",
       "</table>\n",
       "</div>"
      ],
      "text/plain": [
       "   Port_ID  CENTER_LON  CENTER_LAT\n",
       "0       -1  -64.268406   18.234004\n",
       "1        0  -63.044450   18.010393\n",
       "2        1  -64.949977   18.334146\n",
       "3        2  -64.597297   18.401753\n",
       "4        3  -64.754876   17.696373"
      ]
     },
     "metadata": {},
     "output_type": "display_data"
    },
    {
     "data": {
      "text/html": [
       "<div>\n",
       "<style scoped>\n",
       "    .dataframe tbody tr th:only-of-type {\n",
       "        vertical-align: middle;\n",
       "    }\n",
       "\n",
       "    .dataframe tbody tr th {\n",
       "        vertical-align: top;\n",
       "    }\n",
       "\n",
       "    .dataframe thead th {\n",
       "        text-align: right;\n",
       "    }\n",
       "</style>\n",
       "<table border=\"1\" class=\"dataframe\">\n",
       "  <thead>\n",
       "    <tr style=\"text-align: right;\">\n",
       "      <th></th>\n",
       "      <th>Unnamed: 0</th>\n",
       "      <th>MMSI</th>\n",
       "      <th>VesselType</th>\n",
       "      <th>Length</th>\n",
       "      <th>Width</th>\n",
       "      <th>BaseDateTime_Start</th>\n",
       "      <th>LAT_SPOKEStartPort</th>\n",
       "      <th>LON_SPOKEStartPort</th>\n",
       "      <th>StartHUBPORT_PortID</th>\n",
       "      <th>StartHUBPORT_LON</th>\n",
       "      <th>StartHUBPORT_LAT</th>\n",
       "      <th>BaseDateTime_TripEnd</th>\n",
       "      <th>LAT_SPOKEEndPort</th>\n",
       "      <th>LON_SPOKEEndPort</th>\n",
       "      <th>ENDHUBPORT_PortID</th>\n",
       "      <th>ENDHUBPORT_LON</th>\n",
       "      <th>ENDHUBPORT_LAT</th>\n",
       "    </tr>\n",
       "  </thead>\n",
       "  <tbody>\n",
       "    <tr>\n",
       "      <th>0</th>\n",
       "      <td>5728</td>\n",
       "      <td>209141000</td>\n",
       "      <td>1004.0</td>\n",
       "      <td>143.15</td>\n",
       "      <td>22.80</td>\n",
       "      <td>2017-12-04T19:06:12</td>\n",
       "      <td>18.02078</td>\n",
       "      <td>-63.11847</td>\n",
       "      <td>-1.0</td>\n",
       "      <td>-64.268406</td>\n",
       "      <td>18.234004</td>\n",
       "      <td>2017-12-05T10:48:45</td>\n",
       "      <td>18.00902</td>\n",
       "      <td>-63.04453</td>\n",
       "      <td>0</td>\n",
       "      <td>-63.044450</td>\n",
       "      <td>18.010393</td>\n",
       "    </tr>\n",
       "    <tr>\n",
       "      <th>1</th>\n",
       "      <td>6875</td>\n",
       "      <td>230185000</td>\n",
       "      <td>1004.0</td>\n",
       "      <td>108.35</td>\n",
       "      <td>17.47</td>\n",
       "      <td>2017-12-01T21:14:09</td>\n",
       "      <td>18.08363</td>\n",
       "      <td>-63.10032</td>\n",
       "      <td>-1.0</td>\n",
       "      <td>-64.268406</td>\n",
       "      <td>18.234004</td>\n",
       "      <td>2017-12-06T21:24:41</td>\n",
       "      <td>18.33570</td>\n",
       "      <td>-64.94765</td>\n",
       "      <td>1</td>\n",
       "      <td>-64.949977</td>\n",
       "      <td>18.334146</td>\n",
       "    </tr>\n",
       "    <tr>\n",
       "      <th>2</th>\n",
       "      <td>10939</td>\n",
       "      <td>230185000</td>\n",
       "      <td>1004.0</td>\n",
       "      <td>108.35</td>\n",
       "      <td>17.47</td>\n",
       "      <td>2017-12-06T21:24:41</td>\n",
       "      <td>18.33570</td>\n",
       "      <td>-64.94765</td>\n",
       "      <td>1.0</td>\n",
       "      <td>-64.949977</td>\n",
       "      <td>18.334146</td>\n",
       "      <td>2017-12-20T21:53:33</td>\n",
       "      <td>18.40139</td>\n",
       "      <td>-64.59435</td>\n",
       "      <td>2</td>\n",
       "      <td>-64.597297</td>\n",
       "      <td>18.401753</td>\n",
       "    </tr>\n",
       "    <tr>\n",
       "      <th>3</th>\n",
       "      <td>20215</td>\n",
       "      <td>230185000</td>\n",
       "      <td>1004.0</td>\n",
       "      <td>108.35</td>\n",
       "      <td>17.47</td>\n",
       "      <td>2017-12-20T21:53:33</td>\n",
       "      <td>18.40139</td>\n",
       "      <td>-64.59435</td>\n",
       "      <td>2.0</td>\n",
       "      <td>-64.597297</td>\n",
       "      <td>18.401753</td>\n",
       "      <td>2017-12-23T17:30:13</td>\n",
       "      <td>17.69702</td>\n",
       "      <td>-64.75512</td>\n",
       "      <td>3</td>\n",
       "      <td>-64.754876</td>\n",
       "      <td>17.696373</td>\n",
       "    </tr>\n",
       "    <tr>\n",
       "      <th>4</th>\n",
       "      <td>27463</td>\n",
       "      <td>230185000</td>\n",
       "      <td>1004.0</td>\n",
       "      <td>108.35</td>\n",
       "      <td>17.47</td>\n",
       "      <td>2017-12-23T17:30:13</td>\n",
       "      <td>17.69702</td>\n",
       "      <td>-64.75512</td>\n",
       "      <td>3.0</td>\n",
       "      <td>-64.754876</td>\n",
       "      <td>17.696373</td>\n",
       "      <td>2017-12-24T23:38:44</td>\n",
       "      <td>18.33567</td>\n",
       "      <td>-64.94773</td>\n",
       "      <td>1</td>\n",
       "      <td>-64.949977</td>\n",
       "      <td>18.334146</td>\n",
       "    </tr>\n",
       "  </tbody>\n",
       "</table>\n",
       "</div>"
      ],
      "text/plain": [
       "   Unnamed: 0       MMSI  VesselType  Length  Width   BaseDateTime_Start  \\\n",
       "0        5728  209141000      1004.0  143.15  22.80  2017-12-04T19:06:12   \n",
       "1        6875  230185000      1004.0  108.35  17.47  2017-12-01T21:14:09   \n",
       "2       10939  230185000      1004.0  108.35  17.47  2017-12-06T21:24:41   \n",
       "3       20215  230185000      1004.0  108.35  17.47  2017-12-20T21:53:33   \n",
       "4       27463  230185000      1004.0  108.35  17.47  2017-12-23T17:30:13   \n",
       "\n",
       "   LAT_SPOKEStartPort  LON_SPOKEStartPort  StartHUBPORT_PortID  \\\n",
       "0            18.02078           -63.11847                 -1.0   \n",
       "1            18.08363           -63.10032                 -1.0   \n",
       "2            18.33570           -64.94765                  1.0   \n",
       "3            18.40139           -64.59435                  2.0   \n",
       "4            17.69702           -64.75512                  3.0   \n",
       "\n",
       "   StartHUBPORT_LON  StartHUBPORT_LAT BaseDateTime_TripEnd  LAT_SPOKEEndPort  \\\n",
       "0        -64.268406         18.234004  2017-12-05T10:48:45          18.00902   \n",
       "1        -64.268406         18.234004  2017-12-06T21:24:41          18.33570   \n",
       "2        -64.949977         18.334146  2017-12-20T21:53:33          18.40139   \n",
       "3        -64.597297         18.401753  2017-12-23T17:30:13          17.69702   \n",
       "4        -64.754876         17.696373  2017-12-24T23:38:44          18.33567   \n",
       "\n",
       "   LON_SPOKEEndPort  ENDHUBPORT_PortID  ENDHUBPORT_LON  ENDHUBPORT_LAT  \n",
       "0         -63.04453                  0      -63.044450       18.010393  \n",
       "1         -64.94765                  1      -64.949977       18.334146  \n",
       "2         -64.59435                  2      -64.597297       18.401753  \n",
       "3         -64.75512                  3      -64.754876       17.696373  \n",
       "4         -64.94773                  1      -64.949977       18.334146  "
      ]
     },
     "execution_count": 349,
     "metadata": {},
     "output_type": "execute_result"
    }
   ],
   "source": [
    "\"\"\"\n",
    "Load in data processed by HC and NA models.\n",
    "\"\"\"\n",
    "\n",
    "df_ports = pd.read_csv('portRef.csv')\n",
    "display(df_ports.head())\n",
    "\n",
    "df_full_trips = pd.read_csv('fullTrips.csv')\n",
    "df_full_trips.head()"
   ]
  },
  {
   "cell_type": "code",
   "execution_count": 301,
   "metadata": {},
   "outputs": [],
   "source": [
    "\"\"\"\n",
    "Generates the data needed to funnel trip data into a plotly geoscatter map\n",
    "\"\"\"\n",
    "\n",
    "def gen_df_spokes_start(df_full_trips):\n",
    "    df = df_full_trips[['MMSI',\n",
    "                                 'BaseDateTime_Start',\n",
    "                                 'LAT_SPOKEStartPort', \n",
    "                                 'LON_SPOKEStartPort']].copy()\n",
    "    df['color'] = 'green'\n",
    "    df.columns = ['mmsi', 'time', 'lat', 'lon', 'color']\n",
    "    df['size'] = 8\n",
    "    df['text'] = (df['mmsi'].apply(lambda x: \"MMSI: %s\" % x))\n",
    "    df['name'] = 'Spoke Start'\n",
    "    df.head()\n",
    "    return df\n",
    "\n",
    "def gen_df_hub_start(df_full_trips):\n",
    "    df = df_full_trips[['MMSI', \n",
    "                            'StartHUBPORT_PortID', \n",
    "                            'StartHUBPORT_LON',\n",
    "                             'StartHUBPORT_LAT']].copy()\n",
    "\n",
    "    df['count'] = df['StartHUBPORT_PortID']\n",
    "    df = df.groupby(['StartHUBPORT_PortID', \n",
    "                        'StartHUBPORT_LON',\n",
    "                       'StartHUBPORT_LAT'], as_index=False).agg({'count': 'count'})\n",
    "    df.sort_values(by='count', ascending=False)\n",
    "    df.columns = ['port_id', 'lon', 'lat', 'count']\n",
    "    df['color'] = 'orange'\n",
    "    df['text'] = df['port_id'].apply(lambda x: \"\"\"Port ID: %s\"\"\" % x)\n",
    "    df['name'] = 'Hub Start'\n",
    "    df['size'] = 8 + df['count']\n",
    "    df.head()\n",
    "    return df\n",
    "\n",
    "def gen_df_hub_end(df_full_trips):\n",
    "    df = df_full_trips[['MMSI', \n",
    "                                  'ENDHUBPORT_PortID', \n",
    "                                  'ENDHUBPORT_LON',\n",
    "                                  'ENDHUBPORT_LAT']].copy()\n",
    "\n",
    "\n",
    "    df['count'] = df['ENDHUBPORT_PortID']\n",
    "    df = df.groupby(['ENDHUBPORT_PortID', \n",
    "                        'ENDHUBPORT_LON',\n",
    "                       'ENDHUBPORT_LAT'], as_index=False).agg({'count': 'count'})\n",
    "    df.sort_values(by='count', ascending=False)\n",
    "    df['color'] = 'blue'\n",
    "    df.columns = ['port_id', 'lon', 'lat', 'count', 'color']\n",
    "    df['text'] = df['port_id'].apply(lambda x: \"\"\"Port ID: %s\"\"\" % x)\n",
    "    df['name'] = 'Hub End'\n",
    "    df['size'] = 8 + df['count']\n",
    "    df.head()\n",
    "    return df\n",
    "\n",
    "def gen_df_spoke_end(df_full_trips):\n",
    "    df = df_full_trips[['MMSI', \n",
    "                                  'LAT_SPOKEEndPort',\n",
    "                                  'LON_SPOKEEndPort',\n",
    "                                 'BaseDateTime_TripEnd']].copy()\n",
    "    df.columns = ['mmsi', 'lat', 'lon', 'time']\n",
    "    df['color'] = 'red'\n",
    "    df['size'] = 8\n",
    "    df['text'] = (df['mmsi'].apply(lambda x: \"MMSI: %s\" % x))\n",
    "    df['name'] = 'Spoke End'\n",
    "    df.head()\n",
    "    return df"
   ]
  },
  {
   "cell_type": "code",
   "execution_count": 336,
   "metadata": {},
   "outputs": [
    {
     "name": "stdout",
     "output_type": "stream",
     "text": [
      "Index(['Unnamed: 0', 'MMSI', 'VesselType', 'Length', 'Width',\n",
      "       'BaseDateTime_Start', 'LAT_SPOKEStartPort', 'LON_SPOKEStartPort',\n",
      "       'StartHUBPORT_PortID', 'StartHUBPORT_LON', 'StartHUBPORT_LAT',\n",
      "       'BaseDateTime_TripEnd', 'LAT_SPOKEEndPort', 'LON_SPOKEEndPort',\n",
      "       'ENDHUBPORT_PortID', 'ENDHUBPORT_LON', 'ENDHUBPORT_LAT'],\n",
      "      dtype='object')\n"
     ]
    },
    {
     "data": {
      "application/vnd.plotly.v1+json": {
       "config": {
        "plotlyServerURL": "https://plot.ly"
       },
       "data": [
        {
         "lat": [
          18.02078,
          18.08363,
          18.3357,
          18.40139,
          17.697020000000006,
          18.33567,
          18.40458,
          18.33565,
          18.42536,
          17.69705,
          18.04533,
          18.4255,
          17.980829999999994,
          17.902,
          18.052570000000006,
          18.31062,
          18.31904,
          18.33117,
          18.32483,
          18.33117,
          18.3165,
          18.33183,
          18.33188,
          18.31897,
          17.6433,
          18.33625,
          18.31699,
          18.33486,
          18.33487,
          18.33483,
          18.36627,
          18.31398,
          18.46958,
          18.49942,
          18.33518,
          18.36354,
          18.0111,
          18.20458,
          18.38771,
          18.38635,
          18.41416,
          18.30763,
          18.33537,
          18.30803,
          18.41358,
          17.69641,
          18.5073,
          18.50643,
          17.695,
          18.42605,
          18.33498,
          17.696379999999994,
          18.33499,
          18.39787,
          17.69577,
          18.33508,
          17.69698,
          18.33534,
          18.31341,
          18.33536,
          18.38817,
          18.387999999999998,
          18.31813,
          18.24302,
          18.08228,
          18.31004,
          18.334570000000006,
          18.31851,
          18.33439,
          18.41631,
          18.33461,
          18.403170000000006,
          18.08231
         ],
         "lon": [
          -63.11847,
          -63.10032,
          -64.94765,
          -64.59435,
          -64.75511999999999,
          -64.94773,
          -64.6007,
          -64.94773,
          -64.60906999999999,
          -64.75514,
          -63.26067,
          -64.60916999999999,
          -63.01767,
          -62.8535,
          -65.83695999999999,
          -64.9413,
          -64.97835,
          -64.95433,
          -64.956,
          -64.95416999999999,
          -64.96233000000001,
          -64.95366999999999,
          -64.95286999999999,
          -64.98143,
          -63.25713,
          -64.92115,
          -64.96099,
          -64.92073,
          -64.92071999999999,
          -64.92182,
          -64.9262,
          -64.62568,
          -64.4166,
          -64.4154,
          -64.92274,
          -64.75193,
          -63.04442,
          -63.10556999999999,
          -64.65031,
          -64.64599,
          -64.6043,
          -64.93911999999999,
          -64.9494,
          -64.9409,
          -64.60291,
          -64.7549,
          -65.98343,
          -65.9584,
          -64.75421999999999,
          -64.60945,
          -64.94762,
          -64.7549,
          -64.94771999999999,
          -64.59661,
          -64.75461,
          -64.94773,
          -64.75522,
          -64.94941,
          -64.93812,
          -64.94927,
          -64.65025,
          -64.65033000000001,
          -64.97967,
          -64.97816,
          -65.61189,
          -64.66941,
          -64.94958000000001,
          -64.97453,
          -64.94969,
          -64.60491,
          -64.94954,
          -64.59753,
          -65.61142
         ],
         "marker": {
          "color": [
           "green",
           "green",
           "green",
           "green",
           "green",
           "green",
           "green",
           "green",
           "green",
           "green",
           "green",
           "green",
           "green",
           "green",
           "green",
           "green",
           "green",
           "green",
           "green",
           "green",
           "green",
           "green",
           "green",
           "green",
           "green",
           "green",
           "green",
           "green",
           "green",
           "green",
           "green",
           "green",
           "green",
           "green",
           "green",
           "green",
           "green",
           "green",
           "green",
           "green",
           "green",
           "green",
           "green",
           "green",
           "green",
           "green",
           "green",
           "green",
           "green",
           "green",
           "green",
           "green",
           "green",
           "green",
           "green",
           "green",
           "green",
           "green",
           "green",
           "green",
           "green",
           "green",
           "green",
           "green",
           "green",
           "green",
           "green",
           "green",
           "green",
           "green",
           "green",
           "green",
           "green"
          ],
          "line": {
           "color": "rgba(68, 68, 68, 0)",
           "width": 3
          },
          "size": [
           8,
           8,
           8,
           8,
           8,
           8,
           8,
           8,
           8,
           8,
           8,
           8,
           8,
           8,
           8,
           8,
           8,
           8,
           8,
           8,
           8,
           8,
           8,
           8,
           8,
           8,
           8,
           8,
           8,
           8,
           8,
           8,
           8,
           8,
           8,
           8,
           8,
           8,
           8,
           8,
           8,
           8,
           8,
           8,
           8,
           8,
           8,
           8,
           8,
           8,
           8,
           8,
           8,
           8,
           8,
           8,
           8,
           8,
           8,
           8,
           8,
           8,
           8,
           8,
           8,
           8,
           8,
           8,
           8,
           8,
           8,
           8,
           8
          ],
          "symbol": [
           "circle",
           "circle",
           "circle",
           "circle",
           "circle",
           "circle",
           "circle",
           "circle",
           "circle",
           "circle",
           "circle",
           "circle",
           "circle",
           "circle",
           "circle",
           "circle",
           "circle",
           "circle",
           "circle",
           "circle",
           "circle",
           "circle",
           "circle",
           "circle",
           "circle",
           "circle",
           "circle",
           "circle",
           "circle",
           "circle",
           "circle",
           "circle",
           "circle",
           "circle",
           "circle",
           "circle",
           "circle",
           "circle",
           "circle",
           "circle",
           "circle",
           "circle",
           "circle",
           "circle",
           "circle",
           "circle",
           "circle",
           "circle",
           "circle",
           "circle",
           "circle",
           "circle",
           "circle",
           "circle",
           "circle",
           "circle",
           "circle",
           "circle",
           "circle",
           "circle",
           "circle",
           "circle",
           "circle",
           "circle",
           "circle",
           "circle",
           "circle",
           "circle",
           "circle",
           "circle",
           "circle",
           "circle",
           "circle"
          ]
         },
         "name": "Spoke Start",
         "text": [
          "MMSI: 209141000",
          "MMSI: 230185000",
          "MMSI: 230185000",
          "MMSI: 230185000",
          "MMSI: 230185000",
          "MMSI: 230185000",
          "MMSI: 230185000",
          "MMSI: 230185000",
          "MMSI: 230185000",
          "MMSI: 230185000",
          "MMSI: 230186000",
          "MMSI: 230186000",
          "MMSI: 230186000",
          "MMSI: 230186000",
          "MMSI: 235061952",
          "MMSI: 244826000",
          "MMSI: 305749000",
          "MMSI: 308311000",
          "MMSI: 308311000",
          "MMSI: 308311000",
          "MMSI: 308311000",
          "MMSI: 308311000",
          "MMSI: 311000160",
          "MMSI: 311000160",
          "MMSI: 311000506",
          "MMSI: 319063200",
          "MMSI: 319063200",
          "MMSI: 319594000",
          "MMSI: 319594000",
          "MMSI: 319723000",
          "MMSI: 319723000",
          "MMSI: 319723000",
          "MMSI: 319723000",
          "MMSI: 319723000",
          "MMSI: 319821000",
          "MMSI: 319821000",
          "MMSI: 325631000",
          "MMSI: 325631000",
          "MMSI: 370425000",
          "MMSI: 370425000",
          "MMSI: 370648000",
          "MMSI: 375902000",
          "MMSI: 375902000",
          "MMSI: 375902000",
          "MMSI: 377901024",
          "MMSI: 377901024",
          "MMSI: 377901024",
          "MMSI: 377901024",
          "MMSI: 377901024",
          "MMSI: 377901024",
          "MMSI: 377901024",
          "MMSI: 377901024",
          "MMSI: 377901024",
          "MMSI: 377901024",
          "MMSI: 377911000",
          "MMSI: 377911000",
          "MMSI: 377911000",
          "MMSI: 377911000",
          "MMSI: 377911000",
          "MMSI: 377911000",
          "MMSI: 538003870",
          "MMSI: 538003870",
          "MMSI: 564923000",
          "MMSI: 564923000",
          "MMSI: 565135000",
          "MMSI: 577365000",
          "MMSI: 577368000",
          "MMSI: 577368000",
          "MMSI: 577368000",
          "MMSI: 577368000",
          "MMSI: 577368000",
          "MMSI: 577368000",
          "MMSI: 636092495"
         ],
         "type": "scattergeo"
        },
        {
         "lat": [
          18.234004137931034,
          18.010393333333333,
          18.334145555555555,
          18.4017525,
          17.696372500000006,
          18.4256475,
          18.052564999999998,
          18.309922500000006,
          18.334531428571427,
          18.318328,
          18.316996666666668,
          18.387494000000004,
          18.416185000000002,
          18.082295000000002
         ],
         "lon": [
          -64.26840620689656,
          -63.04445000000001,
          -64.94997666666666,
          -64.5972975,
          -64.75487625,
          -64.60922249999999,
          -65.83694,
          -64.93986,
          -64.92175285714286,
          -64.978538,
          -64.96177333333333,
          -64.649486,
          -64.60467,
          -65.611655
         ],
         "marker": {
          "color": [
           "orange",
           "orange",
           "orange",
           "orange",
           "orange",
           "orange",
           "orange",
           "orange",
           "orange",
           "orange",
           "orange",
           "orange",
           "orange",
           "orange"
          ],
          "line": {
           "color": "rgba(68, 68, 68, 0)",
           "width": 3
          },
          "size": [
           25,
           9,
           24,
           12,
           15,
           11,
           9,
           12,
           13,
           12,
           10,
           12,
           11,
           10
          ],
          "symbol": [
           "circle",
           "circle",
           "circle",
           "circle",
           "circle",
           "circle",
           "circle",
           "circle",
           "circle",
           "circle",
           "circle",
           "circle",
           "circle",
           "circle"
          ]
         },
         "name": "Hub Start",
         "text": [
          "Port ID: -1.0",
          "Port ID: 0.0",
          "Port ID: 1.0",
          "Port ID: 2.0",
          "Port ID: 3.0",
          "Port ID: 4.0",
          "Port ID: 5.0",
          "Port ID: 6.0",
          "Port ID: 7.0",
          "Port ID: 8.0",
          "Port ID: 9.0",
          "Port ID: 10.0",
          "Port ID: 11.0",
          "Port ID: 12.0"
         ],
         "type": "scattergeo"
        },
        {
         "lat": [
          18.234004137931034,
          18.010393333333333,
          18.334145555555555,
          18.4017525,
          17.696372500000006,
          18.4256475,
          18.052564999999998,
          18.309922500000006,
          18.334531428571427,
          18.318328,
          18.316996666666668,
          18.387494000000004,
          18.416185000000002
         ],
         "lon": [
          -64.26840620689656,
          -63.04445000000001,
          -64.94997666666666,
          -64.5972975,
          -64.75487625,
          -64.60922249999999,
          -65.83694,
          -64.93986,
          -64.92175285714286,
          -64.978538,
          -64.96177333333333,
          -64.649486,
          -64.60467
         ],
         "marker": {
          "color": [
           "blue",
           "blue",
           "blue",
           "blue",
           "blue",
           "blue",
           "blue",
           "blue",
           "blue",
           "blue",
           "blue",
           "blue",
           "blue"
          ],
          "line": {
           "color": "rgba(68, 68, 68, 0)",
           "width": 3
          },
          "size": [
           32,
           10,
           23,
           12,
           15,
           12,
           9,
           10,
           11,
           11,
           11,
           11,
           10
          ],
          "symbol": [
           "circle",
           "circle",
           "circle",
           "circle",
           "circle",
           "circle",
           "circle",
           "circle",
           "circle",
           "circle",
           "circle",
           "circle",
           "circle"
          ]
         },
         "name": "Hub End",
         "text": [
          "Port ID: -1",
          "Port ID: 0",
          "Port ID: 1",
          "Port ID: 2",
          "Port ID: 3",
          "Port ID: 4",
          "Port ID: 5",
          "Port ID: 6",
          "Port ID: 7",
          "Port ID: 8",
          "Port ID: 9",
          "Port ID: 10",
          "Port ID: 11"
         ],
         "type": "scattergeo"
        },
        {
         "lat": [
          18.00902,
          18.3357,
          18.40139,
          17.697020000000006,
          18.33567,
          18.40458,
          18.33565,
          18.42536,
          17.69705,
          18.33568,
          18.4255,
          17.980829999999994,
          17.902,
          18.428,
          18.01083,
          18.3312,
          18.33118,
          18.32483,
          18.33117,
          18.3165,
          18.33183,
          18.3175,
          18.31897,
          18.33453,
          18.08323,
          18.31699,
          18.43998,
          18.33487,
          18.33404,
          18.36627,
          18.31398,
          18.46958,
          18.49942,
          18.451320000000006,
          18.36354,
          18.35725,
          18.20458,
          18.01106,
          18.38635,
          18.38724,
          18.38795,
          18.33537,
          18.30803,
          18.42568,
          17.69641,
          18.5073,
          18.50643,
          17.695,
          18.42605,
          18.33498,
          17.696379999999994,
          18.33499,
          18.39787,
          17.69637,
          18.33508,
          17.69698,
          18.33534,
          18.31341,
          18.33536,
          18.40981,
          18.387999999999998,
          18.37755,
          18.24302,
          18.31699,
          17.69376,
          18.42069,
          18.31851,
          18.33439,
          18.41631,
          18.33461,
          18.403170000000006,
          18.02754,
          18.05256
         ],
         "lon": [
          -63.04453,
          -64.94765,
          -64.59435,
          -64.75511999999999,
          -64.94773,
          -64.6007,
          -64.94773,
          -64.60906999999999,
          -64.75514,
          -64.94769000000001,
          -64.60916999999999,
          -63.01767,
          -62.8535,
          -64.54033000000001,
          -63.08626999999999,
          -64.9253,
          -64.95378000000001,
          -64.956,
          -64.95416999999999,
          -64.96233000000001,
          -64.95366999999999,
          -64.962,
          -64.98143,
          -64.91981,
          -63.08523,
          -64.96099,
          -64.76456999999999,
          -64.92071999999999,
          -64.93056,
          -64.9262,
          -64.62568,
          -64.4166,
          -64.4154,
          -64.71363000000001,
          -64.75193,
          -64.5858,
          -63.10556999999999,
          -63.0444,
          -64.64599,
          -64.65055,
          -64.57721,
          -64.9494,
          -64.9409,
          -64.6092,
          -64.7549,
          -65.98343,
          -65.9584,
          -64.75421999999999,
          -64.60945,
          -64.94762,
          -64.7549,
          -64.94771999999999,
          -64.59661,
          -64.7549,
          -64.94773,
          -64.75522,
          -64.94941,
          -64.93812,
          -64.94927,
          -64.59768000000001,
          -64.65033000000001,
          -64.63505,
          -64.97816,
          -64.97870999999999,
          -64.74566,
          -64.60656,
          -64.97453,
          -64.94969,
          -64.60491,
          -64.94954,
          -64.59753,
          -64.12725,
          -65.83691999999999
         ],
         "marker": {
          "color": [
           "red",
           "red",
           "red",
           "red",
           "red",
           "red",
           "red",
           "red",
           "red",
           "red",
           "red",
           "red",
           "red",
           "red",
           "red",
           "red",
           "red",
           "red",
           "red",
           "red",
           "red",
           "red",
           "red",
           "red",
           "red",
           "red",
           "red",
           "red",
           "red",
           "red",
           "red",
           "red",
           "red",
           "red",
           "red",
           "red",
           "red",
           "red",
           "red",
           "red",
           "red",
           "red",
           "red",
           "red",
           "red",
           "red",
           "red",
           "red",
           "red",
           "red",
           "red",
           "red",
           "red",
           "red",
           "red",
           "red",
           "red",
           "red",
           "red",
           "red",
           "red",
           "red",
           "red",
           "red",
           "red",
           "red",
           "red",
           "red",
           "red",
           "red",
           "red",
           "red",
           "red"
          ],
          "line": {
           "color": "rgba(68, 68, 68, 0)",
           "width": 3
          },
          "size": [
           8,
           8,
           8,
           8,
           8,
           8,
           8,
           8,
           8,
           8,
           8,
           8,
           8,
           8,
           8,
           8,
           8,
           8,
           8,
           8,
           8,
           8,
           8,
           8,
           8,
           8,
           8,
           8,
           8,
           8,
           8,
           8,
           8,
           8,
           8,
           8,
           8,
           8,
           8,
           8,
           8,
           8,
           8,
           8,
           8,
           8,
           8,
           8,
           8,
           8,
           8,
           8,
           8,
           8,
           8,
           8,
           8,
           8,
           8,
           8,
           8,
           8,
           8,
           8,
           8,
           8,
           8,
           8,
           8,
           8,
           8,
           8,
           8
          ],
          "symbol": [
           "circle",
           "circle",
           "circle",
           "circle",
           "circle",
           "circle",
           "circle",
           "circle",
           "circle",
           "circle",
           "circle",
           "circle",
           "circle",
           "circle",
           "circle",
           "circle",
           "circle",
           "circle",
           "circle",
           "circle",
           "circle",
           "circle",
           "circle",
           "circle",
           "circle",
           "circle",
           "circle",
           "circle",
           "circle",
           "circle",
           "circle",
           "circle",
           "circle",
           "circle",
           "circle",
           "circle",
           "circle",
           "circle",
           "circle",
           "circle",
           "circle",
           "circle",
           "circle",
           "circle",
           "circle",
           "circle",
           "circle",
           "circle",
           "circle",
           "circle",
           "circle",
           "circle",
           "circle",
           "circle",
           "circle",
           "circle",
           "circle",
           "circle",
           "circle",
           "circle",
           "circle",
           "circle",
           "circle",
           "circle",
           "circle",
           "circle",
           "circle",
           "circle",
           "circle",
           "circle",
           "circle",
           "circle",
           "circle"
          ]
         },
         "name": "Spoke End",
         "text": [
          "MMSI: 209141000",
          "MMSI: 230185000",
          "MMSI: 230185000",
          "MMSI: 230185000",
          "MMSI: 230185000",
          "MMSI: 230185000",
          "MMSI: 230185000",
          "MMSI: 230185000",
          "MMSI: 230185000",
          "MMSI: 230185000",
          "MMSI: 230186000",
          "MMSI: 230186000",
          "MMSI: 230186000",
          "MMSI: 230186000",
          "MMSI: 235061952",
          "MMSI: 244826000",
          "MMSI: 305749000",
          "MMSI: 308311000",
          "MMSI: 308311000",
          "MMSI: 308311000",
          "MMSI: 308311000",
          "MMSI: 308311000",
          "MMSI: 311000160",
          "MMSI: 311000160",
          "MMSI: 311000506",
          "MMSI: 319063200",
          "MMSI: 319063200",
          "MMSI: 319594000",
          "MMSI: 319594000",
          "MMSI: 319723000",
          "MMSI: 319723000",
          "MMSI: 319723000",
          "MMSI: 319723000",
          "MMSI: 319723000",
          "MMSI: 319821000",
          "MMSI: 319821000",
          "MMSI: 325631000",
          "MMSI: 325631000",
          "MMSI: 370425000",
          "MMSI: 370425000",
          "MMSI: 370648000",
          "MMSI: 375902000",
          "MMSI: 375902000",
          "MMSI: 375902000",
          "MMSI: 377901024",
          "MMSI: 377901024",
          "MMSI: 377901024",
          "MMSI: 377901024",
          "MMSI: 377901024",
          "MMSI: 377901024",
          "MMSI: 377901024",
          "MMSI: 377901024",
          "MMSI: 377901024",
          "MMSI: 377901024",
          "MMSI: 377911000",
          "MMSI: 377911000",
          "MMSI: 377911000",
          "MMSI: 377911000",
          "MMSI: 377911000",
          "MMSI: 377911000",
          "MMSI: 538003870",
          "MMSI: 538003870",
          "MMSI: 564923000",
          "MMSI: 564923000",
          "MMSI: 565135000",
          "MMSI: 577365000",
          "MMSI: 577368000",
          "MMSI: 577368000",
          "MMSI: 577368000",
          "MMSI: 577368000",
          "MMSI: 577368000",
          "MMSI: 577368000",
          "MMSI: 636092495"
         ],
         "type": "scattergeo"
        },
        {
         "lat": [
          18.02078,
          18.234004137931034
         ],
         "line": {
          "color": "gray",
          "width": 0.5
         },
         "lon": [
          -63.11847,
          -64.26840620689656
         ],
         "mode": "lines",
         "opacity": 0.8,
         "showlegend": false,
         "type": "scattergeo"
        },
        {
         "lat": [
          18.234004137931034,
          18.010393333333333
         ],
         "line": {
          "color": "gray",
          "width": 0.5
         },
         "lon": [
          -64.26840620689656,
          -63.04445000000001
         ],
         "mode": "lines",
         "opacity": 0.8,
         "showlegend": false,
         "type": "scattergeo"
        },
        {
         "lat": [
          18.010393333333333,
          18.00902
         ],
         "line": {
          "color": "gray",
          "width": 0.5
         },
         "lon": [
          -63.04445000000001,
          -63.04453
         ],
         "mode": "lines",
         "opacity": 0.8,
         "showlegend": false,
         "type": "scattergeo"
        },
        {
         "lat": [
          18.08363,
          18.234004137931034
         ],
         "line": {
          "color": "gray",
          "width": 0.5
         },
         "lon": [
          -63.10032,
          -64.26840620689656
         ],
         "mode": "lines",
         "opacity": 0.8,
         "showlegend": false,
         "type": "scattergeo"
        },
        {
         "lat": [
          18.234004137931034,
          18.334145555555555
         ],
         "line": {
          "color": "gray",
          "width": 0.5
         },
         "lon": [
          -64.26840620689656,
          -64.94997666666666
         ],
         "mode": "lines",
         "opacity": 0.8,
         "showlegend": false,
         "type": "scattergeo"
        },
        {
         "lat": [
          18.334145555555555,
          18.3357
         ],
         "line": {
          "color": "gray",
          "width": 0.5
         },
         "lon": [
          -64.94997666666666,
          -64.94765
         ],
         "mode": "lines",
         "opacity": 0.8,
         "showlegend": false,
         "type": "scattergeo"
        },
        {
         "lat": [
          18.3357,
          18.334145555555555
         ],
         "line": {
          "color": "gray",
          "width": 0.5
         },
         "lon": [
          -64.94765,
          -64.94997666666666
         ],
         "mode": "lines",
         "opacity": 0.8,
         "showlegend": false,
         "type": "scattergeo"
        },
        {
         "lat": [
          18.334145555555555,
          18.4017525
         ],
         "line": {
          "color": "gray",
          "width": 0.5
         },
         "lon": [
          -64.94997666666666,
          -64.5972975
         ],
         "mode": "lines",
         "opacity": 0.8,
         "showlegend": false,
         "type": "scattergeo"
        },
        {
         "lat": [
          18.4017525,
          18.40139
         ],
         "line": {
          "color": "gray",
          "width": 0.5
         },
         "lon": [
          -64.5972975,
          -64.59435
         ],
         "mode": "lines",
         "opacity": 0.8,
         "showlegend": false,
         "type": "scattergeo"
        },
        {
         "lat": [
          18.40139,
          18.4017525
         ],
         "line": {
          "color": "gray",
          "width": 0.5
         },
         "lon": [
          -64.59435,
          -64.5972975
         ],
         "mode": "lines",
         "opacity": 0.8,
         "showlegend": false,
         "type": "scattergeo"
        },
        {
         "lat": [
          18.4017525,
          17.696372500000006
         ],
         "line": {
          "color": "gray",
          "width": 0.5
         },
         "lon": [
          -64.5972975,
          -64.75487625
         ],
         "mode": "lines",
         "opacity": 0.8,
         "showlegend": false,
         "type": "scattergeo"
        },
        {
         "lat": [
          17.696372500000006,
          17.697020000000006
         ],
         "line": {
          "color": "gray",
          "width": 0.5
         },
         "lon": [
          -64.75487625,
          -64.75511999999999
         ],
         "mode": "lines",
         "opacity": 0.8,
         "showlegend": false,
         "type": "scattergeo"
        },
        {
         "lat": [
          17.697020000000006,
          17.696372500000006
         ],
         "line": {
          "color": "gray",
          "width": 0.5
         },
         "lon": [
          -64.75511999999999,
          -64.75487625
         ],
         "mode": "lines",
         "opacity": 0.8,
         "showlegend": false,
         "type": "scattergeo"
        },
        {
         "lat": [
          17.696372500000006,
          18.334145555555555
         ],
         "line": {
          "color": "gray",
          "width": 0.5
         },
         "lon": [
          -64.75487625,
          -64.94997666666666
         ],
         "mode": "lines",
         "opacity": 0.8,
         "showlegend": false,
         "type": "scattergeo"
        },
        {
         "lat": [
          18.334145555555555,
          18.33567
         ],
         "line": {
          "color": "gray",
          "width": 0.5
         },
         "lon": [
          -64.94997666666666,
          -64.94773
         ],
         "mode": "lines",
         "opacity": 0.8,
         "showlegend": false,
         "type": "scattergeo"
        },
        {
         "lat": [
          18.33567,
          18.334145555555555
         ],
         "line": {
          "color": "gray",
          "width": 0.5
         },
         "lon": [
          -64.94773,
          -64.94997666666666
         ],
         "mode": "lines",
         "opacity": 0.8,
         "showlegend": false,
         "type": "scattergeo"
        },
        {
         "lat": [
          18.334145555555555,
          18.4017525
         ],
         "line": {
          "color": "gray",
          "width": 0.5
         },
         "lon": [
          -64.94997666666666,
          -64.5972975
         ],
         "mode": "lines",
         "opacity": 0.8,
         "showlegend": false,
         "type": "scattergeo"
        },
        {
         "lat": [
          18.4017525,
          18.40458
         ],
         "line": {
          "color": "gray",
          "width": 0.5
         },
         "lon": [
          -64.5972975,
          -64.6007
         ],
         "mode": "lines",
         "opacity": 0.8,
         "showlegend": false,
         "type": "scattergeo"
        },
        {
         "lat": [
          18.40458,
          18.4017525
         ],
         "line": {
          "color": "gray",
          "width": 0.5
         },
         "lon": [
          -64.6007,
          -64.5972975
         ],
         "mode": "lines",
         "opacity": 0.8,
         "showlegend": false,
         "type": "scattergeo"
        },
        {
         "lat": [
          18.4017525,
          18.334145555555555
         ],
         "line": {
          "color": "gray",
          "width": 0.5
         },
         "lon": [
          -64.5972975,
          -64.94997666666666
         ],
         "mode": "lines",
         "opacity": 0.8,
         "showlegend": false,
         "type": "scattergeo"
        },
        {
         "lat": [
          18.334145555555555,
          18.33565
         ],
         "line": {
          "color": "gray",
          "width": 0.5
         },
         "lon": [
          -64.94997666666666,
          -64.94773
         ],
         "mode": "lines",
         "opacity": 0.8,
         "showlegend": false,
         "type": "scattergeo"
        },
        {
         "lat": [
          18.33565,
          18.334145555555555
         ],
         "line": {
          "color": "gray",
          "width": 0.5
         },
         "lon": [
          -64.94773,
          -64.94997666666666
         ],
         "mode": "lines",
         "opacity": 0.8,
         "showlegend": false,
         "type": "scattergeo"
        },
        {
         "lat": [
          18.334145555555555,
          18.4256475
         ],
         "line": {
          "color": "gray",
          "width": 0.5
         },
         "lon": [
          -64.94997666666666,
          -64.60922249999999
         ],
         "mode": "lines",
         "opacity": 0.8,
         "showlegend": false,
         "type": "scattergeo"
        },
        {
         "lat": [
          18.4256475,
          18.42536
         ],
         "line": {
          "color": "gray",
          "width": 0.5
         },
         "lon": [
          -64.60922249999999,
          -64.60906999999999
         ],
         "mode": "lines",
         "opacity": 0.8,
         "showlegend": false,
         "type": "scattergeo"
        },
        {
         "lat": [
          18.42536,
          18.4256475
         ],
         "line": {
          "color": "gray",
          "width": 0.5
         },
         "lon": [
          -64.60906999999999,
          -64.60922249999999
         ],
         "mode": "lines",
         "opacity": 0.8,
         "showlegend": false,
         "type": "scattergeo"
        },
        {
         "lat": [
          18.4256475,
          17.696372500000006
         ],
         "line": {
          "color": "gray",
          "width": 0.5
         },
         "lon": [
          -64.60922249999999,
          -64.75487625
         ],
         "mode": "lines",
         "opacity": 0.8,
         "showlegend": false,
         "type": "scattergeo"
        },
        {
         "lat": [
          17.696372500000006,
          17.69705
         ],
         "line": {
          "color": "gray",
          "width": 0.5
         },
         "lon": [
          -64.75487625,
          -64.75514
         ],
         "mode": "lines",
         "opacity": 0.8,
         "showlegend": false,
         "type": "scattergeo"
        },
        {
         "lat": [
          17.69705,
          17.696372500000006
         ],
         "line": {
          "color": "gray",
          "width": 0.5
         },
         "lon": [
          -64.75514,
          -64.75487625
         ],
         "mode": "lines",
         "opacity": 0.8,
         "showlegend": false,
         "type": "scattergeo"
        },
        {
         "lat": [
          17.696372500000006,
          18.334145555555555
         ],
         "line": {
          "color": "gray",
          "width": 0.5
         },
         "lon": [
          -64.75487625,
          -64.94997666666666
         ],
         "mode": "lines",
         "opacity": 0.8,
         "showlegend": false,
         "type": "scattergeo"
        },
        {
         "lat": [
          18.334145555555555,
          18.33568
         ],
         "line": {
          "color": "gray",
          "width": 0.5
         },
         "lon": [
          -64.94997666666666,
          -64.94769000000001
         ],
         "mode": "lines",
         "opacity": 0.8,
         "showlegend": false,
         "type": "scattergeo"
        },
        {
         "lat": [
          18.04533,
          18.234004137931034
         ],
         "line": {
          "color": "gray",
          "width": 0.5
         },
         "lon": [
          -63.26067,
          -64.26840620689656
         ],
         "mode": "lines",
         "opacity": 0.8,
         "showlegend": false,
         "type": "scattergeo"
        },
        {
         "lat": [
          18.234004137931034,
          18.4256475
         ],
         "line": {
          "color": "gray",
          "width": 0.5
         },
         "lon": [
          -64.26840620689656,
          -64.60922249999999
         ],
         "mode": "lines",
         "opacity": 0.8,
         "showlegend": false,
         "type": "scattergeo"
        },
        {
         "lat": [
          18.4256475,
          18.4255
         ],
         "line": {
          "color": "gray",
          "width": 0.5
         },
         "lon": [
          -64.60922249999999,
          -64.60916999999999
         ],
         "mode": "lines",
         "opacity": 0.8,
         "showlegend": false,
         "type": "scattergeo"
        },
        {
         "lat": [
          18.4255,
          18.4256475
         ],
         "line": {
          "color": "gray",
          "width": 0.5
         },
         "lon": [
          -64.60916999999999,
          -64.60922249999999
         ],
         "mode": "lines",
         "opacity": 0.8,
         "showlegend": false,
         "type": "scattergeo"
        },
        {
         "lat": [
          18.4256475,
          18.234004137931034
         ],
         "line": {
          "color": "gray",
          "width": 0.5
         },
         "lon": [
          -64.60922249999999,
          -64.26840620689656
         ],
         "mode": "lines",
         "opacity": 0.8,
         "showlegend": false,
         "type": "scattergeo"
        },
        {
         "lat": [
          18.234004137931034,
          17.980829999999994
         ],
         "line": {
          "color": "gray",
          "width": 0.5
         },
         "lon": [
          -64.26840620689656,
          -63.01767
         ],
         "mode": "lines",
         "opacity": 0.8,
         "showlegend": false,
         "type": "scattergeo"
        },
        {
         "lat": [
          17.980829999999994,
          18.234004137931034
         ],
         "line": {
          "color": "gray",
          "width": 0.5
         },
         "lon": [
          -63.01767,
          -64.26840620689656
         ],
         "mode": "lines",
         "opacity": 0.8,
         "showlegend": false,
         "type": "scattergeo"
        },
        {
         "lat": [
          18.234004137931034,
          18.234004137931034
         ],
         "line": {
          "color": "gray",
          "width": 0.5
         },
         "lon": [
          -64.26840620689656,
          -64.26840620689656
         ],
         "mode": "lines",
         "opacity": 0.8,
         "showlegend": false,
         "type": "scattergeo"
        },
        {
         "lat": [
          18.234004137931034,
          17.902
         ],
         "line": {
          "color": "gray",
          "width": 0.5
         },
         "lon": [
          -64.26840620689656,
          -62.8535
         ],
         "mode": "lines",
         "opacity": 0.8,
         "showlegend": false,
         "type": "scattergeo"
        },
        {
         "lat": [
          17.902,
          18.234004137931034
         ],
         "line": {
          "color": "gray",
          "width": 0.5
         },
         "lon": [
          -62.8535,
          -64.26840620689656
         ],
         "mode": "lines",
         "opacity": 0.8,
         "showlegend": false,
         "type": "scattergeo"
        },
        {
         "lat": [
          18.234004137931034,
          18.234004137931034
         ],
         "line": {
          "color": "gray",
          "width": 0.5
         },
         "lon": [
          -64.26840620689656,
          -64.26840620689656
         ],
         "mode": "lines",
         "opacity": 0.8,
         "showlegend": false,
         "type": "scattergeo"
        },
        {
         "lat": [
          18.234004137931034,
          18.428
         ],
         "line": {
          "color": "gray",
          "width": 0.5
         },
         "lon": [
          -64.26840620689656,
          -64.54033000000001
         ],
         "mode": "lines",
         "opacity": 0.8,
         "showlegend": false,
         "type": "scattergeo"
        },
        {
         "lat": [
          18.052570000000006,
          18.052564999999998
         ],
         "line": {
          "color": "gray",
          "width": 0.5
         },
         "lon": [
          -65.83695999999999,
          -65.83694
         ],
         "mode": "lines",
         "opacity": 0.8,
         "showlegend": false,
         "type": "scattergeo"
        },
        {
         "lat": [
          18.052564999999998,
          18.234004137931034
         ],
         "line": {
          "color": "gray",
          "width": 0.5
         },
         "lon": [
          -65.83694,
          -64.26840620689656
         ],
         "mode": "lines",
         "opacity": 0.8,
         "showlegend": false,
         "type": "scattergeo"
        },
        {
         "lat": [
          18.234004137931034,
          18.01083
         ],
         "line": {
          "color": "gray",
          "width": 0.5
         },
         "lon": [
          -64.26840620689656,
          -63.08626999999999
         ],
         "mode": "lines",
         "opacity": 0.8,
         "showlegend": false,
         "type": "scattergeo"
        },
        {
         "lat": [
          18.31062,
          18.309922500000006
         ],
         "line": {
          "color": "gray",
          "width": 0.5
         },
         "lon": [
          -64.9413,
          -64.93986
         ],
         "mode": "lines",
         "opacity": 0.8,
         "showlegend": false,
         "type": "scattergeo"
        },
        {
         "lat": [
          18.309922500000006,
          18.334531428571427
         ],
         "line": {
          "color": "gray",
          "width": 0.5
         },
         "lon": [
          -64.93986,
          -64.92175285714286
         ],
         "mode": "lines",
         "opacity": 0.8,
         "showlegend": false,
         "type": "scattergeo"
        },
        {
         "lat": [
          18.334531428571427,
          18.3312
         ],
         "line": {
          "color": "gray",
          "width": 0.5
         },
         "lon": [
          -64.92175285714286,
          -64.9253
         ],
         "mode": "lines",
         "opacity": 0.8,
         "showlegend": false,
         "type": "scattergeo"
        },
        {
         "lat": [
          18.31904,
          18.318328
         ],
         "line": {
          "color": "gray",
          "width": 0.5
         },
         "lon": [
          -64.97835,
          -64.978538
         ],
         "mode": "lines",
         "opacity": 0.8,
         "showlegend": false,
         "type": "scattergeo"
        },
        {
         "lat": [
          18.318328,
          18.334145555555555
         ],
         "line": {
          "color": "gray",
          "width": 0.5
         },
         "lon": [
          -64.978538,
          -64.94997666666666
         ],
         "mode": "lines",
         "opacity": 0.8,
         "showlegend": false,
         "type": "scattergeo"
        },
        {
         "lat": [
          18.334145555555555,
          18.33118
         ],
         "line": {
          "color": "gray",
          "width": 0.5
         },
         "lon": [
          -64.94997666666666,
          -64.95378000000001
         ],
         "mode": "lines",
         "opacity": 0.8,
         "showlegend": false,
         "type": "scattergeo"
        },
        {
         "lat": [
          18.33117,
          18.334145555555555
         ],
         "line": {
          "color": "gray",
          "width": 0.5
         },
         "lon": [
          -64.95433,
          -64.94997666666666
         ],
         "mode": "lines",
         "opacity": 0.8,
         "showlegend": false,
         "type": "scattergeo"
        },
        {
         "lat": [
          18.334145555555555,
          18.234004137931034
         ],
         "line": {
          "color": "gray",
          "width": 0.5
         },
         "lon": [
          -64.94997666666666,
          -64.26840620689656
         ],
         "mode": "lines",
         "opacity": 0.8,
         "showlegend": false,
         "type": "scattergeo"
        },
        {
         "lat": [
          18.234004137931034,
          18.32483
         ],
         "line": {
          "color": "gray",
          "width": 0.5
         },
         "lon": [
          -64.26840620689656,
          -64.956
         ],
         "mode": "lines",
         "opacity": 0.8,
         "showlegend": false,
         "type": "scattergeo"
        },
        {
         "lat": [
          18.32483,
          18.234004137931034
         ],
         "line": {
          "color": "gray",
          "width": 0.5
         },
         "lon": [
          -64.956,
          -64.26840620689656
         ],
         "mode": "lines",
         "opacity": 0.8,
         "showlegend": false,
         "type": "scattergeo"
        },
        {
         "lat": [
          18.234004137931034,
          18.334145555555555
         ],
         "line": {
          "color": "gray",
          "width": 0.5
         },
         "lon": [
          -64.26840620689656,
          -64.94997666666666
         ],
         "mode": "lines",
         "opacity": 0.8,
         "showlegend": false,
         "type": "scattergeo"
        },
        {
         "lat": [
          18.334145555555555,
          18.33117
         ],
         "line": {
          "color": "gray",
          "width": 0.5
         },
         "lon": [
          -64.94997666666666,
          -64.95416999999999
         ],
         "mode": "lines",
         "opacity": 0.8,
         "showlegend": false,
         "type": "scattergeo"
        },
        {
         "lat": [
          18.33117,
          18.334145555555555
         ],
         "line": {
          "color": "gray",
          "width": 0.5
         },
         "lon": [
          -64.95416999999999,
          -64.94997666666666
         ],
         "mode": "lines",
         "opacity": 0.8,
         "showlegend": false,
         "type": "scattergeo"
        },
        {
         "lat": [
          18.334145555555555,
          18.316996666666668
         ],
         "line": {
          "color": "gray",
          "width": 0.5
         },
         "lon": [
          -64.94997666666666,
          -64.96177333333333
         ],
         "mode": "lines",
         "opacity": 0.8,
         "showlegend": false,
         "type": "scattergeo"
        },
        {
         "lat": [
          18.316996666666668,
          18.3165
         ],
         "line": {
          "color": "gray",
          "width": 0.5
         },
         "lon": [
          -64.96177333333333,
          -64.96233000000001
         ],
         "mode": "lines",
         "opacity": 0.8,
         "showlegend": false,
         "type": "scattergeo"
        },
        {
         "lat": [
          18.3165,
          18.316996666666668
         ],
         "line": {
          "color": "gray",
          "width": 0.5
         },
         "lon": [
          -64.96233000000001,
          -64.96177333333333
         ],
         "mode": "lines",
         "opacity": 0.8,
         "showlegend": false,
         "type": "scattergeo"
        },
        {
         "lat": [
          18.316996666666668,
          18.334145555555555
         ],
         "line": {
          "color": "gray",
          "width": 0.5
         },
         "lon": [
          -64.96177333333333,
          -64.94997666666666
         ],
         "mode": "lines",
         "opacity": 0.8,
         "showlegend": false,
         "type": "scattergeo"
        },
        {
         "lat": [
          18.334145555555555,
          18.33183
         ],
         "line": {
          "color": "gray",
          "width": 0.5
         },
         "lon": [
          -64.94997666666666,
          -64.95366999999999
         ],
         "mode": "lines",
         "opacity": 0.8,
         "showlegend": false,
         "type": "scattergeo"
        },
        {
         "lat": [
          18.33183,
          18.334145555555555
         ],
         "line": {
          "color": "gray",
          "width": 0.5
         },
         "lon": [
          -64.95366999999999,
          -64.94997666666666
         ],
         "mode": "lines",
         "opacity": 0.8,
         "showlegend": false,
         "type": "scattergeo"
        },
        {
         "lat": [
          18.334145555555555,
          18.316996666666668
         ],
         "line": {
          "color": "gray",
          "width": 0.5
         },
         "lon": [
          -64.94997666666666,
          -64.96177333333333
         ],
         "mode": "lines",
         "opacity": 0.8,
         "showlegend": false,
         "type": "scattergeo"
        },
        {
         "lat": [
          18.316996666666668,
          18.3175
         ],
         "line": {
          "color": "gray",
          "width": 0.5
         },
         "lon": [
          -64.96177333333333,
          -64.962
         ],
         "mode": "lines",
         "opacity": 0.8,
         "showlegend": false,
         "type": "scattergeo"
        },
        {
         "lat": [
          18.33188,
          18.334145555555555
         ],
         "line": {
          "color": "gray",
          "width": 0.5
         },
         "lon": [
          -64.95286999999999,
          -64.94997666666666
         ],
         "mode": "lines",
         "opacity": 0.8,
         "showlegend": false,
         "type": "scattergeo"
        },
        {
         "lat": [
          18.334145555555555,
          18.318328
         ],
         "line": {
          "color": "gray",
          "width": 0.5
         },
         "lon": [
          -64.94997666666666,
          -64.978538
         ],
         "mode": "lines",
         "opacity": 0.8,
         "showlegend": false,
         "type": "scattergeo"
        },
        {
         "lat": [
          18.318328,
          18.31897
         ],
         "line": {
          "color": "gray",
          "width": 0.5
         },
         "lon": [
          -64.978538,
          -64.98143
         ],
         "mode": "lines",
         "opacity": 0.8,
         "showlegend": false,
         "type": "scattergeo"
        },
        {
         "lat": [
          18.31897,
          18.318328
         ],
         "line": {
          "color": "gray",
          "width": 0.5
         },
         "lon": [
          -64.98143,
          -64.978538
         ],
         "mode": "lines",
         "opacity": 0.8,
         "showlegend": false,
         "type": "scattergeo"
        },
        {
         "lat": [
          18.318328,
          18.334531428571427
         ],
         "line": {
          "color": "gray",
          "width": 0.5
         },
         "lon": [
          -64.978538,
          -64.92175285714286
         ],
         "mode": "lines",
         "opacity": 0.8,
         "showlegend": false,
         "type": "scattergeo"
        },
        {
         "lat": [
          18.334531428571427,
          18.33453
         ],
         "line": {
          "color": "gray",
          "width": 0.5
         },
         "lon": [
          -64.92175285714286,
          -64.91981
         ],
         "mode": "lines",
         "opacity": 0.8,
         "showlegend": false,
         "type": "scattergeo"
        },
        {
         "lat": [
          17.6433,
          18.234004137931034
         ],
         "line": {
          "color": "gray",
          "width": 0.5
         },
         "lon": [
          -63.25713,
          -64.26840620689656
         ],
         "mode": "lines",
         "opacity": 0.8,
         "showlegend": false,
         "type": "scattergeo"
        },
        {
         "lat": [
          18.234004137931034,
          18.234004137931034
         ],
         "line": {
          "color": "gray",
          "width": 0.5
         },
         "lon": [
          -64.26840620689656,
          -64.26840620689656
         ],
         "mode": "lines",
         "opacity": 0.8,
         "showlegend": false,
         "type": "scattergeo"
        },
        {
         "lat": [
          18.234004137931034,
          18.08323
         ],
         "line": {
          "color": "gray",
          "width": 0.5
         },
         "lon": [
          -64.26840620689656,
          -63.08523
         ],
         "mode": "lines",
         "opacity": 0.8,
         "showlegend": false,
         "type": "scattergeo"
        },
        {
         "lat": [
          18.33625,
          18.334531428571427
         ],
         "line": {
          "color": "gray",
          "width": 0.5
         },
         "lon": [
          -64.92115,
          -64.92175285714286
         ],
         "mode": "lines",
         "opacity": 0.8,
         "showlegend": false,
         "type": "scattergeo"
        },
        {
         "lat": [
          18.334531428571427,
          18.316996666666668
         ],
         "line": {
          "color": "gray",
          "width": 0.5
         },
         "lon": [
          -64.92175285714286,
          -64.96177333333333
         ],
         "mode": "lines",
         "opacity": 0.8,
         "showlegend": false,
         "type": "scattergeo"
        },
        {
         "lat": [
          18.316996666666668,
          18.31699
         ],
         "line": {
          "color": "gray",
          "width": 0.5
         },
         "lon": [
          -64.96177333333333,
          -64.96099
         ],
         "mode": "lines",
         "opacity": 0.8,
         "showlegend": false,
         "type": "scattergeo"
        },
        {
         "lat": [
          18.31699,
          18.316996666666668
         ],
         "line": {
          "color": "gray",
          "width": 0.5
         },
         "lon": [
          -64.96099,
          -64.96177333333333
         ],
         "mode": "lines",
         "opacity": 0.8,
         "showlegend": false,
         "type": "scattergeo"
        },
        {
         "lat": [
          18.316996666666668,
          18.234004137931034
         ],
         "line": {
          "color": "gray",
          "width": 0.5
         },
         "lon": [
          -64.96177333333333,
          -64.26840620689656
         ],
         "mode": "lines",
         "opacity": 0.8,
         "showlegend": false,
         "type": "scattergeo"
        },
        {
         "lat": [
          18.234004137931034,
          18.43998
         ],
         "line": {
          "color": "gray",
          "width": 0.5
         },
         "lon": [
          -64.26840620689656,
          -64.76456999999999
         ],
         "mode": "lines",
         "opacity": 0.8,
         "showlegend": false,
         "type": "scattergeo"
        },
        {
         "lat": [
          18.33486,
          18.334531428571427
         ],
         "line": {
          "color": "gray",
          "width": 0.5
         },
         "lon": [
          -64.92073,
          -64.92175285714286
         ],
         "mode": "lines",
         "opacity": 0.8,
         "showlegend": false,
         "type": "scattergeo"
        },
        {
         "lat": [
          18.334531428571427,
          18.334531428571427
         ],
         "line": {
          "color": "gray",
          "width": 0.5
         },
         "lon": [
          -64.92175285714286,
          -64.92175285714286
         ],
         "mode": "lines",
         "opacity": 0.8,
         "showlegend": false,
         "type": "scattergeo"
        },
        {
         "lat": [
          18.334531428571427,
          18.33487
         ],
         "line": {
          "color": "gray",
          "width": 0.5
         },
         "lon": [
          -64.92175285714286,
          -64.92071999999999
         ],
         "mode": "lines",
         "opacity": 0.8,
         "showlegend": false,
         "type": "scattergeo"
        },
        {
         "lat": [
          18.33487,
          18.334531428571427
         ],
         "line": {
          "color": "gray",
          "width": 0.5
         },
         "lon": [
          -64.92071999999999,
          -64.92175285714286
         ],
         "mode": "lines",
         "opacity": 0.8,
         "showlegend": false,
         "type": "scattergeo"
        },
        {
         "lat": [
          18.334531428571427,
          18.234004137931034
         ],
         "line": {
          "color": "gray",
          "width": 0.5
         },
         "lon": [
          -64.92175285714286,
          -64.26840620689656
         ],
         "mode": "lines",
         "opacity": 0.8,
         "showlegend": false,
         "type": "scattergeo"
        },
        {
         "lat": [
          18.234004137931034,
          18.33404
         ],
         "line": {
          "color": "gray",
          "width": 0.5
         },
         "lon": [
          -64.26840620689656,
          -64.93056
         ],
         "mode": "lines",
         "opacity": 0.8,
         "showlegend": false,
         "type": "scattergeo"
        },
        {
         "lat": [
          18.33483,
          18.334531428571427
         ],
         "line": {
          "color": "gray",
          "width": 0.5
         },
         "lon": [
          -64.92182,
          -64.92175285714286
         ],
         "mode": "lines",
         "opacity": 0.8,
         "showlegend": false,
         "type": "scattergeo"
        },
        {
         "lat": [
          18.334531428571427,
          18.234004137931034
         ],
         "line": {
          "color": "gray",
          "width": 0.5
         },
         "lon": [
          -64.92175285714286,
          -64.26840620689656
         ],
         "mode": "lines",
         "opacity": 0.8,
         "showlegend": false,
         "type": "scattergeo"
        },
        {
         "lat": [
          18.234004137931034,
          18.36627
         ],
         "line": {
          "color": "gray",
          "width": 0.5
         },
         "lon": [
          -64.26840620689656,
          -64.9262
         ],
         "mode": "lines",
         "opacity": 0.8,
         "showlegend": false,
         "type": "scattergeo"
        },
        {
         "lat": [
          18.36627,
          18.234004137931034
         ],
         "line": {
          "color": "gray",
          "width": 0.5
         },
         "lon": [
          -64.9262,
          -64.26840620689656
         ],
         "mode": "lines",
         "opacity": 0.8,
         "showlegend": false,
         "type": "scattergeo"
        },
        {
         "lat": [
          18.234004137931034,
          18.234004137931034
         ],
         "line": {
          "color": "gray",
          "width": 0.5
         },
         "lon": [
          -64.26840620689656,
          -64.26840620689656
         ],
         "mode": "lines",
         "opacity": 0.8,
         "showlegend": false,
         "type": "scattergeo"
        },
        {
         "lat": [
          18.234004137931034,
          18.31398
         ],
         "line": {
          "color": "gray",
          "width": 0.5
         },
         "lon": [
          -64.26840620689656,
          -64.62568
         ],
         "mode": "lines",
         "opacity": 0.8,
         "showlegend": false,
         "type": "scattergeo"
        },
        {
         "lat": [
          18.31398,
          18.234004137931034
         ],
         "line": {
          "color": "gray",
          "width": 0.5
         },
         "lon": [
          -64.62568,
          -64.26840620689656
         ],
         "mode": "lines",
         "opacity": 0.8,
         "showlegend": false,
         "type": "scattergeo"
        },
        {
         "lat": [
          18.234004137931034,
          18.234004137931034
         ],
         "line": {
          "color": "gray",
          "width": 0.5
         },
         "lon": [
          -64.26840620689656,
          -64.26840620689656
         ],
         "mode": "lines",
         "opacity": 0.8,
         "showlegend": false,
         "type": "scattergeo"
        },
        {
         "lat": [
          18.234004137931034,
          18.46958
         ],
         "line": {
          "color": "gray",
          "width": 0.5
         },
         "lon": [
          -64.26840620689656,
          -64.4166
         ],
         "mode": "lines",
         "opacity": 0.8,
         "showlegend": false,
         "type": "scattergeo"
        },
        {
         "lat": [
          18.46958,
          18.234004137931034
         ],
         "line": {
          "color": "gray",
          "width": 0.5
         },
         "lon": [
          -64.4166,
          -64.26840620689656
         ],
         "mode": "lines",
         "opacity": 0.8,
         "showlegend": false,
         "type": "scattergeo"
        },
        {
         "lat": [
          18.234004137931034,
          18.234004137931034
         ],
         "line": {
          "color": "gray",
          "width": 0.5
         },
         "lon": [
          -64.26840620689656,
          -64.26840620689656
         ],
         "mode": "lines",
         "opacity": 0.8,
         "showlegend": false,
         "type": "scattergeo"
        },
        {
         "lat": [
          18.234004137931034,
          18.49942
         ],
         "line": {
          "color": "gray",
          "width": 0.5
         },
         "lon": [
          -64.26840620689656,
          -64.4154
         ],
         "mode": "lines",
         "opacity": 0.8,
         "showlegend": false,
         "type": "scattergeo"
        },
        {
         "lat": [
          18.49942,
          18.234004137931034
         ],
         "line": {
          "color": "gray",
          "width": 0.5
         },
         "lon": [
          -64.4154,
          -64.26840620689656
         ],
         "mode": "lines",
         "opacity": 0.8,
         "showlegend": false,
         "type": "scattergeo"
        },
        {
         "lat": [
          18.234004137931034,
          18.234004137931034
         ],
         "line": {
          "color": "gray",
          "width": 0.5
         },
         "lon": [
          -64.26840620689656,
          -64.26840620689656
         ],
         "mode": "lines",
         "opacity": 0.8,
         "showlegend": false,
         "type": "scattergeo"
        },
        {
         "lat": [
          18.234004137931034,
          18.451320000000006
         ],
         "line": {
          "color": "gray",
          "width": 0.5
         },
         "lon": [
          -64.26840620689656,
          -64.71363000000001
         ],
         "mode": "lines",
         "opacity": 0.8,
         "showlegend": false,
         "type": "scattergeo"
        },
        {
         "lat": [
          18.33518,
          18.334531428571427
         ],
         "line": {
          "color": "gray",
          "width": 0.5
         },
         "lon": [
          -64.92274,
          -64.92175285714286
         ],
         "mode": "lines",
         "opacity": 0.8,
         "showlegend": false,
         "type": "scattergeo"
        },
        {
         "lat": [
          18.334531428571427,
          18.234004137931034
         ],
         "line": {
          "color": "gray",
          "width": 0.5
         },
         "lon": [
          -64.92175285714286,
          -64.26840620689656
         ],
         "mode": "lines",
         "opacity": 0.8,
         "showlegend": false,
         "type": "scattergeo"
        },
        {
         "lat": [
          18.234004137931034,
          18.36354
         ],
         "line": {
          "color": "gray",
          "width": 0.5
         },
         "lon": [
          -64.26840620689656,
          -64.75193
         ],
         "mode": "lines",
         "opacity": 0.8,
         "showlegend": false,
         "type": "scattergeo"
        },
        {
         "lat": [
          18.36354,
          18.234004137931034
         ],
         "line": {
          "color": "gray",
          "width": 0.5
         },
         "lon": [
          -64.75193,
          -64.26840620689656
         ],
         "mode": "lines",
         "opacity": 0.8,
         "showlegend": false,
         "type": "scattergeo"
        },
        {
         "lat": [
          18.234004137931034,
          18.234004137931034
         ],
         "line": {
          "color": "gray",
          "width": 0.5
         },
         "lon": [
          -64.26840620689656,
          -64.26840620689656
         ],
         "mode": "lines",
         "opacity": 0.8,
         "showlegend": false,
         "type": "scattergeo"
        },
        {
         "lat": [
          18.234004137931034,
          18.35725
         ],
         "line": {
          "color": "gray",
          "width": 0.5
         },
         "lon": [
          -64.26840620689656,
          -64.5858
         ],
         "mode": "lines",
         "opacity": 0.8,
         "showlegend": false,
         "type": "scattergeo"
        },
        {
         "lat": [
          18.0111,
          18.010393333333333
         ],
         "line": {
          "color": "gray",
          "width": 0.5
         },
         "lon": [
          -63.04442,
          -63.04445000000001
         ],
         "mode": "lines",
         "opacity": 0.8,
         "showlegend": false,
         "type": "scattergeo"
        },
        {
         "lat": [
          18.010393333333333,
          18.234004137931034
         ],
         "line": {
          "color": "gray",
          "width": 0.5
         },
         "lon": [
          -63.04445000000001,
          -64.26840620689656
         ],
         "mode": "lines",
         "opacity": 0.8,
         "showlegend": false,
         "type": "scattergeo"
        },
        {
         "lat": [
          18.234004137931034,
          18.20458
         ],
         "line": {
          "color": "gray",
          "width": 0.5
         },
         "lon": [
          -64.26840620689656,
          -63.10556999999999
         ],
         "mode": "lines",
         "opacity": 0.8,
         "showlegend": false,
         "type": "scattergeo"
        },
        {
         "lat": [
          18.20458,
          18.234004137931034
         ],
         "line": {
          "color": "gray",
          "width": 0.5
         },
         "lon": [
          -63.10556999999999,
          -64.26840620689656
         ],
         "mode": "lines",
         "opacity": 0.8,
         "showlegend": false,
         "type": "scattergeo"
        },
        {
         "lat": [
          18.234004137931034,
          18.010393333333333
         ],
         "line": {
          "color": "gray",
          "width": 0.5
         },
         "lon": [
          -64.26840620689656,
          -63.04445000000001
         ],
         "mode": "lines",
         "opacity": 0.8,
         "showlegend": false,
         "type": "scattergeo"
        },
        {
         "lat": [
          18.010393333333333,
          18.01106
         ],
         "line": {
          "color": "gray",
          "width": 0.5
         },
         "lon": [
          -63.04445000000001,
          -63.0444
         ],
         "mode": "lines",
         "opacity": 0.8,
         "showlegend": false,
         "type": "scattergeo"
        },
        {
         "lat": [
          18.38771,
          18.387494000000004
         ],
         "line": {
          "color": "gray",
          "width": 0.5
         },
         "lon": [
          -64.65031,
          -64.649486
         ],
         "mode": "lines",
         "opacity": 0.8,
         "showlegend": false,
         "type": "scattergeo"
        },
        {
         "lat": [
          18.387494000000004,
          18.387494000000004
         ],
         "line": {
          "color": "gray",
          "width": 0.5
         },
         "lon": [
          -64.649486,
          -64.649486
         ],
         "mode": "lines",
         "opacity": 0.8,
         "showlegend": false,
         "type": "scattergeo"
        },
        {
         "lat": [
          18.387494000000004,
          18.38635
         ],
         "line": {
          "color": "gray",
          "width": 0.5
         },
         "lon": [
          -64.649486,
          -64.64599
         ],
         "mode": "lines",
         "opacity": 0.8,
         "showlegend": false,
         "type": "scattergeo"
        },
        {
         "lat": [
          18.38635,
          18.387494000000004
         ],
         "line": {
          "color": "gray",
          "width": 0.5
         },
         "lon": [
          -64.64599,
          -64.649486
         ],
         "mode": "lines",
         "opacity": 0.8,
         "showlegend": false,
         "type": "scattergeo"
        },
        {
         "lat": [
          18.387494000000004,
          18.387494000000004
         ],
         "line": {
          "color": "gray",
          "width": 0.5
         },
         "lon": [
          -64.649486,
          -64.649486
         ],
         "mode": "lines",
         "opacity": 0.8,
         "showlegend": false,
         "type": "scattergeo"
        },
        {
         "lat": [
          18.387494000000004,
          18.38724
         ],
         "line": {
          "color": "gray",
          "width": 0.5
         },
         "lon": [
          -64.649486,
          -64.65055
         ],
         "mode": "lines",
         "opacity": 0.8,
         "showlegend": false,
         "type": "scattergeo"
        },
        {
         "lat": [
          18.41416,
          18.416185000000002
         ],
         "line": {
          "color": "gray",
          "width": 0.5
         },
         "lon": [
          -64.6043,
          -64.60467
         ],
         "mode": "lines",
         "opacity": 0.8,
         "showlegend": false,
         "type": "scattergeo"
        },
        {
         "lat": [
          18.416185000000002,
          18.234004137931034
         ],
         "line": {
          "color": "gray",
          "width": 0.5
         },
         "lon": [
          -64.60467,
          -64.26840620689656
         ],
         "mode": "lines",
         "opacity": 0.8,
         "showlegend": false,
         "type": "scattergeo"
        },
        {
         "lat": [
          18.234004137931034,
          18.38795
         ],
         "line": {
          "color": "gray",
          "width": 0.5
         },
         "lon": [
          -64.26840620689656,
          -64.57721
         ],
         "mode": "lines",
         "opacity": 0.8,
         "showlegend": false,
         "type": "scattergeo"
        },
        {
         "lat": [
          18.30763,
          18.309922500000006
         ],
         "line": {
          "color": "gray",
          "width": 0.5
         },
         "lon": [
          -64.93911999999999,
          -64.93986
         ],
         "mode": "lines",
         "opacity": 0.8,
         "showlegend": false,
         "type": "scattergeo"
        },
        {
         "lat": [
          18.309922500000006,
          18.334145555555555
         ],
         "line": {
          "color": "gray",
          "width": 0.5
         },
         "lon": [
          -64.93986,
          -64.94997666666666
         ],
         "mode": "lines",
         "opacity": 0.8,
         "showlegend": false,
         "type": "scattergeo"
        },
        {
         "lat": [
          18.334145555555555,
          18.33537
         ],
         "line": {
          "color": "gray",
          "width": 0.5
         },
         "lon": [
          -64.94997666666666,
          -64.9494
         ],
         "mode": "lines",
         "opacity": 0.8,
         "showlegend": false,
         "type": "scattergeo"
        },
        {
         "lat": [
          18.33537,
          18.334145555555555
         ],
         "line": {
          "color": "gray",
          "width": 0.5
         },
         "lon": [
          -64.9494,
          -64.94997666666666
         ],
         "mode": "lines",
         "opacity": 0.8,
         "showlegend": false,
         "type": "scattergeo"
        },
        {
         "lat": [
          18.334145555555555,
          18.309922500000006
         ],
         "line": {
          "color": "gray",
          "width": 0.5
         },
         "lon": [
          -64.94997666666666,
          -64.93986
         ],
         "mode": "lines",
         "opacity": 0.8,
         "showlegend": false,
         "type": "scattergeo"
        },
        {
         "lat": [
          18.309922500000006,
          18.30803
         ],
         "line": {
          "color": "gray",
          "width": 0.5
         },
         "lon": [
          -64.93986,
          -64.9409
         ],
         "mode": "lines",
         "opacity": 0.8,
         "showlegend": false,
         "type": "scattergeo"
        },
        {
         "lat": [
          18.30803,
          18.309922500000006
         ],
         "line": {
          "color": "gray",
          "width": 0.5
         },
         "lon": [
          -64.9409,
          -64.93986
         ],
         "mode": "lines",
         "opacity": 0.8,
         "showlegend": false,
         "type": "scattergeo"
        },
        {
         "lat": [
          18.309922500000006,
          18.4256475
         ],
         "line": {
          "color": "gray",
          "width": 0.5
         },
         "lon": [
          -64.93986,
          -64.60922249999999
         ],
         "mode": "lines",
         "opacity": 0.8,
         "showlegend": false,
         "type": "scattergeo"
        },
        {
         "lat": [
          18.4256475,
          18.42568
         ],
         "line": {
          "color": "gray",
          "width": 0.5
         },
         "lon": [
          -64.60922249999999,
          -64.6092
         ],
         "mode": "lines",
         "opacity": 0.8,
         "showlegend": false,
         "type": "scattergeo"
        },
        {
         "lat": [
          18.41358,
          18.416185000000002
         ],
         "line": {
          "color": "gray",
          "width": 0.5
         },
         "lon": [
          -64.60291,
          -64.60467
         ],
         "mode": "lines",
         "opacity": 0.8,
         "showlegend": false,
         "type": "scattergeo"
        },
        {
         "lat": [
          18.416185000000002,
          17.696372500000006
         ],
         "line": {
          "color": "gray",
          "width": 0.5
         },
         "lon": [
          -64.60467,
          -64.75487625
         ],
         "mode": "lines",
         "opacity": 0.8,
         "showlegend": false,
         "type": "scattergeo"
        },
        {
         "lat": [
          17.696372500000006,
          17.69641
         ],
         "line": {
          "color": "gray",
          "width": 0.5
         },
         "lon": [
          -64.75487625,
          -64.7549
         ],
         "mode": "lines",
         "opacity": 0.8,
         "showlegend": false,
         "type": "scattergeo"
        },
        {
         "lat": [
          17.69641,
          17.696372500000006
         ],
         "line": {
          "color": "gray",
          "width": 0.5
         },
         "lon": [
          -64.7549,
          -64.75487625
         ],
         "mode": "lines",
         "opacity": 0.8,
         "showlegend": false,
         "type": "scattergeo"
        },
        {
         "lat": [
          17.696372500000006,
          18.234004137931034
         ],
         "line": {
          "color": "gray",
          "width": 0.5
         },
         "lon": [
          -64.75487625,
          -64.26840620689656
         ],
         "mode": "lines",
         "opacity": 0.8,
         "showlegend": false,
         "type": "scattergeo"
        },
        {
         "lat": [
          18.234004137931034,
          18.5073
         ],
         "line": {
          "color": "gray",
          "width": 0.5
         },
         "lon": [
          -64.26840620689656,
          -65.98343
         ],
         "mode": "lines",
         "opacity": 0.8,
         "showlegend": false,
         "type": "scattergeo"
        },
        {
         "lat": [
          18.5073,
          18.234004137931034
         ],
         "line": {
          "color": "gray",
          "width": 0.5
         },
         "lon": [
          -65.98343,
          -64.26840620689656
         ],
         "mode": "lines",
         "opacity": 0.8,
         "showlegend": false,
         "type": "scattergeo"
        },
        {
         "lat": [
          18.234004137931034,
          18.234004137931034
         ],
         "line": {
          "color": "gray",
          "width": 0.5
         },
         "lon": [
          -64.26840620689656,
          -64.26840620689656
         ],
         "mode": "lines",
         "opacity": 0.8,
         "showlegend": false,
         "type": "scattergeo"
        },
        {
         "lat": [
          18.234004137931034,
          18.50643
         ],
         "line": {
          "color": "gray",
          "width": 0.5
         },
         "lon": [
          -64.26840620689656,
          -65.9584
         ],
         "mode": "lines",
         "opacity": 0.8,
         "showlegend": false,
         "type": "scattergeo"
        },
        {
         "lat": [
          18.50643,
          18.234004137931034
         ],
         "line": {
          "color": "gray",
          "width": 0.5
         },
         "lon": [
          -65.9584,
          -64.26840620689656
         ],
         "mode": "lines",
         "opacity": 0.8,
         "showlegend": false,
         "type": "scattergeo"
        },
        {
         "lat": [
          18.234004137931034,
          17.696372500000006
         ],
         "line": {
          "color": "gray",
          "width": 0.5
         },
         "lon": [
          -64.26840620689656,
          -64.75487625
         ],
         "mode": "lines",
         "opacity": 0.8,
         "showlegend": false,
         "type": "scattergeo"
        },
        {
         "lat": [
          17.696372500000006,
          17.695
         ],
         "line": {
          "color": "gray",
          "width": 0.5
         },
         "lon": [
          -64.75487625,
          -64.75421999999999
         ],
         "mode": "lines",
         "opacity": 0.8,
         "showlegend": false,
         "type": "scattergeo"
        },
        {
         "lat": [
          17.695,
          17.696372500000006
         ],
         "line": {
          "color": "gray",
          "width": 0.5
         },
         "lon": [
          -64.75421999999999,
          -64.75487625
         ],
         "mode": "lines",
         "opacity": 0.8,
         "showlegend": false,
         "type": "scattergeo"
        },
        {
         "lat": [
          17.696372500000006,
          18.4256475
         ],
         "line": {
          "color": "gray",
          "width": 0.5
         },
         "lon": [
          -64.75487625,
          -64.60922249999999
         ],
         "mode": "lines",
         "opacity": 0.8,
         "showlegend": false,
         "type": "scattergeo"
        },
        {
         "lat": [
          18.4256475,
          18.42605
         ],
         "line": {
          "color": "gray",
          "width": 0.5
         },
         "lon": [
          -64.60922249999999,
          -64.60945
         ],
         "mode": "lines",
         "opacity": 0.8,
         "showlegend": false,
         "type": "scattergeo"
        },
        {
         "lat": [
          18.42605,
          18.4256475
         ],
         "line": {
          "color": "gray",
          "width": 0.5
         },
         "lon": [
          -64.60945,
          -64.60922249999999
         ],
         "mode": "lines",
         "opacity": 0.8,
         "showlegend": false,
         "type": "scattergeo"
        },
        {
         "lat": [
          18.4256475,
          18.334145555555555
         ],
         "line": {
          "color": "gray",
          "width": 0.5
         },
         "lon": [
          -64.60922249999999,
          -64.94997666666666
         ],
         "mode": "lines",
         "opacity": 0.8,
         "showlegend": false,
         "type": "scattergeo"
        },
        {
         "lat": [
          18.334145555555555,
          18.33498
         ],
         "line": {
          "color": "gray",
          "width": 0.5
         },
         "lon": [
          -64.94997666666666,
          -64.94762
         ],
         "mode": "lines",
         "opacity": 0.8,
         "showlegend": false,
         "type": "scattergeo"
        },
        {
         "lat": [
          18.33498,
          18.334145555555555
         ],
         "line": {
          "color": "gray",
          "width": 0.5
         },
         "lon": [
          -64.94762,
          -64.94997666666666
         ],
         "mode": "lines",
         "opacity": 0.8,
         "showlegend": false,
         "type": "scattergeo"
        },
        {
         "lat": [
          18.334145555555555,
          17.696372500000006
         ],
         "line": {
          "color": "gray",
          "width": 0.5
         },
         "lon": [
          -64.94997666666666,
          -64.75487625
         ],
         "mode": "lines",
         "opacity": 0.8,
         "showlegend": false,
         "type": "scattergeo"
        },
        {
         "lat": [
          17.696372500000006,
          17.696379999999994
         ],
         "line": {
          "color": "gray",
          "width": 0.5
         },
         "lon": [
          -64.75487625,
          -64.7549
         ],
         "mode": "lines",
         "opacity": 0.8,
         "showlegend": false,
         "type": "scattergeo"
        },
        {
         "lat": [
          17.696379999999994,
          17.696372500000006
         ],
         "line": {
          "color": "gray",
          "width": 0.5
         },
         "lon": [
          -64.7549,
          -64.75487625
         ],
         "mode": "lines",
         "opacity": 0.8,
         "showlegend": false,
         "type": "scattergeo"
        },
        {
         "lat": [
          17.696372500000006,
          18.334145555555555
         ],
         "line": {
          "color": "gray",
          "width": 0.5
         },
         "lon": [
          -64.75487625,
          -64.94997666666666
         ],
         "mode": "lines",
         "opacity": 0.8,
         "showlegend": false,
         "type": "scattergeo"
        },
        {
         "lat": [
          18.334145555555555,
          18.33499
         ],
         "line": {
          "color": "gray",
          "width": 0.5
         },
         "lon": [
          -64.94997666666666,
          -64.94771999999999
         ],
         "mode": "lines",
         "opacity": 0.8,
         "showlegend": false,
         "type": "scattergeo"
        },
        {
         "lat": [
          18.33499,
          18.334145555555555
         ],
         "line": {
          "color": "gray",
          "width": 0.5
         },
         "lon": [
          -64.94771999999999,
          -64.94997666666666
         ],
         "mode": "lines",
         "opacity": 0.8,
         "showlegend": false,
         "type": "scattergeo"
        },
        {
         "lat": [
          18.334145555555555,
          18.4017525
         ],
         "line": {
          "color": "gray",
          "width": 0.5
         },
         "lon": [
          -64.94997666666666,
          -64.5972975
         ],
         "mode": "lines",
         "opacity": 0.8,
         "showlegend": false,
         "type": "scattergeo"
        },
        {
         "lat": [
          18.4017525,
          18.39787
         ],
         "line": {
          "color": "gray",
          "width": 0.5
         },
         "lon": [
          -64.5972975,
          -64.59661
         ],
         "mode": "lines",
         "opacity": 0.8,
         "showlegend": false,
         "type": "scattergeo"
        },
        {
         "lat": [
          18.39787,
          18.4017525
         ],
         "line": {
          "color": "gray",
          "width": 0.5
         },
         "lon": [
          -64.59661,
          -64.5972975
         ],
         "mode": "lines",
         "opacity": 0.8,
         "showlegend": false,
         "type": "scattergeo"
        },
        {
         "lat": [
          18.4017525,
          17.696372500000006
         ],
         "line": {
          "color": "gray",
          "width": 0.5
         },
         "lon": [
          -64.5972975,
          -64.75487625
         ],
         "mode": "lines",
         "opacity": 0.8,
         "showlegend": false,
         "type": "scattergeo"
        },
        {
         "lat": [
          17.696372500000006,
          17.69637
         ],
         "line": {
          "color": "gray",
          "width": 0.5
         },
         "lon": [
          -64.75487625,
          -64.7549
         ],
         "mode": "lines",
         "opacity": 0.8,
         "showlegend": false,
         "type": "scattergeo"
        },
        {
         "lat": [
          17.69577,
          17.696372500000006
         ],
         "line": {
          "color": "gray",
          "width": 0.5
         },
         "lon": [
          -64.75461,
          -64.75487625
         ],
         "mode": "lines",
         "opacity": 0.8,
         "showlegend": false,
         "type": "scattergeo"
        },
        {
         "lat": [
          17.696372500000006,
          18.334145555555555
         ],
         "line": {
          "color": "gray",
          "width": 0.5
         },
         "lon": [
          -64.75487625,
          -64.94997666666666
         ],
         "mode": "lines",
         "opacity": 0.8,
         "showlegend": false,
         "type": "scattergeo"
        },
        {
         "lat": [
          18.334145555555555,
          18.33508
         ],
         "line": {
          "color": "gray",
          "width": 0.5
         },
         "lon": [
          -64.94997666666666,
          -64.94773
         ],
         "mode": "lines",
         "opacity": 0.8,
         "showlegend": false,
         "type": "scattergeo"
        },
        {
         "lat": [
          18.33508,
          18.334145555555555
         ],
         "line": {
          "color": "gray",
          "width": 0.5
         },
         "lon": [
          -64.94773,
          -64.94997666666666
         ],
         "mode": "lines",
         "opacity": 0.8,
         "showlegend": false,
         "type": "scattergeo"
        },
        {
         "lat": [
          18.334145555555555,
          17.696372500000006
         ],
         "line": {
          "color": "gray",
          "width": 0.5
         },
         "lon": [
          -64.94997666666666,
          -64.75487625
         ],
         "mode": "lines",
         "opacity": 0.8,
         "showlegend": false,
         "type": "scattergeo"
        },
        {
         "lat": [
          17.696372500000006,
          17.69698
         ],
         "line": {
          "color": "gray",
          "width": 0.5
         },
         "lon": [
          -64.75487625,
          -64.75522
         ],
         "mode": "lines",
         "opacity": 0.8,
         "showlegend": false,
         "type": "scattergeo"
        },
        {
         "lat": [
          17.69698,
          17.696372500000006
         ],
         "line": {
          "color": "gray",
          "width": 0.5
         },
         "lon": [
          -64.75522,
          -64.75487625
         ],
         "mode": "lines",
         "opacity": 0.8,
         "showlegend": false,
         "type": "scattergeo"
        },
        {
         "lat": [
          17.696372500000006,
          18.334145555555555
         ],
         "line": {
          "color": "gray",
          "width": 0.5
         },
         "lon": [
          -64.75487625,
          -64.94997666666666
         ],
         "mode": "lines",
         "opacity": 0.8,
         "showlegend": false,
         "type": "scattergeo"
        },
        {
         "lat": [
          18.334145555555555,
          18.33534
         ],
         "line": {
          "color": "gray",
          "width": 0.5
         },
         "lon": [
          -64.94997666666666,
          -64.94941
         ],
         "mode": "lines",
         "opacity": 0.8,
         "showlegend": false,
         "type": "scattergeo"
        },
        {
         "lat": [
          18.33534,
          18.334145555555555
         ],
         "line": {
          "color": "gray",
          "width": 0.5
         },
         "lon": [
          -64.94941,
          -64.94997666666666
         ],
         "mode": "lines",
         "opacity": 0.8,
         "showlegend": false,
         "type": "scattergeo"
        },
        {
         "lat": [
          18.334145555555555,
          18.309922500000006
         ],
         "line": {
          "color": "gray",
          "width": 0.5
         },
         "lon": [
          -64.94997666666666,
          -64.93986
         ],
         "mode": "lines",
         "opacity": 0.8,
         "showlegend": false,
         "type": "scattergeo"
        },
        {
         "lat": [
          18.309922500000006,
          18.31341
         ],
         "line": {
          "color": "gray",
          "width": 0.5
         },
         "lon": [
          -64.93986,
          -64.93812
         ],
         "mode": "lines",
         "opacity": 0.8,
         "showlegend": false,
         "type": "scattergeo"
        },
        {
         "lat": [
          18.31341,
          18.309922500000006
         ],
         "line": {
          "color": "gray",
          "width": 0.5
         },
         "lon": [
          -64.93812,
          -64.93986
         ],
         "mode": "lines",
         "opacity": 0.8,
         "showlegend": false,
         "type": "scattergeo"
        },
        {
         "lat": [
          18.309922500000006,
          18.334145555555555
         ],
         "line": {
          "color": "gray",
          "width": 0.5
         },
         "lon": [
          -64.93986,
          -64.94997666666666
         ],
         "mode": "lines",
         "opacity": 0.8,
         "showlegend": false,
         "type": "scattergeo"
        },
        {
         "lat": [
          18.334145555555555,
          18.33536
         ],
         "line": {
          "color": "gray",
          "width": 0.5
         },
         "lon": [
          -64.94997666666666,
          -64.94927
         ],
         "mode": "lines",
         "opacity": 0.8,
         "showlegend": false,
         "type": "scattergeo"
        },
        {
         "lat": [
          18.33536,
          18.334145555555555
         ],
         "line": {
          "color": "gray",
          "width": 0.5
         },
         "lon": [
          -64.94927,
          -64.94997666666666
         ],
         "mode": "lines",
         "opacity": 0.8,
         "showlegend": false,
         "type": "scattergeo"
        },
        {
         "lat": [
          18.334145555555555,
          18.234004137931034
         ],
         "line": {
          "color": "gray",
          "width": 0.5
         },
         "lon": [
          -64.94997666666666,
          -64.26840620689656
         ],
         "mode": "lines",
         "opacity": 0.8,
         "showlegend": false,
         "type": "scattergeo"
        },
        {
         "lat": [
          18.234004137931034,
          18.40981
         ],
         "line": {
          "color": "gray",
          "width": 0.5
         },
         "lon": [
          -64.26840620689656,
          -64.59768000000001
         ],
         "mode": "lines",
         "opacity": 0.8,
         "showlegend": false,
         "type": "scattergeo"
        },
        {
         "lat": [
          18.38817,
          18.387494000000004
         ],
         "line": {
          "color": "gray",
          "width": 0.5
         },
         "lon": [
          -64.65025,
          -64.649486
         ],
         "mode": "lines",
         "opacity": 0.8,
         "showlegend": false,
         "type": "scattergeo"
        },
        {
         "lat": [
          18.387494000000004,
          18.387494000000004
         ],
         "line": {
          "color": "gray",
          "width": 0.5
         },
         "lon": [
          -64.649486,
          -64.649486
         ],
         "mode": "lines",
         "opacity": 0.8,
         "showlegend": false,
         "type": "scattergeo"
        },
        {
         "lat": [
          18.387494000000004,
          18.387999999999998
         ],
         "line": {
          "color": "gray",
          "width": 0.5
         },
         "lon": [
          -64.649486,
          -64.65033000000001
         ],
         "mode": "lines",
         "opacity": 0.8,
         "showlegend": false,
         "type": "scattergeo"
        },
        {
         "lat": [
          18.387999999999998,
          18.387494000000004
         ],
         "line": {
          "color": "gray",
          "width": 0.5
         },
         "lon": [
          -64.65033000000001,
          -64.649486
         ],
         "mode": "lines",
         "opacity": 0.8,
         "showlegend": false,
         "type": "scattergeo"
        },
        {
         "lat": [
          18.387494000000004,
          18.234004137931034
         ],
         "line": {
          "color": "gray",
          "width": 0.5
         },
         "lon": [
          -64.649486,
          -64.26840620689656
         ],
         "mode": "lines",
         "opacity": 0.8,
         "showlegend": false,
         "type": "scattergeo"
        },
        {
         "lat": [
          18.234004137931034,
          18.37755
         ],
         "line": {
          "color": "gray",
          "width": 0.5
         },
         "lon": [
          -64.26840620689656,
          -64.63505
         ],
         "mode": "lines",
         "opacity": 0.8,
         "showlegend": false,
         "type": "scattergeo"
        },
        {
         "lat": [
          18.31813,
          18.318328
         ],
         "line": {
          "color": "gray",
          "width": 0.5
         },
         "lon": [
          -64.97967,
          -64.978538
         ],
         "mode": "lines",
         "opacity": 0.8,
         "showlegend": false,
         "type": "scattergeo"
        },
        {
         "lat": [
          18.318328,
          18.234004137931034
         ],
         "line": {
          "color": "gray",
          "width": 0.5
         },
         "lon": [
          -64.978538,
          -64.26840620689656
         ],
         "mode": "lines",
         "opacity": 0.8,
         "showlegend": false,
         "type": "scattergeo"
        },
        {
         "lat": [
          18.234004137931034,
          18.24302
         ],
         "line": {
          "color": "gray",
          "width": 0.5
         },
         "lon": [
          -64.26840620689656,
          -64.97816
         ],
         "mode": "lines",
         "opacity": 0.8,
         "showlegend": false,
         "type": "scattergeo"
        },
        {
         "lat": [
          18.24302,
          18.234004137931034
         ],
         "line": {
          "color": "gray",
          "width": 0.5
         },
         "lon": [
          -64.97816,
          -64.26840620689656
         ],
         "mode": "lines",
         "opacity": 0.8,
         "showlegend": false,
         "type": "scattergeo"
        },
        {
         "lat": [
          18.234004137931034,
          18.318328
         ],
         "line": {
          "color": "gray",
          "width": 0.5
         },
         "lon": [
          -64.26840620689656,
          -64.978538
         ],
         "mode": "lines",
         "opacity": 0.8,
         "showlegend": false,
         "type": "scattergeo"
        },
        {
         "lat": [
          18.318328,
          18.31699
         ],
         "line": {
          "color": "gray",
          "width": 0.5
         },
         "lon": [
          -64.978538,
          -64.97870999999999
         ],
         "mode": "lines",
         "opacity": 0.8,
         "showlegend": false,
         "type": "scattergeo"
        },
        {
         "lat": [
          18.08228,
          18.082295000000002
         ],
         "line": {
          "color": "gray",
          "width": 0.5
         },
         "lon": [
          -65.61189,
          -65.611655
         ],
         "mode": "lines",
         "opacity": 0.8,
         "showlegend": false,
         "type": "scattergeo"
        },
        {
         "lat": [
          18.082295000000002,
          18.234004137931034
         ],
         "line": {
          "color": "gray",
          "width": 0.5
         },
         "lon": [
          -65.611655,
          -64.26840620689656
         ],
         "mode": "lines",
         "opacity": 0.8,
         "showlegend": false,
         "type": "scattergeo"
        },
        {
         "lat": [
          18.234004137931034,
          17.69376
         ],
         "line": {
          "color": "gray",
          "width": 0.5
         },
         "lon": [
          -64.26840620689656,
          -64.74566
         ],
         "mode": "lines",
         "opacity": 0.8,
         "showlegend": false,
         "type": "scattergeo"
        },
        {
         "lat": [
          18.31004,
          18.234004137931034
         ],
         "line": {
          "color": "gray",
          "width": 0.5
         },
         "lon": [
          -64.66941,
          -64.26840620689656
         ],
         "mode": "lines",
         "opacity": 0.8,
         "showlegend": false,
         "type": "scattergeo"
        },
        {
         "lat": [
          18.234004137931034,
          18.416185000000002
         ],
         "line": {
          "color": "gray",
          "width": 0.5
         },
         "lon": [
          -64.26840620689656,
          -64.60467
         ],
         "mode": "lines",
         "opacity": 0.8,
         "showlegend": false,
         "type": "scattergeo"
        },
        {
         "lat": [
          18.416185000000002,
          18.42069
         ],
         "line": {
          "color": "gray",
          "width": 0.5
         },
         "lon": [
          -64.60467,
          -64.60656
         ],
         "mode": "lines",
         "opacity": 0.8,
         "showlegend": false,
         "type": "scattergeo"
        },
        {
         "lat": [
          18.334570000000006,
          18.334145555555555
         ],
         "line": {
          "color": "gray",
          "width": 0.5
         },
         "lon": [
          -64.94958000000001,
          -64.94997666666666
         ],
         "mode": "lines",
         "opacity": 0.8,
         "showlegend": false,
         "type": "scattergeo"
        },
        {
         "lat": [
          18.334145555555555,
          18.318328
         ],
         "line": {
          "color": "gray",
          "width": 0.5
         },
         "lon": [
          -64.94997666666666,
          -64.978538
         ],
         "mode": "lines",
         "opacity": 0.8,
         "showlegend": false,
         "type": "scattergeo"
        },
        {
         "lat": [
          18.318328,
          18.31851
         ],
         "line": {
          "color": "gray",
          "width": 0.5
         },
         "lon": [
          -64.978538,
          -64.97453
         ],
         "mode": "lines",
         "opacity": 0.8,
         "showlegend": false,
         "type": "scattergeo"
        },
        {
         "lat": [
          18.31851,
          18.318328
         ],
         "line": {
          "color": "gray",
          "width": 0.5
         },
         "lon": [
          -64.97453,
          -64.978538
         ],
         "mode": "lines",
         "opacity": 0.8,
         "showlegend": false,
         "type": "scattergeo"
        },
        {
         "lat": [
          18.318328,
          18.334145555555555
         ],
         "line": {
          "color": "gray",
          "width": 0.5
         },
         "lon": [
          -64.978538,
          -64.94997666666666
         ],
         "mode": "lines",
         "opacity": 0.8,
         "showlegend": false,
         "type": "scattergeo"
        },
        {
         "lat": [
          18.334145555555555,
          18.33439
         ],
         "line": {
          "color": "gray",
          "width": 0.5
         },
         "lon": [
          -64.94997666666666,
          -64.94969
         ],
         "mode": "lines",
         "opacity": 0.8,
         "showlegend": false,
         "type": "scattergeo"
        },
        {
         "lat": [
          18.33439,
          18.334145555555555
         ],
         "line": {
          "color": "gray",
          "width": 0.5
         },
         "lon": [
          -64.94969,
          -64.94997666666666
         ],
         "mode": "lines",
         "opacity": 0.8,
         "showlegend": false,
         "type": "scattergeo"
        },
        {
         "lat": [
          18.334145555555555,
          18.416185000000002
         ],
         "line": {
          "color": "gray",
          "width": 0.5
         },
         "lon": [
          -64.94997666666666,
          -64.60467
         ],
         "mode": "lines",
         "opacity": 0.8,
         "showlegend": false,
         "type": "scattergeo"
        },
        {
         "lat": [
          18.416185000000002,
          18.41631
         ],
         "line": {
          "color": "gray",
          "width": 0.5
         },
         "lon": [
          -64.60467,
          -64.60491
         ],
         "mode": "lines",
         "opacity": 0.8,
         "showlegend": false,
         "type": "scattergeo"
        },
        {
         "lat": [
          18.41631,
          18.416185000000002
         ],
         "line": {
          "color": "gray",
          "width": 0.5
         },
         "lon": [
          -64.60491,
          -64.60467
         ],
         "mode": "lines",
         "opacity": 0.8,
         "showlegend": false,
         "type": "scattergeo"
        },
        {
         "lat": [
          18.416185000000002,
          18.334145555555555
         ],
         "line": {
          "color": "gray",
          "width": 0.5
         },
         "lon": [
          -64.60467,
          -64.94997666666666
         ],
         "mode": "lines",
         "opacity": 0.8,
         "showlegend": false,
         "type": "scattergeo"
        },
        {
         "lat": [
          18.334145555555555,
          18.33461
         ],
         "line": {
          "color": "gray",
          "width": 0.5
         },
         "lon": [
          -64.94997666666666,
          -64.94954
         ],
         "mode": "lines",
         "opacity": 0.8,
         "showlegend": false,
         "type": "scattergeo"
        },
        {
         "lat": [
          18.33461,
          18.334145555555555
         ],
         "line": {
          "color": "gray",
          "width": 0.5
         },
         "lon": [
          -64.94954,
          -64.94997666666666
         ],
         "mode": "lines",
         "opacity": 0.8,
         "showlegend": false,
         "type": "scattergeo"
        },
        {
         "lat": [
          18.334145555555555,
          18.4017525
         ],
         "line": {
          "color": "gray",
          "width": 0.5
         },
         "lon": [
          -64.94997666666666,
          -64.5972975
         ],
         "mode": "lines",
         "opacity": 0.8,
         "showlegend": false,
         "type": "scattergeo"
        },
        {
         "lat": [
          18.4017525,
          18.403170000000006
         ],
         "line": {
          "color": "gray",
          "width": 0.5
         },
         "lon": [
          -64.5972975,
          -64.59753
         ],
         "mode": "lines",
         "opacity": 0.8,
         "showlegend": false,
         "type": "scattergeo"
        },
        {
         "lat": [
          18.403170000000006,
          18.4017525
         ],
         "line": {
          "color": "gray",
          "width": 0.5
         },
         "lon": [
          -64.59753,
          -64.5972975
         ],
         "mode": "lines",
         "opacity": 0.8,
         "showlegend": false,
         "type": "scattergeo"
        },
        {
         "lat": [
          18.4017525,
          18.234004137931034
         ],
         "line": {
          "color": "gray",
          "width": 0.5
         },
         "lon": [
          -64.5972975,
          -64.26840620689656
         ],
         "mode": "lines",
         "opacity": 0.8,
         "showlegend": false,
         "type": "scattergeo"
        },
        {
         "lat": [
          18.234004137931034,
          18.02754
         ],
         "line": {
          "color": "gray",
          "width": 0.5
         },
         "lon": [
          -64.26840620689656,
          -64.12725
         ],
         "mode": "lines",
         "opacity": 0.8,
         "showlegend": false,
         "type": "scattergeo"
        },
        {
         "lat": [
          18.08231,
          18.082295000000002
         ],
         "line": {
          "color": "gray",
          "width": 0.5
         },
         "lon": [
          -65.61142,
          -65.611655
         ],
         "mode": "lines",
         "opacity": 0.8,
         "showlegend": false,
         "type": "scattergeo"
        },
        {
         "lat": [
          18.082295000000002,
          18.052564999999998
         ],
         "line": {
          "color": "gray",
          "width": 0.5
         },
         "lon": [
          -65.611655,
          -65.83694
         ],
         "mode": "lines",
         "opacity": 0.8,
         "showlegend": false,
         "type": "scattergeo"
        },
        {
         "lat": [
          18.052564999999998,
          18.05256
         ],
         "line": {
          "color": "gray",
          "width": 0.5
         },
         "lon": [
          -65.83694,
          -65.83691999999999
         ],
         "mode": "lines",
         "opacity": 0.8,
         "showlegend": false,
         "type": "scattergeo"
        }
       ],
       "layout": {
        "geo": {
         "center": {
          "lat": 18.2429795890411,
          "lon": -64.69604424657534
         },
         "coastlinewidth": 5,
         "lakecolor": "rgb(0, 255, 255)",
         "landcolor": "rgb(230, 145, 56)",
         "oceancolor": "rgb(127,205,255)",
         "projection": {
          "scale": 35,
          "type": "azimuthal equal area"
         },
         "scope": "north america",
         "showlakes": false,
         "showland": false,
         "showocean": true
        },
        "showlegend": true,
        "template": {
         "data": {
          "bar": [
           {
            "error_x": {
             "color": "#2a3f5f"
            },
            "error_y": {
             "color": "#2a3f5f"
            },
            "marker": {
             "line": {
              "color": "#E5ECF6",
              "width": 0.5
             }
            },
            "type": "bar"
           }
          ],
          "barpolar": [
           {
            "marker": {
             "line": {
              "color": "#E5ECF6",
              "width": 0.5
             }
            },
            "type": "barpolar"
           }
          ],
          "carpet": [
           {
            "aaxis": {
             "endlinecolor": "#2a3f5f",
             "gridcolor": "white",
             "linecolor": "white",
             "minorgridcolor": "white",
             "startlinecolor": "#2a3f5f"
            },
            "baxis": {
             "endlinecolor": "#2a3f5f",
             "gridcolor": "white",
             "linecolor": "white",
             "minorgridcolor": "white",
             "startlinecolor": "#2a3f5f"
            },
            "type": "carpet"
           }
          ],
          "choropleth": [
           {
            "colorbar": {
             "outlinewidth": 0,
             "ticks": ""
            },
            "type": "choropleth"
           }
          ],
          "contour": [
           {
            "colorbar": {
             "outlinewidth": 0,
             "ticks": ""
            },
            "colorscale": [
             [
              0,
              "#0d0887"
             ],
             [
              0.1111111111111111,
              "#46039f"
             ],
             [
              0.2222222222222222,
              "#7201a8"
             ],
             [
              0.3333333333333333,
              "#9c179e"
             ],
             [
              0.4444444444444444,
              "#bd3786"
             ],
             [
              0.5555555555555556,
              "#d8576b"
             ],
             [
              0.6666666666666666,
              "#ed7953"
             ],
             [
              0.7777777777777778,
              "#fb9f3a"
             ],
             [
              0.8888888888888888,
              "#fdca26"
             ],
             [
              1,
              "#f0f921"
             ]
            ],
            "type": "contour"
           }
          ],
          "contourcarpet": [
           {
            "colorbar": {
             "outlinewidth": 0,
             "ticks": ""
            },
            "type": "contourcarpet"
           }
          ],
          "heatmap": [
           {
            "colorbar": {
             "outlinewidth": 0,
             "ticks": ""
            },
            "colorscale": [
             [
              0,
              "#0d0887"
             ],
             [
              0.1111111111111111,
              "#46039f"
             ],
             [
              0.2222222222222222,
              "#7201a8"
             ],
             [
              0.3333333333333333,
              "#9c179e"
             ],
             [
              0.4444444444444444,
              "#bd3786"
             ],
             [
              0.5555555555555556,
              "#d8576b"
             ],
             [
              0.6666666666666666,
              "#ed7953"
             ],
             [
              0.7777777777777778,
              "#fb9f3a"
             ],
             [
              0.8888888888888888,
              "#fdca26"
             ],
             [
              1,
              "#f0f921"
             ]
            ],
            "type": "heatmap"
           }
          ],
          "heatmapgl": [
           {
            "colorbar": {
             "outlinewidth": 0,
             "ticks": ""
            },
            "colorscale": [
             [
              0,
              "#0d0887"
             ],
             [
              0.1111111111111111,
              "#46039f"
             ],
             [
              0.2222222222222222,
              "#7201a8"
             ],
             [
              0.3333333333333333,
              "#9c179e"
             ],
             [
              0.4444444444444444,
              "#bd3786"
             ],
             [
              0.5555555555555556,
              "#d8576b"
             ],
             [
              0.6666666666666666,
              "#ed7953"
             ],
             [
              0.7777777777777778,
              "#fb9f3a"
             ],
             [
              0.8888888888888888,
              "#fdca26"
             ],
             [
              1,
              "#f0f921"
             ]
            ],
            "type": "heatmapgl"
           }
          ],
          "histogram": [
           {
            "marker": {
             "colorbar": {
              "outlinewidth": 0,
              "ticks": ""
             }
            },
            "type": "histogram"
           }
          ],
          "histogram2d": [
           {
            "colorbar": {
             "outlinewidth": 0,
             "ticks": ""
            },
            "colorscale": [
             [
              0,
              "#0d0887"
             ],
             [
              0.1111111111111111,
              "#46039f"
             ],
             [
              0.2222222222222222,
              "#7201a8"
             ],
             [
              0.3333333333333333,
              "#9c179e"
             ],
             [
              0.4444444444444444,
              "#bd3786"
             ],
             [
              0.5555555555555556,
              "#d8576b"
             ],
             [
              0.6666666666666666,
              "#ed7953"
             ],
             [
              0.7777777777777778,
              "#fb9f3a"
             ],
             [
              0.8888888888888888,
              "#fdca26"
             ],
             [
              1,
              "#f0f921"
             ]
            ],
            "type": "histogram2d"
           }
          ],
          "histogram2dcontour": [
           {
            "colorbar": {
             "outlinewidth": 0,
             "ticks": ""
            },
            "colorscale": [
             [
              0,
              "#0d0887"
             ],
             [
              0.1111111111111111,
              "#46039f"
             ],
             [
              0.2222222222222222,
              "#7201a8"
             ],
             [
              0.3333333333333333,
              "#9c179e"
             ],
             [
              0.4444444444444444,
              "#bd3786"
             ],
             [
              0.5555555555555556,
              "#d8576b"
             ],
             [
              0.6666666666666666,
              "#ed7953"
             ],
             [
              0.7777777777777778,
              "#fb9f3a"
             ],
             [
              0.8888888888888888,
              "#fdca26"
             ],
             [
              1,
              "#f0f921"
             ]
            ],
            "type": "histogram2dcontour"
           }
          ],
          "mesh3d": [
           {
            "colorbar": {
             "outlinewidth": 0,
             "ticks": ""
            },
            "type": "mesh3d"
           }
          ],
          "parcoords": [
           {
            "line": {
             "colorbar": {
              "outlinewidth": 0,
              "ticks": ""
             }
            },
            "type": "parcoords"
           }
          ],
          "pie": [
           {
            "automargin": true,
            "type": "pie"
           }
          ],
          "scatter": [
           {
            "marker": {
             "colorbar": {
              "outlinewidth": 0,
              "ticks": ""
             }
            },
            "type": "scatter"
           }
          ],
          "scatter3d": [
           {
            "line": {
             "colorbar": {
              "outlinewidth": 0,
              "ticks": ""
             }
            },
            "marker": {
             "colorbar": {
              "outlinewidth": 0,
              "ticks": ""
             }
            },
            "type": "scatter3d"
           }
          ],
          "scattercarpet": [
           {
            "marker": {
             "colorbar": {
              "outlinewidth": 0,
              "ticks": ""
             }
            },
            "type": "scattercarpet"
           }
          ],
          "scattergeo": [
           {
            "marker": {
             "colorbar": {
              "outlinewidth": 0,
              "ticks": ""
             }
            },
            "type": "scattergeo"
           }
          ],
          "scattergl": [
           {
            "marker": {
             "colorbar": {
              "outlinewidth": 0,
              "ticks": ""
             }
            },
            "type": "scattergl"
           }
          ],
          "scattermapbox": [
           {
            "marker": {
             "colorbar": {
              "outlinewidth": 0,
              "ticks": ""
             }
            },
            "type": "scattermapbox"
           }
          ],
          "scatterpolar": [
           {
            "marker": {
             "colorbar": {
              "outlinewidth": 0,
              "ticks": ""
             }
            },
            "type": "scatterpolar"
           }
          ],
          "scatterpolargl": [
           {
            "marker": {
             "colorbar": {
              "outlinewidth": 0,
              "ticks": ""
             }
            },
            "type": "scatterpolargl"
           }
          ],
          "scatterternary": [
           {
            "marker": {
             "colorbar": {
              "outlinewidth": 0,
              "ticks": ""
             }
            },
            "type": "scatterternary"
           }
          ],
          "surface": [
           {
            "colorbar": {
             "outlinewidth": 0,
             "ticks": ""
            },
            "colorscale": [
             [
              0,
              "#0d0887"
             ],
             [
              0.1111111111111111,
              "#46039f"
             ],
             [
              0.2222222222222222,
              "#7201a8"
             ],
             [
              0.3333333333333333,
              "#9c179e"
             ],
             [
              0.4444444444444444,
              "#bd3786"
             ],
             [
              0.5555555555555556,
              "#d8576b"
             ],
             [
              0.6666666666666666,
              "#ed7953"
             ],
             [
              0.7777777777777778,
              "#fb9f3a"
             ],
             [
              0.8888888888888888,
              "#fdca26"
             ],
             [
              1,
              "#f0f921"
             ]
            ],
            "type": "surface"
           }
          ],
          "table": [
           {
            "cells": {
             "fill": {
              "color": "#EBF0F8"
             },
             "line": {
              "color": "white"
             }
            },
            "header": {
             "fill": {
              "color": "#C8D4E3"
             },
             "line": {
              "color": "white"
             }
            },
            "type": "table"
           }
          ]
         },
         "layout": {
          "annotationdefaults": {
           "arrowcolor": "#2a3f5f",
           "arrowhead": 0,
           "arrowwidth": 1
          },
          "coloraxis": {
           "colorbar": {
            "outlinewidth": 0,
            "ticks": ""
           }
          },
          "colorscale": {
           "diverging": [
            [
             0,
             "#8e0152"
            ],
            [
             0.1,
             "#c51b7d"
            ],
            [
             0.2,
             "#de77ae"
            ],
            [
             0.3,
             "#f1b6da"
            ],
            [
             0.4,
             "#fde0ef"
            ],
            [
             0.5,
             "#f7f7f7"
            ],
            [
             0.6,
             "#e6f5d0"
            ],
            [
             0.7,
             "#b8e186"
            ],
            [
             0.8,
             "#7fbc41"
            ],
            [
             0.9,
             "#4d9221"
            ],
            [
             1,
             "#276419"
            ]
           ],
           "sequential": [
            [
             0,
             "#0d0887"
            ],
            [
             0.1111111111111111,
             "#46039f"
            ],
            [
             0.2222222222222222,
             "#7201a8"
            ],
            [
             0.3333333333333333,
             "#9c179e"
            ],
            [
             0.4444444444444444,
             "#bd3786"
            ],
            [
             0.5555555555555556,
             "#d8576b"
            ],
            [
             0.6666666666666666,
             "#ed7953"
            ],
            [
             0.7777777777777778,
             "#fb9f3a"
            ],
            [
             0.8888888888888888,
             "#fdca26"
            ],
            [
             1,
             "#f0f921"
            ]
           ],
           "sequentialminus": [
            [
             0,
             "#0d0887"
            ],
            [
             0.1111111111111111,
             "#46039f"
            ],
            [
             0.2222222222222222,
             "#7201a8"
            ],
            [
             0.3333333333333333,
             "#9c179e"
            ],
            [
             0.4444444444444444,
             "#bd3786"
            ],
            [
             0.5555555555555556,
             "#d8576b"
            ],
            [
             0.6666666666666666,
             "#ed7953"
            ],
            [
             0.7777777777777778,
             "#fb9f3a"
            ],
            [
             0.8888888888888888,
             "#fdca26"
            ],
            [
             1,
             "#f0f921"
            ]
           ]
          },
          "colorway": [
           "#636efa",
           "#EF553B",
           "#00cc96",
           "#ab63fa",
           "#FFA15A",
           "#19d3f3",
           "#FF6692",
           "#B6E880",
           "#FF97FF",
           "#FECB52"
          ],
          "font": {
           "color": "#2a3f5f"
          },
          "geo": {
           "bgcolor": "white",
           "lakecolor": "white",
           "landcolor": "#E5ECF6",
           "showlakes": true,
           "showland": true,
           "subunitcolor": "white"
          },
          "hoverlabel": {
           "align": "left"
          },
          "hovermode": "closest",
          "mapbox": {
           "style": "light"
          },
          "paper_bgcolor": "white",
          "plot_bgcolor": "#E5ECF6",
          "polar": {
           "angularaxis": {
            "gridcolor": "white",
            "linecolor": "white",
            "ticks": ""
           },
           "bgcolor": "#E5ECF6",
           "radialaxis": {
            "gridcolor": "white",
            "linecolor": "white",
            "ticks": ""
           }
          },
          "scene": {
           "xaxis": {
            "backgroundcolor": "#E5ECF6",
            "gridcolor": "white",
            "gridwidth": 2,
            "linecolor": "white",
            "showbackground": true,
            "ticks": "",
            "zerolinecolor": "white"
           },
           "yaxis": {
            "backgroundcolor": "#E5ECF6",
            "gridcolor": "white",
            "gridwidth": 2,
            "linecolor": "white",
            "showbackground": true,
            "ticks": "",
            "zerolinecolor": "white"
           },
           "zaxis": {
            "backgroundcolor": "#E5ECF6",
            "gridcolor": "white",
            "gridwidth": 2,
            "linecolor": "white",
            "showbackground": true,
            "ticks": "",
            "zerolinecolor": "white"
           }
          },
          "shapedefaults": {
           "line": {
            "color": "#2a3f5f"
           }
          },
          "ternary": {
           "aaxis": {
            "gridcolor": "white",
            "linecolor": "white",
            "ticks": ""
           },
           "baxis": {
            "gridcolor": "white",
            "linecolor": "white",
            "ticks": ""
           },
           "bgcolor": "#E5ECF6",
           "caxis": {
            "gridcolor": "white",
            "linecolor": "white",
            "ticks": ""
           }
          },
          "title": {
           "x": 0.05
          },
          "xaxis": {
           "automargin": true,
           "gridcolor": "white",
           "linecolor": "white",
           "ticks": "",
           "title": {
            "standoff": 15
           },
           "zerolinecolor": "white",
           "zerolinewidth": 2
          },
          "yaxis": {
           "automargin": true,
           "gridcolor": "white",
           "linecolor": "white",
           "ticks": "",
           "title": {
            "standoff": 15
           },
           "zerolinecolor": "white",
           "zerolinewidth": 2
          }
         }
        },
        "title": {
         "text": "North america Hub and Spoke Network"
        }
       }
      },
      "text/html": [
       "<div>\n",
       "        \n",
       "        \n",
       "            <div id=\"0caef661-375b-4f3a-9766-8a71599db065\" class=\"plotly-graph-div\" style=\"height:525px; width:100%;\"></div>\n",
       "            <script type=\"text/javascript\">\n",
       "                require([\"plotly\"], function(Plotly) {\n",
       "                    window.PLOTLYENV=window.PLOTLYENV || {};\n",
       "                    \n",
       "                if (document.getElementById(\"0caef661-375b-4f3a-9766-8a71599db065\")) {\n",
       "                    Plotly.newPlot(\n",
       "                        '0caef661-375b-4f3a-9766-8a71599db065',\n",
       "                        [{\"lat\": [18.02078, 18.08363, 18.3357, 18.40139, 17.697020000000006, 18.33567, 18.40458, 18.33565, 18.42536, 17.69705, 18.04533, 18.4255, 17.980829999999994, 17.902, 18.052570000000006, 18.31062, 18.31904, 18.33117, 18.32483, 18.33117, 18.3165, 18.33183, 18.33188, 18.31897, 17.6433, 18.33625, 18.31699, 18.33486, 18.33487, 18.33483, 18.36627, 18.31398, 18.46958, 18.49942, 18.33518, 18.36354, 18.0111, 18.20458, 18.38771, 18.38635, 18.41416, 18.30763, 18.33537, 18.30803, 18.41358, 17.69641, 18.5073, 18.50643, 17.695, 18.42605, 18.33498, 17.696379999999994, 18.33499, 18.39787, 17.69577, 18.33508, 17.69698, 18.33534, 18.31341, 18.33536, 18.38817, 18.387999999999998, 18.31813, 18.24302, 18.08228, 18.31004, 18.334570000000006, 18.31851, 18.33439, 18.41631, 18.33461, 18.403170000000006, 18.08231], \"lon\": [-63.11847, -63.10032, -64.94765, -64.59435, -64.75511999999999, -64.94773, -64.6007, -64.94773, -64.60906999999999, -64.75514, -63.26067, -64.60916999999999, -63.01767, -62.8535, -65.83695999999999, -64.9413, -64.97835, -64.95433, -64.956, -64.95416999999999, -64.96233000000001, -64.95366999999999, -64.95286999999999, -64.98143, -63.25713, -64.92115, -64.96099, -64.92073, -64.92071999999999, -64.92182, -64.9262, -64.62568, -64.4166, -64.4154, -64.92274, -64.75193, -63.04442, -63.10556999999999, -64.65031, -64.64599, -64.6043, -64.93911999999999, -64.9494, -64.9409, -64.60291, -64.7549, -65.98343, -65.9584, -64.75421999999999, -64.60945, -64.94762, -64.7549, -64.94771999999999, -64.59661, -64.75461, -64.94773, -64.75522, -64.94941, -64.93812, -64.94927, -64.65025, -64.65033000000001, -64.97967, -64.97816, -65.61189, -64.66941, -64.94958000000001, -64.97453, -64.94969, -64.60491, -64.94954, -64.59753, -65.61142], \"marker\": {\"color\": [\"green\", \"green\", \"green\", \"green\", \"green\", \"green\", \"green\", \"green\", \"green\", \"green\", \"green\", \"green\", \"green\", \"green\", \"green\", \"green\", \"green\", \"green\", \"green\", \"green\", \"green\", \"green\", \"green\", \"green\", \"green\", \"green\", \"green\", \"green\", \"green\", \"green\", \"green\", \"green\", \"green\", \"green\", \"green\", \"green\", \"green\", \"green\", \"green\", \"green\", \"green\", \"green\", \"green\", \"green\", \"green\", \"green\", \"green\", \"green\", \"green\", \"green\", \"green\", \"green\", \"green\", \"green\", \"green\", \"green\", \"green\", \"green\", \"green\", \"green\", \"green\", \"green\", \"green\", \"green\", \"green\", \"green\", \"green\", \"green\", \"green\", \"green\", \"green\", \"green\", \"green\"], \"line\": {\"color\": \"rgba(68, 68, 68, 0)\", \"width\": 3}, \"size\": [8, 8, 8, 8, 8, 8, 8, 8, 8, 8, 8, 8, 8, 8, 8, 8, 8, 8, 8, 8, 8, 8, 8, 8, 8, 8, 8, 8, 8, 8, 8, 8, 8, 8, 8, 8, 8, 8, 8, 8, 8, 8, 8, 8, 8, 8, 8, 8, 8, 8, 8, 8, 8, 8, 8, 8, 8, 8, 8, 8, 8, 8, 8, 8, 8, 8, 8, 8, 8, 8, 8, 8, 8], \"symbol\": [\"circle\", \"circle\", \"circle\", \"circle\", \"circle\", \"circle\", \"circle\", \"circle\", \"circle\", \"circle\", \"circle\", \"circle\", \"circle\", \"circle\", \"circle\", \"circle\", \"circle\", \"circle\", \"circle\", \"circle\", \"circle\", \"circle\", \"circle\", \"circle\", \"circle\", \"circle\", \"circle\", \"circle\", \"circle\", \"circle\", \"circle\", \"circle\", \"circle\", \"circle\", \"circle\", \"circle\", \"circle\", \"circle\", \"circle\", \"circle\", \"circle\", \"circle\", \"circle\", \"circle\", \"circle\", \"circle\", \"circle\", \"circle\", \"circle\", \"circle\", \"circle\", \"circle\", \"circle\", \"circle\", \"circle\", \"circle\", \"circle\", \"circle\", \"circle\", \"circle\", \"circle\", \"circle\", \"circle\", \"circle\", \"circle\", \"circle\", \"circle\", \"circle\", \"circle\", \"circle\", \"circle\", \"circle\", \"circle\"]}, \"name\": \"Spoke Start\", \"text\": [\"MMSI: 209141000\", \"MMSI: 230185000\", \"MMSI: 230185000\", \"MMSI: 230185000\", \"MMSI: 230185000\", \"MMSI: 230185000\", \"MMSI: 230185000\", \"MMSI: 230185000\", \"MMSI: 230185000\", \"MMSI: 230185000\", \"MMSI: 230186000\", \"MMSI: 230186000\", \"MMSI: 230186000\", \"MMSI: 230186000\", \"MMSI: 235061952\", \"MMSI: 244826000\", \"MMSI: 305749000\", \"MMSI: 308311000\", \"MMSI: 308311000\", \"MMSI: 308311000\", \"MMSI: 308311000\", \"MMSI: 308311000\", \"MMSI: 311000160\", \"MMSI: 311000160\", \"MMSI: 311000506\", \"MMSI: 319063200\", \"MMSI: 319063200\", \"MMSI: 319594000\", \"MMSI: 319594000\", \"MMSI: 319723000\", \"MMSI: 319723000\", \"MMSI: 319723000\", \"MMSI: 319723000\", \"MMSI: 319723000\", \"MMSI: 319821000\", \"MMSI: 319821000\", \"MMSI: 325631000\", \"MMSI: 325631000\", \"MMSI: 370425000\", \"MMSI: 370425000\", \"MMSI: 370648000\", \"MMSI: 375902000\", \"MMSI: 375902000\", \"MMSI: 375902000\", \"MMSI: 377901024\", \"MMSI: 377901024\", \"MMSI: 377901024\", \"MMSI: 377901024\", \"MMSI: 377901024\", \"MMSI: 377901024\", \"MMSI: 377901024\", \"MMSI: 377901024\", \"MMSI: 377901024\", \"MMSI: 377901024\", \"MMSI: 377911000\", \"MMSI: 377911000\", \"MMSI: 377911000\", \"MMSI: 377911000\", \"MMSI: 377911000\", \"MMSI: 377911000\", \"MMSI: 538003870\", \"MMSI: 538003870\", \"MMSI: 564923000\", \"MMSI: 564923000\", \"MMSI: 565135000\", \"MMSI: 577365000\", \"MMSI: 577368000\", \"MMSI: 577368000\", \"MMSI: 577368000\", \"MMSI: 577368000\", \"MMSI: 577368000\", \"MMSI: 577368000\", \"MMSI: 636092495\"], \"type\": \"scattergeo\"}, {\"lat\": [18.234004137931034, 18.010393333333333, 18.334145555555555, 18.4017525, 17.696372500000006, 18.4256475, 18.052564999999998, 18.309922500000006, 18.334531428571427, 18.318328, 18.316996666666668, 18.387494000000004, 18.416185000000002, 18.082295000000002], \"lon\": [-64.26840620689656, -63.04445000000001, -64.94997666666666, -64.5972975, -64.75487625, -64.60922249999999, -65.83694, -64.93986, -64.92175285714286, -64.978538, -64.96177333333333, -64.649486, -64.60467, -65.611655], \"marker\": {\"color\": [\"orange\", \"orange\", \"orange\", \"orange\", \"orange\", \"orange\", \"orange\", \"orange\", \"orange\", \"orange\", \"orange\", \"orange\", \"orange\", \"orange\"], \"line\": {\"color\": \"rgba(68, 68, 68, 0)\", \"width\": 3}, \"size\": [25, 9, 24, 12, 15, 11, 9, 12, 13, 12, 10, 12, 11, 10], \"symbol\": [\"circle\", \"circle\", \"circle\", \"circle\", \"circle\", \"circle\", \"circle\", \"circle\", \"circle\", \"circle\", \"circle\", \"circle\", \"circle\", \"circle\"]}, \"name\": \"Hub Start\", \"text\": [\"Port ID: -1.0\", \"Port ID: 0.0\", \"Port ID: 1.0\", \"Port ID: 2.0\", \"Port ID: 3.0\", \"Port ID: 4.0\", \"Port ID: 5.0\", \"Port ID: 6.0\", \"Port ID: 7.0\", \"Port ID: 8.0\", \"Port ID: 9.0\", \"Port ID: 10.0\", \"Port ID: 11.0\", \"Port ID: 12.0\"], \"type\": \"scattergeo\"}, {\"lat\": [18.234004137931034, 18.010393333333333, 18.334145555555555, 18.4017525, 17.696372500000006, 18.4256475, 18.052564999999998, 18.309922500000006, 18.334531428571427, 18.318328, 18.316996666666668, 18.387494000000004, 18.416185000000002], \"lon\": [-64.26840620689656, -63.04445000000001, -64.94997666666666, -64.5972975, -64.75487625, -64.60922249999999, -65.83694, -64.93986, -64.92175285714286, -64.978538, -64.96177333333333, -64.649486, -64.60467], \"marker\": {\"color\": [\"blue\", \"blue\", \"blue\", \"blue\", \"blue\", \"blue\", \"blue\", \"blue\", \"blue\", \"blue\", \"blue\", \"blue\", \"blue\"], \"line\": {\"color\": \"rgba(68, 68, 68, 0)\", \"width\": 3}, \"size\": [32, 10, 23, 12, 15, 12, 9, 10, 11, 11, 11, 11, 10], \"symbol\": [\"circle\", \"circle\", \"circle\", \"circle\", \"circle\", \"circle\", \"circle\", \"circle\", \"circle\", \"circle\", \"circle\", \"circle\", \"circle\"]}, \"name\": \"Hub End\", \"text\": [\"Port ID: -1\", \"Port ID: 0\", \"Port ID: 1\", \"Port ID: 2\", \"Port ID: 3\", \"Port ID: 4\", \"Port ID: 5\", \"Port ID: 6\", \"Port ID: 7\", \"Port ID: 8\", \"Port ID: 9\", \"Port ID: 10\", \"Port ID: 11\"], \"type\": \"scattergeo\"}, {\"lat\": [18.00902, 18.3357, 18.40139, 17.697020000000006, 18.33567, 18.40458, 18.33565, 18.42536, 17.69705, 18.33568, 18.4255, 17.980829999999994, 17.902, 18.428, 18.01083, 18.3312, 18.33118, 18.32483, 18.33117, 18.3165, 18.33183, 18.3175, 18.31897, 18.33453, 18.08323, 18.31699, 18.43998, 18.33487, 18.33404, 18.36627, 18.31398, 18.46958, 18.49942, 18.451320000000006, 18.36354, 18.35725, 18.20458, 18.01106, 18.38635, 18.38724, 18.38795, 18.33537, 18.30803, 18.42568, 17.69641, 18.5073, 18.50643, 17.695, 18.42605, 18.33498, 17.696379999999994, 18.33499, 18.39787, 17.69637, 18.33508, 17.69698, 18.33534, 18.31341, 18.33536, 18.40981, 18.387999999999998, 18.37755, 18.24302, 18.31699, 17.69376, 18.42069, 18.31851, 18.33439, 18.41631, 18.33461, 18.403170000000006, 18.02754, 18.05256], \"lon\": [-63.04453, -64.94765, -64.59435, -64.75511999999999, -64.94773, -64.6007, -64.94773, -64.60906999999999, -64.75514, -64.94769000000001, -64.60916999999999, -63.01767, -62.8535, -64.54033000000001, -63.08626999999999, -64.9253, -64.95378000000001, -64.956, -64.95416999999999, -64.96233000000001, -64.95366999999999, -64.962, -64.98143, -64.91981, -63.08523, -64.96099, -64.76456999999999, -64.92071999999999, -64.93056, -64.9262, -64.62568, -64.4166, -64.4154, -64.71363000000001, -64.75193, -64.5858, -63.10556999999999, -63.0444, -64.64599, -64.65055, -64.57721, -64.9494, -64.9409, -64.6092, -64.7549, -65.98343, -65.9584, -64.75421999999999, -64.60945, -64.94762, -64.7549, -64.94771999999999, -64.59661, -64.7549, -64.94773, -64.75522, -64.94941, -64.93812, -64.94927, -64.59768000000001, -64.65033000000001, -64.63505, -64.97816, -64.97870999999999, -64.74566, -64.60656, -64.97453, -64.94969, -64.60491, -64.94954, -64.59753, -64.12725, -65.83691999999999], \"marker\": {\"color\": [\"red\", \"red\", \"red\", \"red\", \"red\", \"red\", \"red\", \"red\", \"red\", \"red\", \"red\", \"red\", \"red\", \"red\", \"red\", \"red\", \"red\", \"red\", \"red\", \"red\", \"red\", \"red\", \"red\", \"red\", \"red\", \"red\", \"red\", \"red\", \"red\", \"red\", \"red\", \"red\", \"red\", \"red\", \"red\", \"red\", \"red\", \"red\", \"red\", \"red\", \"red\", \"red\", \"red\", \"red\", \"red\", \"red\", \"red\", \"red\", \"red\", \"red\", \"red\", \"red\", \"red\", \"red\", \"red\", \"red\", \"red\", \"red\", \"red\", \"red\", \"red\", \"red\", \"red\", \"red\", \"red\", \"red\", \"red\", \"red\", \"red\", \"red\", \"red\", \"red\", \"red\"], \"line\": {\"color\": \"rgba(68, 68, 68, 0)\", \"width\": 3}, \"size\": [8, 8, 8, 8, 8, 8, 8, 8, 8, 8, 8, 8, 8, 8, 8, 8, 8, 8, 8, 8, 8, 8, 8, 8, 8, 8, 8, 8, 8, 8, 8, 8, 8, 8, 8, 8, 8, 8, 8, 8, 8, 8, 8, 8, 8, 8, 8, 8, 8, 8, 8, 8, 8, 8, 8, 8, 8, 8, 8, 8, 8, 8, 8, 8, 8, 8, 8, 8, 8, 8, 8, 8, 8], \"symbol\": [\"circle\", \"circle\", \"circle\", \"circle\", \"circle\", \"circle\", \"circle\", \"circle\", \"circle\", \"circle\", \"circle\", \"circle\", \"circle\", \"circle\", \"circle\", \"circle\", \"circle\", \"circle\", \"circle\", \"circle\", \"circle\", \"circle\", \"circle\", \"circle\", \"circle\", \"circle\", \"circle\", \"circle\", \"circle\", \"circle\", \"circle\", \"circle\", \"circle\", \"circle\", \"circle\", \"circle\", \"circle\", \"circle\", \"circle\", \"circle\", \"circle\", \"circle\", \"circle\", \"circle\", \"circle\", \"circle\", \"circle\", \"circle\", \"circle\", \"circle\", \"circle\", \"circle\", \"circle\", \"circle\", \"circle\", \"circle\", \"circle\", \"circle\", \"circle\", \"circle\", \"circle\", \"circle\", \"circle\", \"circle\", \"circle\", \"circle\", \"circle\", \"circle\", \"circle\", \"circle\", \"circle\", \"circle\", \"circle\"]}, \"name\": \"Spoke End\", \"text\": [\"MMSI: 209141000\", \"MMSI: 230185000\", \"MMSI: 230185000\", \"MMSI: 230185000\", \"MMSI: 230185000\", \"MMSI: 230185000\", \"MMSI: 230185000\", \"MMSI: 230185000\", \"MMSI: 230185000\", \"MMSI: 230185000\", \"MMSI: 230186000\", \"MMSI: 230186000\", \"MMSI: 230186000\", \"MMSI: 230186000\", \"MMSI: 235061952\", \"MMSI: 244826000\", \"MMSI: 305749000\", \"MMSI: 308311000\", \"MMSI: 308311000\", \"MMSI: 308311000\", \"MMSI: 308311000\", \"MMSI: 308311000\", \"MMSI: 311000160\", \"MMSI: 311000160\", \"MMSI: 311000506\", \"MMSI: 319063200\", \"MMSI: 319063200\", \"MMSI: 319594000\", \"MMSI: 319594000\", \"MMSI: 319723000\", \"MMSI: 319723000\", \"MMSI: 319723000\", \"MMSI: 319723000\", \"MMSI: 319723000\", \"MMSI: 319821000\", \"MMSI: 319821000\", \"MMSI: 325631000\", \"MMSI: 325631000\", \"MMSI: 370425000\", \"MMSI: 370425000\", \"MMSI: 370648000\", \"MMSI: 375902000\", \"MMSI: 375902000\", \"MMSI: 375902000\", \"MMSI: 377901024\", \"MMSI: 377901024\", \"MMSI: 377901024\", \"MMSI: 377901024\", \"MMSI: 377901024\", \"MMSI: 377901024\", \"MMSI: 377901024\", \"MMSI: 377901024\", \"MMSI: 377901024\", \"MMSI: 377901024\", \"MMSI: 377911000\", \"MMSI: 377911000\", \"MMSI: 377911000\", \"MMSI: 377911000\", \"MMSI: 377911000\", \"MMSI: 377911000\", \"MMSI: 538003870\", \"MMSI: 538003870\", \"MMSI: 564923000\", \"MMSI: 564923000\", \"MMSI: 565135000\", \"MMSI: 577365000\", \"MMSI: 577368000\", \"MMSI: 577368000\", \"MMSI: 577368000\", \"MMSI: 577368000\", \"MMSI: 577368000\", \"MMSI: 577368000\", \"MMSI: 636092495\"], \"type\": \"scattergeo\"}, {\"lat\": [18.02078, 18.234004137931034], \"line\": {\"color\": \"gray\", \"width\": 0.5}, \"lon\": [-63.11847, -64.26840620689656], \"mode\": \"lines\", \"opacity\": 0.8, \"showlegend\": false, \"type\": \"scattergeo\"}, {\"lat\": [18.234004137931034, 18.010393333333333], \"line\": {\"color\": \"gray\", \"width\": 0.5}, \"lon\": [-64.26840620689656, -63.04445000000001], \"mode\": \"lines\", \"opacity\": 0.8, \"showlegend\": false, \"type\": \"scattergeo\"}, {\"lat\": [18.010393333333333, 18.00902], \"line\": {\"color\": \"gray\", \"width\": 0.5}, \"lon\": [-63.04445000000001, -63.04453], \"mode\": \"lines\", \"opacity\": 0.8, \"showlegend\": false, \"type\": \"scattergeo\"}, {\"lat\": [18.08363, 18.234004137931034], \"line\": {\"color\": \"gray\", \"width\": 0.5}, \"lon\": [-63.10032, -64.26840620689656], \"mode\": \"lines\", \"opacity\": 0.8, \"showlegend\": false, \"type\": \"scattergeo\"}, {\"lat\": [18.234004137931034, 18.334145555555555], \"line\": {\"color\": \"gray\", \"width\": 0.5}, \"lon\": [-64.26840620689656, -64.94997666666666], \"mode\": \"lines\", \"opacity\": 0.8, \"showlegend\": false, \"type\": \"scattergeo\"}, {\"lat\": [18.334145555555555, 18.3357], \"line\": {\"color\": \"gray\", \"width\": 0.5}, \"lon\": [-64.94997666666666, -64.94765], \"mode\": \"lines\", \"opacity\": 0.8, \"showlegend\": false, \"type\": \"scattergeo\"}, {\"lat\": [18.3357, 18.334145555555555], \"line\": {\"color\": \"gray\", \"width\": 0.5}, \"lon\": [-64.94765, -64.94997666666666], \"mode\": \"lines\", \"opacity\": 0.8, \"showlegend\": false, \"type\": \"scattergeo\"}, {\"lat\": [18.334145555555555, 18.4017525], \"line\": {\"color\": \"gray\", \"width\": 0.5}, \"lon\": [-64.94997666666666, -64.5972975], \"mode\": \"lines\", \"opacity\": 0.8, \"showlegend\": false, \"type\": \"scattergeo\"}, {\"lat\": [18.4017525, 18.40139], \"line\": {\"color\": \"gray\", \"width\": 0.5}, \"lon\": [-64.5972975, -64.59435], \"mode\": \"lines\", \"opacity\": 0.8, \"showlegend\": false, \"type\": \"scattergeo\"}, {\"lat\": [18.40139, 18.4017525], \"line\": {\"color\": \"gray\", \"width\": 0.5}, \"lon\": [-64.59435, -64.5972975], \"mode\": \"lines\", \"opacity\": 0.8, \"showlegend\": false, \"type\": \"scattergeo\"}, {\"lat\": [18.4017525, 17.696372500000006], \"line\": {\"color\": \"gray\", \"width\": 0.5}, \"lon\": [-64.5972975, -64.75487625], \"mode\": \"lines\", \"opacity\": 0.8, \"showlegend\": false, \"type\": \"scattergeo\"}, {\"lat\": [17.696372500000006, 17.697020000000006], \"line\": {\"color\": \"gray\", \"width\": 0.5}, \"lon\": [-64.75487625, -64.75511999999999], \"mode\": \"lines\", \"opacity\": 0.8, \"showlegend\": false, \"type\": \"scattergeo\"}, {\"lat\": [17.697020000000006, 17.696372500000006], \"line\": {\"color\": \"gray\", \"width\": 0.5}, \"lon\": [-64.75511999999999, -64.75487625], \"mode\": \"lines\", \"opacity\": 0.8, \"showlegend\": false, \"type\": \"scattergeo\"}, {\"lat\": [17.696372500000006, 18.334145555555555], \"line\": {\"color\": \"gray\", \"width\": 0.5}, \"lon\": [-64.75487625, -64.94997666666666], \"mode\": \"lines\", \"opacity\": 0.8, \"showlegend\": false, \"type\": \"scattergeo\"}, {\"lat\": [18.334145555555555, 18.33567], \"line\": {\"color\": \"gray\", \"width\": 0.5}, \"lon\": [-64.94997666666666, -64.94773], \"mode\": \"lines\", \"opacity\": 0.8, \"showlegend\": false, \"type\": \"scattergeo\"}, {\"lat\": [18.33567, 18.334145555555555], \"line\": {\"color\": \"gray\", \"width\": 0.5}, \"lon\": [-64.94773, -64.94997666666666], \"mode\": \"lines\", \"opacity\": 0.8, \"showlegend\": false, \"type\": \"scattergeo\"}, {\"lat\": [18.334145555555555, 18.4017525], \"line\": {\"color\": \"gray\", \"width\": 0.5}, \"lon\": [-64.94997666666666, -64.5972975], \"mode\": \"lines\", \"opacity\": 0.8, \"showlegend\": false, \"type\": \"scattergeo\"}, {\"lat\": [18.4017525, 18.40458], \"line\": {\"color\": \"gray\", \"width\": 0.5}, \"lon\": [-64.5972975, -64.6007], \"mode\": \"lines\", \"opacity\": 0.8, \"showlegend\": false, \"type\": \"scattergeo\"}, {\"lat\": [18.40458, 18.4017525], \"line\": {\"color\": \"gray\", \"width\": 0.5}, \"lon\": [-64.6007, -64.5972975], \"mode\": \"lines\", \"opacity\": 0.8, \"showlegend\": false, \"type\": \"scattergeo\"}, {\"lat\": [18.4017525, 18.334145555555555], \"line\": {\"color\": \"gray\", \"width\": 0.5}, \"lon\": [-64.5972975, -64.94997666666666], \"mode\": \"lines\", \"opacity\": 0.8, \"showlegend\": false, \"type\": \"scattergeo\"}, {\"lat\": [18.334145555555555, 18.33565], \"line\": {\"color\": \"gray\", \"width\": 0.5}, \"lon\": [-64.94997666666666, -64.94773], \"mode\": \"lines\", \"opacity\": 0.8, \"showlegend\": false, \"type\": \"scattergeo\"}, {\"lat\": [18.33565, 18.334145555555555], \"line\": {\"color\": \"gray\", \"width\": 0.5}, \"lon\": [-64.94773, -64.94997666666666], \"mode\": \"lines\", \"opacity\": 0.8, \"showlegend\": false, \"type\": \"scattergeo\"}, {\"lat\": [18.334145555555555, 18.4256475], \"line\": {\"color\": \"gray\", \"width\": 0.5}, \"lon\": [-64.94997666666666, -64.60922249999999], \"mode\": \"lines\", \"opacity\": 0.8, \"showlegend\": false, \"type\": \"scattergeo\"}, {\"lat\": [18.4256475, 18.42536], \"line\": {\"color\": \"gray\", \"width\": 0.5}, \"lon\": [-64.60922249999999, -64.60906999999999], \"mode\": \"lines\", \"opacity\": 0.8, \"showlegend\": false, \"type\": \"scattergeo\"}, {\"lat\": [18.42536, 18.4256475], \"line\": {\"color\": \"gray\", \"width\": 0.5}, \"lon\": [-64.60906999999999, -64.60922249999999], \"mode\": \"lines\", \"opacity\": 0.8, \"showlegend\": false, \"type\": \"scattergeo\"}, {\"lat\": [18.4256475, 17.696372500000006], \"line\": {\"color\": \"gray\", \"width\": 0.5}, \"lon\": [-64.60922249999999, -64.75487625], \"mode\": \"lines\", \"opacity\": 0.8, \"showlegend\": false, \"type\": \"scattergeo\"}, {\"lat\": [17.696372500000006, 17.69705], \"line\": {\"color\": \"gray\", \"width\": 0.5}, \"lon\": [-64.75487625, -64.75514], \"mode\": \"lines\", \"opacity\": 0.8, \"showlegend\": false, \"type\": \"scattergeo\"}, {\"lat\": [17.69705, 17.696372500000006], \"line\": {\"color\": \"gray\", \"width\": 0.5}, \"lon\": [-64.75514, -64.75487625], \"mode\": \"lines\", \"opacity\": 0.8, \"showlegend\": false, \"type\": \"scattergeo\"}, {\"lat\": [17.696372500000006, 18.334145555555555], \"line\": {\"color\": \"gray\", \"width\": 0.5}, \"lon\": [-64.75487625, -64.94997666666666], \"mode\": \"lines\", \"opacity\": 0.8, \"showlegend\": false, \"type\": \"scattergeo\"}, {\"lat\": [18.334145555555555, 18.33568], \"line\": {\"color\": \"gray\", \"width\": 0.5}, \"lon\": [-64.94997666666666, -64.94769000000001], \"mode\": \"lines\", \"opacity\": 0.8, \"showlegend\": false, \"type\": \"scattergeo\"}, {\"lat\": [18.04533, 18.234004137931034], \"line\": {\"color\": \"gray\", \"width\": 0.5}, \"lon\": [-63.26067, -64.26840620689656], \"mode\": \"lines\", \"opacity\": 0.8, \"showlegend\": false, \"type\": \"scattergeo\"}, {\"lat\": [18.234004137931034, 18.4256475], \"line\": {\"color\": \"gray\", \"width\": 0.5}, \"lon\": [-64.26840620689656, -64.60922249999999], \"mode\": \"lines\", \"opacity\": 0.8, \"showlegend\": false, \"type\": \"scattergeo\"}, {\"lat\": [18.4256475, 18.4255], \"line\": {\"color\": \"gray\", \"width\": 0.5}, \"lon\": [-64.60922249999999, -64.60916999999999], \"mode\": \"lines\", \"opacity\": 0.8, \"showlegend\": false, \"type\": \"scattergeo\"}, {\"lat\": [18.4255, 18.4256475], \"line\": {\"color\": \"gray\", \"width\": 0.5}, \"lon\": [-64.60916999999999, -64.60922249999999], \"mode\": \"lines\", \"opacity\": 0.8, \"showlegend\": false, \"type\": \"scattergeo\"}, {\"lat\": [18.4256475, 18.234004137931034], \"line\": {\"color\": \"gray\", \"width\": 0.5}, \"lon\": [-64.60922249999999, -64.26840620689656], \"mode\": \"lines\", \"opacity\": 0.8, \"showlegend\": false, \"type\": \"scattergeo\"}, {\"lat\": [18.234004137931034, 17.980829999999994], \"line\": {\"color\": \"gray\", \"width\": 0.5}, \"lon\": [-64.26840620689656, -63.01767], \"mode\": \"lines\", \"opacity\": 0.8, \"showlegend\": false, \"type\": \"scattergeo\"}, {\"lat\": [17.980829999999994, 18.234004137931034], \"line\": {\"color\": \"gray\", \"width\": 0.5}, \"lon\": [-63.01767, -64.26840620689656], \"mode\": \"lines\", \"opacity\": 0.8, \"showlegend\": false, \"type\": \"scattergeo\"}, {\"lat\": [18.234004137931034, 18.234004137931034], \"line\": {\"color\": \"gray\", \"width\": 0.5}, \"lon\": [-64.26840620689656, -64.26840620689656], \"mode\": \"lines\", \"opacity\": 0.8, \"showlegend\": false, \"type\": \"scattergeo\"}, {\"lat\": [18.234004137931034, 17.902], \"line\": {\"color\": \"gray\", \"width\": 0.5}, \"lon\": [-64.26840620689656, -62.8535], \"mode\": \"lines\", \"opacity\": 0.8, \"showlegend\": false, \"type\": \"scattergeo\"}, {\"lat\": [17.902, 18.234004137931034], \"line\": {\"color\": \"gray\", \"width\": 0.5}, \"lon\": [-62.8535, -64.26840620689656], \"mode\": \"lines\", \"opacity\": 0.8, \"showlegend\": false, \"type\": \"scattergeo\"}, {\"lat\": [18.234004137931034, 18.234004137931034], \"line\": {\"color\": \"gray\", \"width\": 0.5}, \"lon\": [-64.26840620689656, -64.26840620689656], \"mode\": \"lines\", \"opacity\": 0.8, \"showlegend\": false, \"type\": \"scattergeo\"}, {\"lat\": [18.234004137931034, 18.428], \"line\": {\"color\": \"gray\", \"width\": 0.5}, \"lon\": [-64.26840620689656, -64.54033000000001], \"mode\": \"lines\", \"opacity\": 0.8, \"showlegend\": false, \"type\": \"scattergeo\"}, {\"lat\": [18.052570000000006, 18.052564999999998], \"line\": {\"color\": \"gray\", \"width\": 0.5}, \"lon\": [-65.83695999999999, -65.83694], \"mode\": \"lines\", \"opacity\": 0.8, \"showlegend\": false, \"type\": \"scattergeo\"}, {\"lat\": [18.052564999999998, 18.234004137931034], \"line\": {\"color\": \"gray\", \"width\": 0.5}, \"lon\": [-65.83694, -64.26840620689656], \"mode\": \"lines\", \"opacity\": 0.8, \"showlegend\": false, \"type\": \"scattergeo\"}, {\"lat\": [18.234004137931034, 18.01083], \"line\": {\"color\": \"gray\", \"width\": 0.5}, \"lon\": [-64.26840620689656, -63.08626999999999], \"mode\": \"lines\", \"opacity\": 0.8, \"showlegend\": false, \"type\": \"scattergeo\"}, {\"lat\": [18.31062, 18.309922500000006], \"line\": {\"color\": \"gray\", \"width\": 0.5}, \"lon\": [-64.9413, -64.93986], \"mode\": \"lines\", \"opacity\": 0.8, \"showlegend\": false, \"type\": \"scattergeo\"}, {\"lat\": [18.309922500000006, 18.334531428571427], \"line\": {\"color\": \"gray\", \"width\": 0.5}, \"lon\": [-64.93986, -64.92175285714286], \"mode\": \"lines\", \"opacity\": 0.8, \"showlegend\": false, \"type\": \"scattergeo\"}, {\"lat\": [18.334531428571427, 18.3312], \"line\": {\"color\": \"gray\", \"width\": 0.5}, \"lon\": [-64.92175285714286, -64.9253], \"mode\": \"lines\", \"opacity\": 0.8, \"showlegend\": false, \"type\": \"scattergeo\"}, {\"lat\": [18.31904, 18.318328], \"line\": {\"color\": \"gray\", \"width\": 0.5}, \"lon\": [-64.97835, -64.978538], \"mode\": \"lines\", \"opacity\": 0.8, \"showlegend\": false, \"type\": \"scattergeo\"}, {\"lat\": [18.318328, 18.334145555555555], \"line\": {\"color\": \"gray\", \"width\": 0.5}, \"lon\": [-64.978538, -64.94997666666666], \"mode\": \"lines\", \"opacity\": 0.8, \"showlegend\": false, \"type\": \"scattergeo\"}, {\"lat\": [18.334145555555555, 18.33118], \"line\": {\"color\": \"gray\", \"width\": 0.5}, \"lon\": [-64.94997666666666, -64.95378000000001], \"mode\": \"lines\", \"opacity\": 0.8, \"showlegend\": false, \"type\": \"scattergeo\"}, {\"lat\": [18.33117, 18.334145555555555], \"line\": {\"color\": \"gray\", \"width\": 0.5}, \"lon\": [-64.95433, -64.94997666666666], \"mode\": \"lines\", \"opacity\": 0.8, \"showlegend\": false, \"type\": \"scattergeo\"}, {\"lat\": [18.334145555555555, 18.234004137931034], \"line\": {\"color\": \"gray\", \"width\": 0.5}, \"lon\": [-64.94997666666666, -64.26840620689656], \"mode\": \"lines\", \"opacity\": 0.8, \"showlegend\": false, \"type\": \"scattergeo\"}, {\"lat\": [18.234004137931034, 18.32483], \"line\": {\"color\": \"gray\", \"width\": 0.5}, \"lon\": [-64.26840620689656, -64.956], \"mode\": \"lines\", \"opacity\": 0.8, \"showlegend\": false, \"type\": \"scattergeo\"}, {\"lat\": [18.32483, 18.234004137931034], \"line\": {\"color\": \"gray\", \"width\": 0.5}, \"lon\": [-64.956, -64.26840620689656], \"mode\": \"lines\", \"opacity\": 0.8, \"showlegend\": false, \"type\": \"scattergeo\"}, {\"lat\": [18.234004137931034, 18.334145555555555], \"line\": {\"color\": \"gray\", \"width\": 0.5}, \"lon\": [-64.26840620689656, -64.94997666666666], \"mode\": \"lines\", \"opacity\": 0.8, \"showlegend\": false, \"type\": \"scattergeo\"}, {\"lat\": [18.334145555555555, 18.33117], \"line\": {\"color\": \"gray\", \"width\": 0.5}, \"lon\": [-64.94997666666666, -64.95416999999999], \"mode\": \"lines\", \"opacity\": 0.8, \"showlegend\": false, \"type\": \"scattergeo\"}, {\"lat\": [18.33117, 18.334145555555555], \"line\": {\"color\": \"gray\", \"width\": 0.5}, \"lon\": [-64.95416999999999, -64.94997666666666], \"mode\": \"lines\", \"opacity\": 0.8, \"showlegend\": false, \"type\": \"scattergeo\"}, {\"lat\": [18.334145555555555, 18.316996666666668], \"line\": {\"color\": \"gray\", \"width\": 0.5}, \"lon\": [-64.94997666666666, -64.96177333333333], \"mode\": \"lines\", \"opacity\": 0.8, \"showlegend\": false, \"type\": \"scattergeo\"}, {\"lat\": [18.316996666666668, 18.3165], \"line\": {\"color\": \"gray\", \"width\": 0.5}, \"lon\": [-64.96177333333333, -64.96233000000001], \"mode\": \"lines\", \"opacity\": 0.8, \"showlegend\": false, \"type\": \"scattergeo\"}, {\"lat\": [18.3165, 18.316996666666668], \"line\": {\"color\": \"gray\", \"width\": 0.5}, \"lon\": [-64.96233000000001, -64.96177333333333], \"mode\": \"lines\", \"opacity\": 0.8, \"showlegend\": false, \"type\": \"scattergeo\"}, {\"lat\": [18.316996666666668, 18.334145555555555], \"line\": {\"color\": \"gray\", \"width\": 0.5}, \"lon\": [-64.96177333333333, -64.94997666666666], \"mode\": \"lines\", \"opacity\": 0.8, \"showlegend\": false, \"type\": \"scattergeo\"}, {\"lat\": [18.334145555555555, 18.33183], \"line\": {\"color\": \"gray\", \"width\": 0.5}, \"lon\": [-64.94997666666666, -64.95366999999999], \"mode\": \"lines\", \"opacity\": 0.8, \"showlegend\": false, \"type\": \"scattergeo\"}, {\"lat\": [18.33183, 18.334145555555555], \"line\": {\"color\": \"gray\", \"width\": 0.5}, \"lon\": [-64.95366999999999, -64.94997666666666], \"mode\": \"lines\", \"opacity\": 0.8, \"showlegend\": false, \"type\": \"scattergeo\"}, {\"lat\": [18.334145555555555, 18.316996666666668], \"line\": {\"color\": \"gray\", \"width\": 0.5}, \"lon\": [-64.94997666666666, -64.96177333333333], \"mode\": \"lines\", \"opacity\": 0.8, \"showlegend\": false, \"type\": \"scattergeo\"}, {\"lat\": [18.316996666666668, 18.3175], \"line\": {\"color\": \"gray\", \"width\": 0.5}, \"lon\": [-64.96177333333333, -64.962], \"mode\": \"lines\", \"opacity\": 0.8, \"showlegend\": false, \"type\": \"scattergeo\"}, {\"lat\": [18.33188, 18.334145555555555], \"line\": {\"color\": \"gray\", \"width\": 0.5}, \"lon\": [-64.95286999999999, -64.94997666666666], \"mode\": \"lines\", \"opacity\": 0.8, \"showlegend\": false, \"type\": \"scattergeo\"}, {\"lat\": [18.334145555555555, 18.318328], \"line\": {\"color\": \"gray\", \"width\": 0.5}, \"lon\": [-64.94997666666666, -64.978538], \"mode\": \"lines\", \"opacity\": 0.8, \"showlegend\": false, \"type\": \"scattergeo\"}, {\"lat\": [18.318328, 18.31897], \"line\": {\"color\": \"gray\", \"width\": 0.5}, \"lon\": [-64.978538, -64.98143], \"mode\": \"lines\", \"opacity\": 0.8, \"showlegend\": false, \"type\": \"scattergeo\"}, {\"lat\": [18.31897, 18.318328], \"line\": {\"color\": \"gray\", \"width\": 0.5}, \"lon\": [-64.98143, -64.978538], \"mode\": \"lines\", \"opacity\": 0.8, \"showlegend\": false, \"type\": \"scattergeo\"}, {\"lat\": [18.318328, 18.334531428571427], \"line\": {\"color\": \"gray\", \"width\": 0.5}, \"lon\": [-64.978538, -64.92175285714286], \"mode\": \"lines\", \"opacity\": 0.8, \"showlegend\": false, \"type\": \"scattergeo\"}, {\"lat\": [18.334531428571427, 18.33453], \"line\": {\"color\": \"gray\", \"width\": 0.5}, \"lon\": [-64.92175285714286, -64.91981], \"mode\": \"lines\", \"opacity\": 0.8, \"showlegend\": false, \"type\": \"scattergeo\"}, {\"lat\": [17.6433, 18.234004137931034], \"line\": {\"color\": \"gray\", \"width\": 0.5}, \"lon\": [-63.25713, -64.26840620689656], \"mode\": \"lines\", \"opacity\": 0.8, \"showlegend\": false, \"type\": \"scattergeo\"}, {\"lat\": [18.234004137931034, 18.234004137931034], \"line\": {\"color\": \"gray\", \"width\": 0.5}, \"lon\": [-64.26840620689656, -64.26840620689656], \"mode\": \"lines\", \"opacity\": 0.8, \"showlegend\": false, \"type\": \"scattergeo\"}, {\"lat\": [18.234004137931034, 18.08323], \"line\": {\"color\": \"gray\", \"width\": 0.5}, \"lon\": [-64.26840620689656, -63.08523], \"mode\": \"lines\", \"opacity\": 0.8, \"showlegend\": false, \"type\": \"scattergeo\"}, {\"lat\": [18.33625, 18.334531428571427], \"line\": {\"color\": \"gray\", \"width\": 0.5}, \"lon\": [-64.92115, -64.92175285714286], \"mode\": \"lines\", \"opacity\": 0.8, \"showlegend\": false, \"type\": \"scattergeo\"}, {\"lat\": [18.334531428571427, 18.316996666666668], \"line\": {\"color\": \"gray\", \"width\": 0.5}, \"lon\": [-64.92175285714286, -64.96177333333333], \"mode\": \"lines\", \"opacity\": 0.8, \"showlegend\": false, \"type\": \"scattergeo\"}, {\"lat\": [18.316996666666668, 18.31699], \"line\": {\"color\": \"gray\", \"width\": 0.5}, \"lon\": [-64.96177333333333, -64.96099], \"mode\": \"lines\", \"opacity\": 0.8, \"showlegend\": false, \"type\": \"scattergeo\"}, {\"lat\": [18.31699, 18.316996666666668], \"line\": {\"color\": \"gray\", \"width\": 0.5}, \"lon\": [-64.96099, -64.96177333333333], \"mode\": \"lines\", \"opacity\": 0.8, \"showlegend\": false, \"type\": \"scattergeo\"}, {\"lat\": [18.316996666666668, 18.234004137931034], \"line\": {\"color\": \"gray\", \"width\": 0.5}, \"lon\": [-64.96177333333333, -64.26840620689656], \"mode\": \"lines\", \"opacity\": 0.8, \"showlegend\": false, \"type\": \"scattergeo\"}, {\"lat\": [18.234004137931034, 18.43998], \"line\": {\"color\": \"gray\", \"width\": 0.5}, \"lon\": [-64.26840620689656, -64.76456999999999], \"mode\": \"lines\", \"opacity\": 0.8, \"showlegend\": false, \"type\": \"scattergeo\"}, {\"lat\": [18.33486, 18.334531428571427], \"line\": {\"color\": \"gray\", \"width\": 0.5}, \"lon\": [-64.92073, -64.92175285714286], \"mode\": \"lines\", \"opacity\": 0.8, \"showlegend\": false, \"type\": \"scattergeo\"}, {\"lat\": [18.334531428571427, 18.334531428571427], \"line\": {\"color\": \"gray\", \"width\": 0.5}, \"lon\": [-64.92175285714286, -64.92175285714286], \"mode\": \"lines\", \"opacity\": 0.8, \"showlegend\": false, \"type\": \"scattergeo\"}, {\"lat\": [18.334531428571427, 18.33487], \"line\": {\"color\": \"gray\", \"width\": 0.5}, \"lon\": [-64.92175285714286, -64.92071999999999], \"mode\": \"lines\", \"opacity\": 0.8, \"showlegend\": false, \"type\": \"scattergeo\"}, {\"lat\": [18.33487, 18.334531428571427], \"line\": {\"color\": \"gray\", \"width\": 0.5}, \"lon\": [-64.92071999999999, -64.92175285714286], \"mode\": \"lines\", \"opacity\": 0.8, \"showlegend\": false, \"type\": \"scattergeo\"}, {\"lat\": [18.334531428571427, 18.234004137931034], \"line\": {\"color\": \"gray\", \"width\": 0.5}, \"lon\": [-64.92175285714286, -64.26840620689656], \"mode\": \"lines\", \"opacity\": 0.8, \"showlegend\": false, \"type\": \"scattergeo\"}, {\"lat\": [18.234004137931034, 18.33404], \"line\": {\"color\": \"gray\", \"width\": 0.5}, \"lon\": [-64.26840620689656, -64.93056], \"mode\": \"lines\", \"opacity\": 0.8, \"showlegend\": false, \"type\": \"scattergeo\"}, {\"lat\": [18.33483, 18.334531428571427], \"line\": {\"color\": \"gray\", \"width\": 0.5}, \"lon\": [-64.92182, -64.92175285714286], \"mode\": \"lines\", \"opacity\": 0.8, \"showlegend\": false, \"type\": \"scattergeo\"}, {\"lat\": [18.334531428571427, 18.234004137931034], \"line\": {\"color\": \"gray\", \"width\": 0.5}, \"lon\": [-64.92175285714286, -64.26840620689656], \"mode\": \"lines\", \"opacity\": 0.8, \"showlegend\": false, \"type\": \"scattergeo\"}, {\"lat\": [18.234004137931034, 18.36627], \"line\": {\"color\": \"gray\", \"width\": 0.5}, \"lon\": [-64.26840620689656, -64.9262], \"mode\": \"lines\", \"opacity\": 0.8, \"showlegend\": false, \"type\": \"scattergeo\"}, {\"lat\": [18.36627, 18.234004137931034], \"line\": {\"color\": \"gray\", \"width\": 0.5}, \"lon\": [-64.9262, -64.26840620689656], \"mode\": \"lines\", \"opacity\": 0.8, \"showlegend\": false, \"type\": \"scattergeo\"}, {\"lat\": [18.234004137931034, 18.234004137931034], \"line\": {\"color\": \"gray\", \"width\": 0.5}, \"lon\": [-64.26840620689656, -64.26840620689656], \"mode\": \"lines\", \"opacity\": 0.8, \"showlegend\": false, \"type\": \"scattergeo\"}, {\"lat\": [18.234004137931034, 18.31398], \"line\": {\"color\": \"gray\", \"width\": 0.5}, \"lon\": [-64.26840620689656, -64.62568], \"mode\": \"lines\", \"opacity\": 0.8, \"showlegend\": false, \"type\": \"scattergeo\"}, {\"lat\": [18.31398, 18.234004137931034], \"line\": {\"color\": \"gray\", \"width\": 0.5}, \"lon\": [-64.62568, -64.26840620689656], \"mode\": \"lines\", \"opacity\": 0.8, \"showlegend\": false, \"type\": \"scattergeo\"}, {\"lat\": [18.234004137931034, 18.234004137931034], \"line\": {\"color\": \"gray\", \"width\": 0.5}, \"lon\": [-64.26840620689656, -64.26840620689656], \"mode\": \"lines\", \"opacity\": 0.8, \"showlegend\": false, \"type\": \"scattergeo\"}, {\"lat\": [18.234004137931034, 18.46958], \"line\": {\"color\": \"gray\", \"width\": 0.5}, \"lon\": [-64.26840620689656, -64.4166], \"mode\": \"lines\", \"opacity\": 0.8, \"showlegend\": false, \"type\": \"scattergeo\"}, {\"lat\": [18.46958, 18.234004137931034], \"line\": {\"color\": \"gray\", \"width\": 0.5}, \"lon\": [-64.4166, -64.26840620689656], \"mode\": \"lines\", \"opacity\": 0.8, \"showlegend\": false, \"type\": \"scattergeo\"}, {\"lat\": [18.234004137931034, 18.234004137931034], \"line\": {\"color\": \"gray\", \"width\": 0.5}, \"lon\": [-64.26840620689656, -64.26840620689656], \"mode\": \"lines\", \"opacity\": 0.8, \"showlegend\": false, \"type\": \"scattergeo\"}, {\"lat\": [18.234004137931034, 18.49942], \"line\": {\"color\": \"gray\", \"width\": 0.5}, \"lon\": [-64.26840620689656, -64.4154], \"mode\": \"lines\", \"opacity\": 0.8, \"showlegend\": false, \"type\": \"scattergeo\"}, {\"lat\": [18.49942, 18.234004137931034], \"line\": {\"color\": \"gray\", \"width\": 0.5}, \"lon\": [-64.4154, -64.26840620689656], \"mode\": \"lines\", \"opacity\": 0.8, \"showlegend\": false, \"type\": \"scattergeo\"}, {\"lat\": [18.234004137931034, 18.234004137931034], \"line\": {\"color\": \"gray\", \"width\": 0.5}, \"lon\": [-64.26840620689656, -64.26840620689656], \"mode\": \"lines\", \"opacity\": 0.8, \"showlegend\": false, \"type\": \"scattergeo\"}, {\"lat\": [18.234004137931034, 18.451320000000006], \"line\": {\"color\": \"gray\", \"width\": 0.5}, \"lon\": [-64.26840620689656, -64.71363000000001], \"mode\": \"lines\", \"opacity\": 0.8, \"showlegend\": false, \"type\": \"scattergeo\"}, {\"lat\": [18.33518, 18.334531428571427], \"line\": {\"color\": \"gray\", \"width\": 0.5}, \"lon\": [-64.92274, -64.92175285714286], \"mode\": \"lines\", \"opacity\": 0.8, \"showlegend\": false, \"type\": \"scattergeo\"}, {\"lat\": [18.334531428571427, 18.234004137931034], \"line\": {\"color\": \"gray\", \"width\": 0.5}, \"lon\": [-64.92175285714286, -64.26840620689656], \"mode\": \"lines\", \"opacity\": 0.8, \"showlegend\": false, \"type\": \"scattergeo\"}, {\"lat\": [18.234004137931034, 18.36354], \"line\": {\"color\": \"gray\", \"width\": 0.5}, \"lon\": [-64.26840620689656, -64.75193], \"mode\": \"lines\", \"opacity\": 0.8, \"showlegend\": false, \"type\": \"scattergeo\"}, {\"lat\": [18.36354, 18.234004137931034], \"line\": {\"color\": \"gray\", \"width\": 0.5}, \"lon\": [-64.75193, -64.26840620689656], \"mode\": \"lines\", \"opacity\": 0.8, \"showlegend\": false, \"type\": \"scattergeo\"}, {\"lat\": [18.234004137931034, 18.234004137931034], \"line\": {\"color\": \"gray\", \"width\": 0.5}, \"lon\": [-64.26840620689656, -64.26840620689656], \"mode\": \"lines\", \"opacity\": 0.8, \"showlegend\": false, \"type\": \"scattergeo\"}, {\"lat\": [18.234004137931034, 18.35725], \"line\": {\"color\": \"gray\", \"width\": 0.5}, \"lon\": [-64.26840620689656, -64.5858], \"mode\": \"lines\", \"opacity\": 0.8, \"showlegend\": false, \"type\": \"scattergeo\"}, {\"lat\": [18.0111, 18.010393333333333], \"line\": {\"color\": \"gray\", \"width\": 0.5}, \"lon\": [-63.04442, -63.04445000000001], \"mode\": \"lines\", \"opacity\": 0.8, \"showlegend\": false, \"type\": \"scattergeo\"}, {\"lat\": [18.010393333333333, 18.234004137931034], \"line\": {\"color\": \"gray\", \"width\": 0.5}, \"lon\": [-63.04445000000001, -64.26840620689656], \"mode\": \"lines\", \"opacity\": 0.8, \"showlegend\": false, \"type\": \"scattergeo\"}, {\"lat\": [18.234004137931034, 18.20458], \"line\": {\"color\": \"gray\", \"width\": 0.5}, \"lon\": [-64.26840620689656, -63.10556999999999], \"mode\": \"lines\", \"opacity\": 0.8, \"showlegend\": false, \"type\": \"scattergeo\"}, {\"lat\": [18.20458, 18.234004137931034], \"line\": {\"color\": \"gray\", \"width\": 0.5}, \"lon\": [-63.10556999999999, -64.26840620689656], \"mode\": \"lines\", \"opacity\": 0.8, \"showlegend\": false, \"type\": \"scattergeo\"}, {\"lat\": [18.234004137931034, 18.010393333333333], \"line\": {\"color\": \"gray\", \"width\": 0.5}, \"lon\": [-64.26840620689656, -63.04445000000001], \"mode\": \"lines\", \"opacity\": 0.8, \"showlegend\": false, \"type\": \"scattergeo\"}, {\"lat\": [18.010393333333333, 18.01106], \"line\": {\"color\": \"gray\", \"width\": 0.5}, \"lon\": [-63.04445000000001, -63.0444], \"mode\": \"lines\", \"opacity\": 0.8, \"showlegend\": false, \"type\": \"scattergeo\"}, {\"lat\": [18.38771, 18.387494000000004], \"line\": {\"color\": \"gray\", \"width\": 0.5}, \"lon\": [-64.65031, -64.649486], \"mode\": \"lines\", \"opacity\": 0.8, \"showlegend\": false, \"type\": \"scattergeo\"}, {\"lat\": [18.387494000000004, 18.387494000000004], \"line\": {\"color\": \"gray\", \"width\": 0.5}, \"lon\": [-64.649486, -64.649486], \"mode\": \"lines\", \"opacity\": 0.8, \"showlegend\": false, \"type\": \"scattergeo\"}, {\"lat\": [18.387494000000004, 18.38635], \"line\": {\"color\": \"gray\", \"width\": 0.5}, \"lon\": [-64.649486, -64.64599], \"mode\": \"lines\", \"opacity\": 0.8, \"showlegend\": false, \"type\": \"scattergeo\"}, {\"lat\": [18.38635, 18.387494000000004], \"line\": {\"color\": \"gray\", \"width\": 0.5}, \"lon\": [-64.64599, -64.649486], \"mode\": \"lines\", \"opacity\": 0.8, \"showlegend\": false, \"type\": \"scattergeo\"}, {\"lat\": [18.387494000000004, 18.387494000000004], \"line\": {\"color\": \"gray\", \"width\": 0.5}, \"lon\": [-64.649486, -64.649486], \"mode\": \"lines\", \"opacity\": 0.8, \"showlegend\": false, \"type\": \"scattergeo\"}, {\"lat\": [18.387494000000004, 18.38724], \"line\": {\"color\": \"gray\", \"width\": 0.5}, \"lon\": [-64.649486, -64.65055], \"mode\": \"lines\", \"opacity\": 0.8, \"showlegend\": false, \"type\": \"scattergeo\"}, {\"lat\": [18.41416, 18.416185000000002], \"line\": {\"color\": \"gray\", \"width\": 0.5}, \"lon\": [-64.6043, -64.60467], \"mode\": \"lines\", \"opacity\": 0.8, \"showlegend\": false, \"type\": \"scattergeo\"}, {\"lat\": [18.416185000000002, 18.234004137931034], \"line\": {\"color\": \"gray\", \"width\": 0.5}, \"lon\": [-64.60467, -64.26840620689656], \"mode\": \"lines\", \"opacity\": 0.8, \"showlegend\": false, \"type\": \"scattergeo\"}, {\"lat\": [18.234004137931034, 18.38795], \"line\": {\"color\": \"gray\", \"width\": 0.5}, \"lon\": [-64.26840620689656, -64.57721], \"mode\": \"lines\", \"opacity\": 0.8, \"showlegend\": false, \"type\": \"scattergeo\"}, {\"lat\": [18.30763, 18.309922500000006], \"line\": {\"color\": \"gray\", \"width\": 0.5}, \"lon\": [-64.93911999999999, -64.93986], \"mode\": \"lines\", \"opacity\": 0.8, \"showlegend\": false, \"type\": \"scattergeo\"}, {\"lat\": [18.309922500000006, 18.334145555555555], \"line\": {\"color\": \"gray\", \"width\": 0.5}, \"lon\": [-64.93986, -64.94997666666666], \"mode\": \"lines\", \"opacity\": 0.8, \"showlegend\": false, \"type\": \"scattergeo\"}, {\"lat\": [18.334145555555555, 18.33537], \"line\": {\"color\": \"gray\", \"width\": 0.5}, \"lon\": [-64.94997666666666, -64.9494], \"mode\": \"lines\", \"opacity\": 0.8, \"showlegend\": false, \"type\": \"scattergeo\"}, {\"lat\": [18.33537, 18.334145555555555], \"line\": {\"color\": \"gray\", \"width\": 0.5}, \"lon\": [-64.9494, -64.94997666666666], \"mode\": \"lines\", \"opacity\": 0.8, \"showlegend\": false, \"type\": \"scattergeo\"}, {\"lat\": [18.334145555555555, 18.309922500000006], \"line\": {\"color\": \"gray\", \"width\": 0.5}, \"lon\": [-64.94997666666666, -64.93986], \"mode\": \"lines\", \"opacity\": 0.8, \"showlegend\": false, \"type\": \"scattergeo\"}, {\"lat\": [18.309922500000006, 18.30803], \"line\": {\"color\": \"gray\", \"width\": 0.5}, \"lon\": [-64.93986, -64.9409], \"mode\": \"lines\", \"opacity\": 0.8, \"showlegend\": false, \"type\": \"scattergeo\"}, {\"lat\": [18.30803, 18.309922500000006], \"line\": {\"color\": \"gray\", \"width\": 0.5}, \"lon\": [-64.9409, -64.93986], \"mode\": \"lines\", \"opacity\": 0.8, \"showlegend\": false, \"type\": \"scattergeo\"}, {\"lat\": [18.309922500000006, 18.4256475], \"line\": {\"color\": \"gray\", \"width\": 0.5}, \"lon\": [-64.93986, -64.60922249999999], \"mode\": \"lines\", \"opacity\": 0.8, \"showlegend\": false, \"type\": \"scattergeo\"}, {\"lat\": [18.4256475, 18.42568], \"line\": {\"color\": \"gray\", \"width\": 0.5}, \"lon\": [-64.60922249999999, -64.6092], \"mode\": \"lines\", \"opacity\": 0.8, \"showlegend\": false, \"type\": \"scattergeo\"}, {\"lat\": [18.41358, 18.416185000000002], \"line\": {\"color\": \"gray\", \"width\": 0.5}, \"lon\": [-64.60291, -64.60467], \"mode\": \"lines\", \"opacity\": 0.8, \"showlegend\": false, \"type\": \"scattergeo\"}, {\"lat\": [18.416185000000002, 17.696372500000006], \"line\": {\"color\": \"gray\", \"width\": 0.5}, \"lon\": [-64.60467, -64.75487625], \"mode\": \"lines\", \"opacity\": 0.8, \"showlegend\": false, \"type\": \"scattergeo\"}, {\"lat\": [17.696372500000006, 17.69641], \"line\": {\"color\": \"gray\", \"width\": 0.5}, \"lon\": [-64.75487625, -64.7549], \"mode\": \"lines\", \"opacity\": 0.8, \"showlegend\": false, \"type\": \"scattergeo\"}, {\"lat\": [17.69641, 17.696372500000006], \"line\": {\"color\": \"gray\", \"width\": 0.5}, \"lon\": [-64.7549, -64.75487625], \"mode\": \"lines\", \"opacity\": 0.8, \"showlegend\": false, \"type\": \"scattergeo\"}, {\"lat\": [17.696372500000006, 18.234004137931034], \"line\": {\"color\": \"gray\", \"width\": 0.5}, \"lon\": [-64.75487625, -64.26840620689656], \"mode\": \"lines\", \"opacity\": 0.8, \"showlegend\": false, \"type\": \"scattergeo\"}, {\"lat\": [18.234004137931034, 18.5073], \"line\": {\"color\": \"gray\", \"width\": 0.5}, \"lon\": [-64.26840620689656, -65.98343], \"mode\": \"lines\", \"opacity\": 0.8, \"showlegend\": false, \"type\": \"scattergeo\"}, {\"lat\": [18.5073, 18.234004137931034], \"line\": {\"color\": \"gray\", \"width\": 0.5}, \"lon\": [-65.98343, -64.26840620689656], \"mode\": \"lines\", \"opacity\": 0.8, \"showlegend\": false, \"type\": \"scattergeo\"}, {\"lat\": [18.234004137931034, 18.234004137931034], \"line\": {\"color\": \"gray\", \"width\": 0.5}, \"lon\": [-64.26840620689656, -64.26840620689656], \"mode\": \"lines\", \"opacity\": 0.8, \"showlegend\": false, \"type\": \"scattergeo\"}, {\"lat\": [18.234004137931034, 18.50643], \"line\": {\"color\": \"gray\", \"width\": 0.5}, \"lon\": [-64.26840620689656, -65.9584], \"mode\": \"lines\", \"opacity\": 0.8, \"showlegend\": false, \"type\": \"scattergeo\"}, {\"lat\": [18.50643, 18.234004137931034], \"line\": {\"color\": \"gray\", \"width\": 0.5}, \"lon\": [-65.9584, -64.26840620689656], \"mode\": \"lines\", \"opacity\": 0.8, \"showlegend\": false, \"type\": \"scattergeo\"}, {\"lat\": [18.234004137931034, 17.696372500000006], \"line\": {\"color\": \"gray\", \"width\": 0.5}, \"lon\": [-64.26840620689656, -64.75487625], \"mode\": \"lines\", \"opacity\": 0.8, \"showlegend\": false, \"type\": \"scattergeo\"}, {\"lat\": [17.696372500000006, 17.695], \"line\": {\"color\": \"gray\", \"width\": 0.5}, \"lon\": [-64.75487625, -64.75421999999999], \"mode\": \"lines\", \"opacity\": 0.8, \"showlegend\": false, \"type\": \"scattergeo\"}, {\"lat\": [17.695, 17.696372500000006], \"line\": {\"color\": \"gray\", \"width\": 0.5}, \"lon\": [-64.75421999999999, -64.75487625], \"mode\": \"lines\", \"opacity\": 0.8, \"showlegend\": false, \"type\": \"scattergeo\"}, {\"lat\": [17.696372500000006, 18.4256475], \"line\": {\"color\": \"gray\", \"width\": 0.5}, \"lon\": [-64.75487625, -64.60922249999999], \"mode\": \"lines\", \"opacity\": 0.8, \"showlegend\": false, \"type\": \"scattergeo\"}, {\"lat\": [18.4256475, 18.42605], \"line\": {\"color\": \"gray\", \"width\": 0.5}, \"lon\": [-64.60922249999999, -64.60945], \"mode\": \"lines\", \"opacity\": 0.8, \"showlegend\": false, \"type\": \"scattergeo\"}, {\"lat\": [18.42605, 18.4256475], \"line\": {\"color\": \"gray\", \"width\": 0.5}, \"lon\": [-64.60945, -64.60922249999999], \"mode\": \"lines\", \"opacity\": 0.8, \"showlegend\": false, \"type\": \"scattergeo\"}, {\"lat\": [18.4256475, 18.334145555555555], \"line\": {\"color\": \"gray\", \"width\": 0.5}, \"lon\": [-64.60922249999999, -64.94997666666666], \"mode\": \"lines\", \"opacity\": 0.8, \"showlegend\": false, \"type\": \"scattergeo\"}, {\"lat\": [18.334145555555555, 18.33498], \"line\": {\"color\": \"gray\", \"width\": 0.5}, \"lon\": [-64.94997666666666, -64.94762], \"mode\": \"lines\", \"opacity\": 0.8, \"showlegend\": false, \"type\": \"scattergeo\"}, {\"lat\": [18.33498, 18.334145555555555], \"line\": {\"color\": \"gray\", \"width\": 0.5}, \"lon\": [-64.94762, -64.94997666666666], \"mode\": \"lines\", \"opacity\": 0.8, \"showlegend\": false, \"type\": \"scattergeo\"}, {\"lat\": [18.334145555555555, 17.696372500000006], \"line\": {\"color\": \"gray\", \"width\": 0.5}, \"lon\": [-64.94997666666666, -64.75487625], \"mode\": \"lines\", \"opacity\": 0.8, \"showlegend\": false, \"type\": \"scattergeo\"}, {\"lat\": [17.696372500000006, 17.696379999999994], \"line\": {\"color\": \"gray\", \"width\": 0.5}, \"lon\": [-64.75487625, -64.7549], \"mode\": \"lines\", \"opacity\": 0.8, \"showlegend\": false, \"type\": \"scattergeo\"}, {\"lat\": [17.696379999999994, 17.696372500000006], \"line\": {\"color\": \"gray\", \"width\": 0.5}, \"lon\": [-64.7549, -64.75487625], \"mode\": \"lines\", \"opacity\": 0.8, \"showlegend\": false, \"type\": \"scattergeo\"}, {\"lat\": [17.696372500000006, 18.334145555555555], \"line\": {\"color\": \"gray\", \"width\": 0.5}, \"lon\": [-64.75487625, -64.94997666666666], \"mode\": \"lines\", \"opacity\": 0.8, \"showlegend\": false, \"type\": \"scattergeo\"}, {\"lat\": [18.334145555555555, 18.33499], \"line\": {\"color\": \"gray\", \"width\": 0.5}, \"lon\": [-64.94997666666666, -64.94771999999999], \"mode\": \"lines\", \"opacity\": 0.8, \"showlegend\": false, \"type\": \"scattergeo\"}, {\"lat\": [18.33499, 18.334145555555555], \"line\": {\"color\": \"gray\", \"width\": 0.5}, \"lon\": [-64.94771999999999, -64.94997666666666], \"mode\": \"lines\", \"opacity\": 0.8, \"showlegend\": false, \"type\": \"scattergeo\"}, {\"lat\": [18.334145555555555, 18.4017525], \"line\": {\"color\": \"gray\", \"width\": 0.5}, \"lon\": [-64.94997666666666, -64.5972975], \"mode\": \"lines\", \"opacity\": 0.8, \"showlegend\": false, \"type\": \"scattergeo\"}, {\"lat\": [18.4017525, 18.39787], \"line\": {\"color\": \"gray\", \"width\": 0.5}, \"lon\": [-64.5972975, -64.59661], \"mode\": \"lines\", \"opacity\": 0.8, \"showlegend\": false, \"type\": \"scattergeo\"}, {\"lat\": [18.39787, 18.4017525], \"line\": {\"color\": \"gray\", \"width\": 0.5}, \"lon\": [-64.59661, -64.5972975], \"mode\": \"lines\", \"opacity\": 0.8, \"showlegend\": false, \"type\": \"scattergeo\"}, {\"lat\": [18.4017525, 17.696372500000006], \"line\": {\"color\": \"gray\", \"width\": 0.5}, \"lon\": [-64.5972975, -64.75487625], \"mode\": \"lines\", \"opacity\": 0.8, \"showlegend\": false, \"type\": \"scattergeo\"}, {\"lat\": [17.696372500000006, 17.69637], \"line\": {\"color\": \"gray\", \"width\": 0.5}, \"lon\": [-64.75487625, -64.7549], \"mode\": \"lines\", \"opacity\": 0.8, \"showlegend\": false, \"type\": \"scattergeo\"}, {\"lat\": [17.69577, 17.696372500000006], \"line\": {\"color\": \"gray\", \"width\": 0.5}, \"lon\": [-64.75461, -64.75487625], \"mode\": \"lines\", \"opacity\": 0.8, \"showlegend\": false, \"type\": \"scattergeo\"}, {\"lat\": [17.696372500000006, 18.334145555555555], \"line\": {\"color\": \"gray\", \"width\": 0.5}, \"lon\": [-64.75487625, -64.94997666666666], \"mode\": \"lines\", \"opacity\": 0.8, \"showlegend\": false, \"type\": \"scattergeo\"}, {\"lat\": [18.334145555555555, 18.33508], \"line\": {\"color\": \"gray\", \"width\": 0.5}, \"lon\": [-64.94997666666666, -64.94773], \"mode\": \"lines\", \"opacity\": 0.8, \"showlegend\": false, \"type\": \"scattergeo\"}, {\"lat\": [18.33508, 18.334145555555555], \"line\": {\"color\": \"gray\", \"width\": 0.5}, \"lon\": [-64.94773, -64.94997666666666], \"mode\": \"lines\", \"opacity\": 0.8, \"showlegend\": false, \"type\": \"scattergeo\"}, {\"lat\": [18.334145555555555, 17.696372500000006], \"line\": {\"color\": \"gray\", \"width\": 0.5}, \"lon\": [-64.94997666666666, -64.75487625], \"mode\": \"lines\", \"opacity\": 0.8, \"showlegend\": false, \"type\": \"scattergeo\"}, {\"lat\": [17.696372500000006, 17.69698], \"line\": {\"color\": \"gray\", \"width\": 0.5}, \"lon\": [-64.75487625, -64.75522], \"mode\": \"lines\", \"opacity\": 0.8, \"showlegend\": false, \"type\": \"scattergeo\"}, {\"lat\": [17.69698, 17.696372500000006], \"line\": {\"color\": \"gray\", \"width\": 0.5}, \"lon\": [-64.75522, -64.75487625], \"mode\": \"lines\", \"opacity\": 0.8, \"showlegend\": false, \"type\": \"scattergeo\"}, {\"lat\": [17.696372500000006, 18.334145555555555], \"line\": {\"color\": \"gray\", \"width\": 0.5}, \"lon\": [-64.75487625, -64.94997666666666], \"mode\": \"lines\", \"opacity\": 0.8, \"showlegend\": false, \"type\": \"scattergeo\"}, {\"lat\": [18.334145555555555, 18.33534], \"line\": {\"color\": \"gray\", \"width\": 0.5}, \"lon\": [-64.94997666666666, -64.94941], \"mode\": \"lines\", \"opacity\": 0.8, \"showlegend\": false, \"type\": \"scattergeo\"}, {\"lat\": [18.33534, 18.334145555555555], \"line\": {\"color\": \"gray\", \"width\": 0.5}, \"lon\": [-64.94941, -64.94997666666666], \"mode\": \"lines\", \"opacity\": 0.8, \"showlegend\": false, \"type\": \"scattergeo\"}, {\"lat\": [18.334145555555555, 18.309922500000006], \"line\": {\"color\": \"gray\", \"width\": 0.5}, \"lon\": [-64.94997666666666, -64.93986], \"mode\": \"lines\", \"opacity\": 0.8, \"showlegend\": false, \"type\": \"scattergeo\"}, {\"lat\": [18.309922500000006, 18.31341], \"line\": {\"color\": \"gray\", \"width\": 0.5}, \"lon\": [-64.93986, -64.93812], \"mode\": \"lines\", \"opacity\": 0.8, \"showlegend\": false, \"type\": \"scattergeo\"}, {\"lat\": [18.31341, 18.309922500000006], \"line\": {\"color\": \"gray\", \"width\": 0.5}, \"lon\": [-64.93812, -64.93986], \"mode\": \"lines\", \"opacity\": 0.8, \"showlegend\": false, \"type\": \"scattergeo\"}, {\"lat\": [18.309922500000006, 18.334145555555555], \"line\": {\"color\": \"gray\", \"width\": 0.5}, \"lon\": [-64.93986, -64.94997666666666], \"mode\": \"lines\", \"opacity\": 0.8, \"showlegend\": false, \"type\": \"scattergeo\"}, {\"lat\": [18.334145555555555, 18.33536], \"line\": {\"color\": \"gray\", \"width\": 0.5}, \"lon\": [-64.94997666666666, -64.94927], \"mode\": \"lines\", \"opacity\": 0.8, \"showlegend\": false, \"type\": \"scattergeo\"}, {\"lat\": [18.33536, 18.334145555555555], \"line\": {\"color\": \"gray\", \"width\": 0.5}, \"lon\": [-64.94927, -64.94997666666666], \"mode\": \"lines\", \"opacity\": 0.8, \"showlegend\": false, \"type\": \"scattergeo\"}, {\"lat\": [18.334145555555555, 18.234004137931034], \"line\": {\"color\": \"gray\", \"width\": 0.5}, \"lon\": [-64.94997666666666, -64.26840620689656], \"mode\": \"lines\", \"opacity\": 0.8, \"showlegend\": false, \"type\": \"scattergeo\"}, {\"lat\": [18.234004137931034, 18.40981], \"line\": {\"color\": \"gray\", \"width\": 0.5}, \"lon\": [-64.26840620689656, -64.59768000000001], \"mode\": \"lines\", \"opacity\": 0.8, \"showlegend\": false, \"type\": \"scattergeo\"}, {\"lat\": [18.38817, 18.387494000000004], \"line\": {\"color\": \"gray\", \"width\": 0.5}, \"lon\": [-64.65025, -64.649486], \"mode\": \"lines\", \"opacity\": 0.8, \"showlegend\": false, \"type\": \"scattergeo\"}, {\"lat\": [18.387494000000004, 18.387494000000004], \"line\": {\"color\": \"gray\", \"width\": 0.5}, \"lon\": [-64.649486, -64.649486], \"mode\": \"lines\", \"opacity\": 0.8, \"showlegend\": false, \"type\": \"scattergeo\"}, {\"lat\": [18.387494000000004, 18.387999999999998], \"line\": {\"color\": \"gray\", \"width\": 0.5}, \"lon\": [-64.649486, -64.65033000000001], \"mode\": \"lines\", \"opacity\": 0.8, \"showlegend\": false, \"type\": \"scattergeo\"}, {\"lat\": [18.387999999999998, 18.387494000000004], \"line\": {\"color\": \"gray\", \"width\": 0.5}, \"lon\": [-64.65033000000001, -64.649486], \"mode\": \"lines\", \"opacity\": 0.8, \"showlegend\": false, \"type\": \"scattergeo\"}, {\"lat\": [18.387494000000004, 18.234004137931034], \"line\": {\"color\": \"gray\", \"width\": 0.5}, \"lon\": [-64.649486, -64.26840620689656], \"mode\": \"lines\", \"opacity\": 0.8, \"showlegend\": false, \"type\": \"scattergeo\"}, {\"lat\": [18.234004137931034, 18.37755], \"line\": {\"color\": \"gray\", \"width\": 0.5}, \"lon\": [-64.26840620689656, -64.63505], \"mode\": \"lines\", \"opacity\": 0.8, \"showlegend\": false, \"type\": \"scattergeo\"}, {\"lat\": [18.31813, 18.318328], \"line\": {\"color\": \"gray\", \"width\": 0.5}, \"lon\": [-64.97967, -64.978538], \"mode\": \"lines\", \"opacity\": 0.8, \"showlegend\": false, \"type\": \"scattergeo\"}, {\"lat\": [18.318328, 18.234004137931034], \"line\": {\"color\": \"gray\", \"width\": 0.5}, \"lon\": [-64.978538, -64.26840620689656], \"mode\": \"lines\", \"opacity\": 0.8, \"showlegend\": false, \"type\": \"scattergeo\"}, {\"lat\": [18.234004137931034, 18.24302], \"line\": {\"color\": \"gray\", \"width\": 0.5}, \"lon\": [-64.26840620689656, -64.97816], \"mode\": \"lines\", \"opacity\": 0.8, \"showlegend\": false, \"type\": \"scattergeo\"}, {\"lat\": [18.24302, 18.234004137931034], \"line\": {\"color\": \"gray\", \"width\": 0.5}, \"lon\": [-64.97816, -64.26840620689656], \"mode\": \"lines\", \"opacity\": 0.8, \"showlegend\": false, \"type\": \"scattergeo\"}, {\"lat\": [18.234004137931034, 18.318328], \"line\": {\"color\": \"gray\", \"width\": 0.5}, \"lon\": [-64.26840620689656, -64.978538], \"mode\": \"lines\", \"opacity\": 0.8, \"showlegend\": false, \"type\": \"scattergeo\"}, {\"lat\": [18.318328, 18.31699], \"line\": {\"color\": \"gray\", \"width\": 0.5}, \"lon\": [-64.978538, -64.97870999999999], \"mode\": \"lines\", \"opacity\": 0.8, \"showlegend\": false, \"type\": \"scattergeo\"}, {\"lat\": [18.08228, 18.082295000000002], \"line\": {\"color\": \"gray\", \"width\": 0.5}, \"lon\": [-65.61189, -65.611655], \"mode\": \"lines\", \"opacity\": 0.8, \"showlegend\": false, \"type\": \"scattergeo\"}, {\"lat\": [18.082295000000002, 18.234004137931034], \"line\": {\"color\": \"gray\", \"width\": 0.5}, \"lon\": [-65.611655, -64.26840620689656], \"mode\": \"lines\", \"opacity\": 0.8, \"showlegend\": false, \"type\": \"scattergeo\"}, {\"lat\": [18.234004137931034, 17.69376], \"line\": {\"color\": \"gray\", \"width\": 0.5}, \"lon\": [-64.26840620689656, -64.74566], \"mode\": \"lines\", \"opacity\": 0.8, \"showlegend\": false, \"type\": \"scattergeo\"}, {\"lat\": [18.31004, 18.234004137931034], \"line\": {\"color\": \"gray\", \"width\": 0.5}, \"lon\": [-64.66941, -64.26840620689656], \"mode\": \"lines\", \"opacity\": 0.8, \"showlegend\": false, \"type\": \"scattergeo\"}, {\"lat\": [18.234004137931034, 18.416185000000002], \"line\": {\"color\": \"gray\", \"width\": 0.5}, \"lon\": [-64.26840620689656, -64.60467], \"mode\": \"lines\", \"opacity\": 0.8, \"showlegend\": false, \"type\": \"scattergeo\"}, {\"lat\": [18.416185000000002, 18.42069], \"line\": {\"color\": \"gray\", \"width\": 0.5}, \"lon\": [-64.60467, -64.60656], \"mode\": \"lines\", \"opacity\": 0.8, \"showlegend\": false, \"type\": \"scattergeo\"}, {\"lat\": [18.334570000000006, 18.334145555555555], \"line\": {\"color\": \"gray\", \"width\": 0.5}, \"lon\": [-64.94958000000001, -64.94997666666666], \"mode\": \"lines\", \"opacity\": 0.8, \"showlegend\": false, \"type\": \"scattergeo\"}, {\"lat\": [18.334145555555555, 18.318328], \"line\": {\"color\": \"gray\", \"width\": 0.5}, \"lon\": [-64.94997666666666, -64.978538], \"mode\": \"lines\", \"opacity\": 0.8, \"showlegend\": false, \"type\": \"scattergeo\"}, {\"lat\": [18.318328, 18.31851], \"line\": {\"color\": \"gray\", \"width\": 0.5}, \"lon\": [-64.978538, -64.97453], \"mode\": \"lines\", \"opacity\": 0.8, \"showlegend\": false, \"type\": \"scattergeo\"}, {\"lat\": [18.31851, 18.318328], \"line\": {\"color\": \"gray\", \"width\": 0.5}, \"lon\": [-64.97453, -64.978538], \"mode\": \"lines\", \"opacity\": 0.8, \"showlegend\": false, \"type\": \"scattergeo\"}, {\"lat\": [18.318328, 18.334145555555555], \"line\": {\"color\": \"gray\", \"width\": 0.5}, \"lon\": [-64.978538, -64.94997666666666], \"mode\": \"lines\", \"opacity\": 0.8, \"showlegend\": false, \"type\": \"scattergeo\"}, {\"lat\": [18.334145555555555, 18.33439], \"line\": {\"color\": \"gray\", \"width\": 0.5}, \"lon\": [-64.94997666666666, -64.94969], \"mode\": \"lines\", \"opacity\": 0.8, \"showlegend\": false, \"type\": \"scattergeo\"}, {\"lat\": [18.33439, 18.334145555555555], \"line\": {\"color\": \"gray\", \"width\": 0.5}, \"lon\": [-64.94969, -64.94997666666666], \"mode\": \"lines\", \"opacity\": 0.8, \"showlegend\": false, \"type\": \"scattergeo\"}, {\"lat\": [18.334145555555555, 18.416185000000002], \"line\": {\"color\": \"gray\", \"width\": 0.5}, \"lon\": [-64.94997666666666, -64.60467], \"mode\": \"lines\", \"opacity\": 0.8, \"showlegend\": false, \"type\": \"scattergeo\"}, {\"lat\": [18.416185000000002, 18.41631], \"line\": {\"color\": \"gray\", \"width\": 0.5}, \"lon\": [-64.60467, -64.60491], \"mode\": \"lines\", \"opacity\": 0.8, \"showlegend\": false, \"type\": \"scattergeo\"}, {\"lat\": [18.41631, 18.416185000000002], \"line\": {\"color\": \"gray\", \"width\": 0.5}, \"lon\": [-64.60491, -64.60467], \"mode\": \"lines\", \"opacity\": 0.8, \"showlegend\": false, \"type\": \"scattergeo\"}, {\"lat\": [18.416185000000002, 18.334145555555555], \"line\": {\"color\": \"gray\", \"width\": 0.5}, \"lon\": [-64.60467, -64.94997666666666], \"mode\": \"lines\", \"opacity\": 0.8, \"showlegend\": false, \"type\": \"scattergeo\"}, {\"lat\": [18.334145555555555, 18.33461], \"line\": {\"color\": \"gray\", \"width\": 0.5}, \"lon\": [-64.94997666666666, -64.94954], \"mode\": \"lines\", \"opacity\": 0.8, \"showlegend\": false, \"type\": \"scattergeo\"}, {\"lat\": [18.33461, 18.334145555555555], \"line\": {\"color\": \"gray\", \"width\": 0.5}, \"lon\": [-64.94954, -64.94997666666666], \"mode\": \"lines\", \"opacity\": 0.8, \"showlegend\": false, \"type\": \"scattergeo\"}, {\"lat\": [18.334145555555555, 18.4017525], \"line\": {\"color\": \"gray\", \"width\": 0.5}, \"lon\": [-64.94997666666666, -64.5972975], \"mode\": \"lines\", \"opacity\": 0.8, \"showlegend\": false, \"type\": \"scattergeo\"}, {\"lat\": [18.4017525, 18.403170000000006], \"line\": {\"color\": \"gray\", \"width\": 0.5}, \"lon\": [-64.5972975, -64.59753], \"mode\": \"lines\", \"opacity\": 0.8, \"showlegend\": false, \"type\": \"scattergeo\"}, {\"lat\": [18.403170000000006, 18.4017525], \"line\": {\"color\": \"gray\", \"width\": 0.5}, \"lon\": [-64.59753, -64.5972975], \"mode\": \"lines\", \"opacity\": 0.8, \"showlegend\": false, \"type\": \"scattergeo\"}, {\"lat\": [18.4017525, 18.234004137931034], \"line\": {\"color\": \"gray\", \"width\": 0.5}, \"lon\": [-64.5972975, -64.26840620689656], \"mode\": \"lines\", \"opacity\": 0.8, \"showlegend\": false, \"type\": \"scattergeo\"}, {\"lat\": [18.234004137931034, 18.02754], \"line\": {\"color\": \"gray\", \"width\": 0.5}, \"lon\": [-64.26840620689656, -64.12725], \"mode\": \"lines\", \"opacity\": 0.8, \"showlegend\": false, \"type\": \"scattergeo\"}, {\"lat\": [18.08231, 18.082295000000002], \"line\": {\"color\": \"gray\", \"width\": 0.5}, \"lon\": [-65.61142, -65.611655], \"mode\": \"lines\", \"opacity\": 0.8, \"showlegend\": false, \"type\": \"scattergeo\"}, {\"lat\": [18.082295000000002, 18.052564999999998], \"line\": {\"color\": \"gray\", \"width\": 0.5}, \"lon\": [-65.611655, -65.83694], \"mode\": \"lines\", \"opacity\": 0.8, \"showlegend\": false, \"type\": \"scattergeo\"}, {\"lat\": [18.052564999999998, 18.05256], \"line\": {\"color\": \"gray\", \"width\": 0.5}, \"lon\": [-65.83694, -65.83691999999999], \"mode\": \"lines\", \"opacity\": 0.8, \"showlegend\": false, \"type\": \"scattergeo\"}],\n",
       "                        {\"geo\": {\"center\": {\"lat\": 18.2429795890411, \"lon\": -64.69604424657534}, \"coastlinewidth\": 5, \"lakecolor\": \"rgb(0, 255, 255)\", \"landcolor\": \"rgb(230, 145, 56)\", \"oceancolor\": \"rgb(127,205,255)\", \"projection\": {\"scale\": 35, \"type\": \"azimuthal equal area\"}, \"scope\": \"north america\", \"showlakes\": false, \"showland\": false, \"showocean\": true}, \"showlegend\": true, \"template\": {\"data\": {\"bar\": [{\"error_x\": {\"color\": \"#2a3f5f\"}, \"error_y\": {\"color\": \"#2a3f5f\"}, \"marker\": {\"line\": {\"color\": \"#E5ECF6\", \"width\": 0.5}}, \"type\": \"bar\"}], \"barpolar\": [{\"marker\": {\"line\": {\"color\": \"#E5ECF6\", \"width\": 0.5}}, \"type\": \"barpolar\"}], \"carpet\": [{\"aaxis\": {\"endlinecolor\": \"#2a3f5f\", \"gridcolor\": \"white\", \"linecolor\": \"white\", \"minorgridcolor\": \"white\", \"startlinecolor\": \"#2a3f5f\"}, \"baxis\": {\"endlinecolor\": \"#2a3f5f\", \"gridcolor\": \"white\", \"linecolor\": \"white\", \"minorgridcolor\": \"white\", \"startlinecolor\": \"#2a3f5f\"}, \"type\": \"carpet\"}], \"choropleth\": [{\"colorbar\": {\"outlinewidth\": 0, \"ticks\": \"\"}, \"type\": \"choropleth\"}], \"contour\": [{\"colorbar\": {\"outlinewidth\": 0, \"ticks\": \"\"}, \"colorscale\": [[0.0, \"#0d0887\"], [0.1111111111111111, \"#46039f\"], [0.2222222222222222, \"#7201a8\"], [0.3333333333333333, \"#9c179e\"], [0.4444444444444444, \"#bd3786\"], [0.5555555555555556, \"#d8576b\"], [0.6666666666666666, \"#ed7953\"], [0.7777777777777778, \"#fb9f3a\"], [0.8888888888888888, \"#fdca26\"], [1.0, \"#f0f921\"]], \"type\": \"contour\"}], \"contourcarpet\": [{\"colorbar\": {\"outlinewidth\": 0, \"ticks\": \"\"}, \"type\": \"contourcarpet\"}], \"heatmap\": [{\"colorbar\": {\"outlinewidth\": 0, \"ticks\": \"\"}, \"colorscale\": [[0.0, \"#0d0887\"], [0.1111111111111111, \"#46039f\"], [0.2222222222222222, \"#7201a8\"], [0.3333333333333333, \"#9c179e\"], [0.4444444444444444, \"#bd3786\"], [0.5555555555555556, \"#d8576b\"], [0.6666666666666666, \"#ed7953\"], [0.7777777777777778, \"#fb9f3a\"], [0.8888888888888888, \"#fdca26\"], [1.0, \"#f0f921\"]], \"type\": \"heatmap\"}], \"heatmapgl\": [{\"colorbar\": {\"outlinewidth\": 0, \"ticks\": \"\"}, \"colorscale\": [[0.0, \"#0d0887\"], [0.1111111111111111, \"#46039f\"], [0.2222222222222222, \"#7201a8\"], [0.3333333333333333, \"#9c179e\"], [0.4444444444444444, \"#bd3786\"], [0.5555555555555556, \"#d8576b\"], [0.6666666666666666, \"#ed7953\"], [0.7777777777777778, \"#fb9f3a\"], [0.8888888888888888, \"#fdca26\"], [1.0, \"#f0f921\"]], \"type\": \"heatmapgl\"}], \"histogram\": [{\"marker\": {\"colorbar\": {\"outlinewidth\": 0, \"ticks\": \"\"}}, \"type\": \"histogram\"}], \"histogram2d\": [{\"colorbar\": {\"outlinewidth\": 0, \"ticks\": \"\"}, \"colorscale\": [[0.0, \"#0d0887\"], [0.1111111111111111, \"#46039f\"], [0.2222222222222222, \"#7201a8\"], [0.3333333333333333, \"#9c179e\"], [0.4444444444444444, \"#bd3786\"], [0.5555555555555556, \"#d8576b\"], [0.6666666666666666, \"#ed7953\"], [0.7777777777777778, \"#fb9f3a\"], [0.8888888888888888, \"#fdca26\"], [1.0, \"#f0f921\"]], \"type\": \"histogram2d\"}], \"histogram2dcontour\": [{\"colorbar\": {\"outlinewidth\": 0, \"ticks\": \"\"}, \"colorscale\": [[0.0, \"#0d0887\"], [0.1111111111111111, \"#46039f\"], [0.2222222222222222, \"#7201a8\"], [0.3333333333333333, \"#9c179e\"], [0.4444444444444444, \"#bd3786\"], [0.5555555555555556, \"#d8576b\"], [0.6666666666666666, \"#ed7953\"], [0.7777777777777778, \"#fb9f3a\"], [0.8888888888888888, \"#fdca26\"], [1.0, \"#f0f921\"]], \"type\": \"histogram2dcontour\"}], \"mesh3d\": [{\"colorbar\": {\"outlinewidth\": 0, \"ticks\": \"\"}, \"type\": \"mesh3d\"}], \"parcoords\": [{\"line\": {\"colorbar\": {\"outlinewidth\": 0, \"ticks\": \"\"}}, \"type\": \"parcoords\"}], \"pie\": [{\"automargin\": true, \"type\": \"pie\"}], \"scatter\": [{\"marker\": {\"colorbar\": {\"outlinewidth\": 0, \"ticks\": \"\"}}, \"type\": \"scatter\"}], \"scatter3d\": [{\"line\": {\"colorbar\": {\"outlinewidth\": 0, \"ticks\": \"\"}}, \"marker\": {\"colorbar\": {\"outlinewidth\": 0, \"ticks\": \"\"}}, \"type\": \"scatter3d\"}], \"scattercarpet\": [{\"marker\": {\"colorbar\": {\"outlinewidth\": 0, \"ticks\": \"\"}}, \"type\": \"scattercarpet\"}], \"scattergeo\": [{\"marker\": {\"colorbar\": {\"outlinewidth\": 0, \"ticks\": \"\"}}, \"type\": \"scattergeo\"}], \"scattergl\": [{\"marker\": {\"colorbar\": {\"outlinewidth\": 0, \"ticks\": \"\"}}, \"type\": \"scattergl\"}], \"scattermapbox\": [{\"marker\": {\"colorbar\": {\"outlinewidth\": 0, \"ticks\": \"\"}}, \"type\": \"scattermapbox\"}], \"scatterpolar\": [{\"marker\": {\"colorbar\": {\"outlinewidth\": 0, \"ticks\": \"\"}}, \"type\": \"scatterpolar\"}], \"scatterpolargl\": [{\"marker\": {\"colorbar\": {\"outlinewidth\": 0, \"ticks\": \"\"}}, \"type\": \"scatterpolargl\"}], \"scatterternary\": [{\"marker\": {\"colorbar\": {\"outlinewidth\": 0, \"ticks\": \"\"}}, \"type\": \"scatterternary\"}], \"surface\": [{\"colorbar\": {\"outlinewidth\": 0, \"ticks\": \"\"}, \"colorscale\": [[0.0, \"#0d0887\"], [0.1111111111111111, \"#46039f\"], [0.2222222222222222, \"#7201a8\"], [0.3333333333333333, \"#9c179e\"], [0.4444444444444444, \"#bd3786\"], [0.5555555555555556, \"#d8576b\"], [0.6666666666666666, \"#ed7953\"], [0.7777777777777778, \"#fb9f3a\"], [0.8888888888888888, \"#fdca26\"], [1.0, \"#f0f921\"]], \"type\": \"surface\"}], \"table\": [{\"cells\": {\"fill\": {\"color\": \"#EBF0F8\"}, \"line\": {\"color\": \"white\"}}, \"header\": {\"fill\": {\"color\": \"#C8D4E3\"}, \"line\": {\"color\": \"white\"}}, \"type\": \"table\"}]}, \"layout\": {\"annotationdefaults\": {\"arrowcolor\": \"#2a3f5f\", \"arrowhead\": 0, \"arrowwidth\": 1}, \"coloraxis\": {\"colorbar\": {\"outlinewidth\": 0, \"ticks\": \"\"}}, \"colorscale\": {\"diverging\": [[0, \"#8e0152\"], [0.1, \"#c51b7d\"], [0.2, \"#de77ae\"], [0.3, \"#f1b6da\"], [0.4, \"#fde0ef\"], [0.5, \"#f7f7f7\"], [0.6, \"#e6f5d0\"], [0.7, \"#b8e186\"], [0.8, \"#7fbc41\"], [0.9, \"#4d9221\"], [1, \"#276419\"]], \"sequential\": [[0.0, \"#0d0887\"], [0.1111111111111111, \"#46039f\"], [0.2222222222222222, \"#7201a8\"], [0.3333333333333333, \"#9c179e\"], [0.4444444444444444, \"#bd3786\"], [0.5555555555555556, \"#d8576b\"], [0.6666666666666666, \"#ed7953\"], [0.7777777777777778, \"#fb9f3a\"], [0.8888888888888888, \"#fdca26\"], [1.0, \"#f0f921\"]], \"sequentialminus\": [[0.0, \"#0d0887\"], [0.1111111111111111, \"#46039f\"], [0.2222222222222222, \"#7201a8\"], [0.3333333333333333, \"#9c179e\"], [0.4444444444444444, \"#bd3786\"], [0.5555555555555556, \"#d8576b\"], [0.6666666666666666, \"#ed7953\"], [0.7777777777777778, \"#fb9f3a\"], [0.8888888888888888, \"#fdca26\"], [1.0, \"#f0f921\"]]}, \"colorway\": [\"#636efa\", \"#EF553B\", \"#00cc96\", \"#ab63fa\", \"#FFA15A\", \"#19d3f3\", \"#FF6692\", \"#B6E880\", \"#FF97FF\", \"#FECB52\"], \"font\": {\"color\": \"#2a3f5f\"}, \"geo\": {\"bgcolor\": \"white\", \"lakecolor\": \"white\", \"landcolor\": \"#E5ECF6\", \"showlakes\": true, \"showland\": true, \"subunitcolor\": \"white\"}, \"hoverlabel\": {\"align\": \"left\"}, \"hovermode\": \"closest\", \"mapbox\": {\"style\": \"light\"}, \"paper_bgcolor\": \"white\", \"plot_bgcolor\": \"#E5ECF6\", \"polar\": {\"angularaxis\": {\"gridcolor\": \"white\", \"linecolor\": \"white\", \"ticks\": \"\"}, \"bgcolor\": \"#E5ECF6\", \"radialaxis\": {\"gridcolor\": \"white\", \"linecolor\": \"white\", \"ticks\": \"\"}}, \"scene\": {\"xaxis\": {\"backgroundcolor\": \"#E5ECF6\", \"gridcolor\": \"white\", \"gridwidth\": 2, \"linecolor\": \"white\", \"showbackground\": true, \"ticks\": \"\", \"zerolinecolor\": \"white\"}, \"yaxis\": {\"backgroundcolor\": \"#E5ECF6\", \"gridcolor\": \"white\", \"gridwidth\": 2, \"linecolor\": \"white\", \"showbackground\": true, \"ticks\": \"\", \"zerolinecolor\": \"white\"}, \"zaxis\": {\"backgroundcolor\": \"#E5ECF6\", \"gridcolor\": \"white\", \"gridwidth\": 2, \"linecolor\": \"white\", \"showbackground\": true, \"ticks\": \"\", \"zerolinecolor\": \"white\"}}, \"shapedefaults\": {\"line\": {\"color\": \"#2a3f5f\"}}, \"ternary\": {\"aaxis\": {\"gridcolor\": \"white\", \"linecolor\": \"white\", \"ticks\": \"\"}, \"baxis\": {\"gridcolor\": \"white\", \"linecolor\": \"white\", \"ticks\": \"\"}, \"bgcolor\": \"#E5ECF6\", \"caxis\": {\"gridcolor\": \"white\", \"linecolor\": \"white\", \"ticks\": \"\"}}, \"title\": {\"x\": 0.05}, \"xaxis\": {\"automargin\": true, \"gridcolor\": \"white\", \"linecolor\": \"white\", \"ticks\": \"\", \"title\": {\"standoff\": 15}, \"zerolinecolor\": \"white\", \"zerolinewidth\": 2}, \"yaxis\": {\"automargin\": true, \"gridcolor\": \"white\", \"linecolor\": \"white\", \"ticks\": \"\", \"title\": {\"standoff\": 15}, \"zerolinecolor\": \"white\", \"zerolinewidth\": 2}}}, \"title\": {\"text\": \"North america Hub and Spoke Network\"}},\n",
       "                        {\"responsive\": true}\n",
       "                    ).then(function(){\n",
       "                            \n",
       "var gd = document.getElementById('0caef661-375b-4f3a-9766-8a71599db065');\n",
       "var x = new MutationObserver(function (mutations, observer) {{\n",
       "        var display = window.getComputedStyle(gd).display;\n",
       "        if (!display || display === 'none') {{\n",
       "            console.log([gd, 'removed!']);\n",
       "            Plotly.purge(gd);\n",
       "            observer.disconnect();\n",
       "        }}\n",
       "}});\n",
       "\n",
       "// Listen for the removal of the full notebook cells\n",
       "var notebookContainer = gd.closest('#notebook-container');\n",
       "if (notebookContainer) {{\n",
       "    x.observe(notebookContainer, {childList: true});\n",
       "}}\n",
       "\n",
       "// Listen for the clearing of the current output cell\n",
       "var outputEl = gd.closest('.output');\n",
       "if (outputEl) {{\n",
       "    x.observe(outputEl, {childList: true});\n",
       "}}\n",
       "\n",
       "                        })\n",
       "                };\n",
       "                });\n",
       "            </script>\n",
       "        </div>"
      ]
     },
     "metadata": {},
     "output_type": "display_data"
    }
   ],
   "source": [
    "\"\"\"\n",
    "HUB AND Spoke Visual\n",
    "\"\"\"\n",
    "\n",
    "fig = go.Figure()\n",
    "\n",
    "\n",
    "\"\"\"\n",
    "Add hub and spokes\n",
    "\"\"\"\n",
    "df_fig_arr = [gen_df_spokes_start(df_full_trips),\n",
    "             gen_df_hub_start(df_full_trips),\n",
    "             gen_df_hub_end(df_full_trips),\n",
    "             gen_df_spoke_end(df_full_trips)]\n",
    "\n",
    "# Add locations\n",
    "for df in df_fig_arr:\n",
    "    df['shape'] = 'circle'\n",
    "    fig.add_trace(go.Scattergeo(\n",
    "        lon=df['lon'],\n",
    "        lat=df['lat'],\n",
    "        name=df['name'].values[0],\n",
    "        text=df['text'],\n",
    "        marker=dict(size=df['size'],\n",
    "                    symbol=df['shape'],\n",
    "                    color=df['color'],\n",
    "                    line=dict(width=3, color='rgba(68, 68, 68, 0)')\n",
    "                    )))\n",
    "    \n",
    "#fig.show()\n",
    "print(df_full_trips.columns)\n",
    "\n",
    "\"\"\"\n",
    "Add paths\n",
    "\"\"\"\n",
    "for row in df_full_trips.itertuples():\n",
    "    fig.add_trace(go.Scattergeo(\n",
    "        lon=[row.LON_SPOKEStartPort, row.StartHUBPORT_LON],\n",
    "        lat=[row.LAT_SPOKEStartPort, row.StartHUBPORT_LAT],\n",
    "        mode='lines',\n",
    "        line=dict(width=0.5, color='gray'),\n",
    "        opacity=0.8,\n",
    "        showlegend=False,\n",
    "    ))\n",
    "    \n",
    "    fig.add_trace(go.Scattergeo(\n",
    "        lon=[row.StartHUBPORT_LON, row.ENDHUBPORT_LON],\n",
    "        lat=[row.StartHUBPORT_LAT, row.ENDHUBPORT_LAT],\n",
    "        mode='lines',\n",
    "        line=dict(width=0.5, color='gray'),\n",
    "        opacity=0.8,\n",
    "        showlegend=False,\n",
    "    ))\n",
    "    \n",
    "    fig.add_trace(go.Scattergeo(\n",
    "        lon=[row.ENDHUBPORT_LON, row.LON_SPOKEEndPort],\n",
    "        lat=[row.ENDHUBPORT_LAT, row.LAT_SPOKEEndPort],\n",
    "        mode='lines',\n",
    "        line=dict(width=0.5, color='gray'),\n",
    "        opacity=0.8,\n",
    "        showlegend=False,\n",
    "    ))\n",
    "    \n",
    "\n",
    "\n",
    "lat_range, lon_range = get_lat_lon_range(df_spokes_start)\n",
    "scope = get_scope(lat_range, lon_range)\n",
    "title = f'{scope.capitalize()} Hub and Spoke Network'\n",
    "layout = dict(title=title,\n",
    "              showlegend=True,\n",
    "              geo=dict(\n",
    "                  scope=scope,  # this is the only place we changed\n",
    "                  projection = go.layout.geo.Projection(\n",
    "                        scale=35,\n",
    "                      type = 'azimuthal equal area'\n",
    "                    ),\n",
    "                  center={'lat': df_full_trips['LAT_SPOKEStartPort'].mean(), \n",
    "                          'lon': df_full_trips['LON_SPOKEStartPort'].mean()},\n",
    "                    showland = False,\n",
    "                    showlakes = False,\n",
    "                    showocean = True,\n",
    "                    landcolor = 'rgb(230, 145, 56)',\n",
    "                    lakecolor = 'rgb(0, 255, 255)',\n",
    "                    oceancolor = 'rgb(127,205,255)',\n",
    "                    coastlinewidth = 5,\n",
    "              )\n",
    "             )\n",
    "fig.update_layout(layout)"
   ]
  },
  {
   "cell_type": "code",
   "execution_count": 339,
   "metadata": {},
   "outputs": [
    {
     "name": "stderr",
     "output_type": "stream",
     "text": [
      "/anaconda3/envs/dva/lib/python3.7/site-packages/ipykernel_launcher.py:7: SettingWithCopyWarning:\n",
      "\n",
      "\n",
      "A value is trying to be set on a copy of a slice from a DataFrame.\n",
      "Try using .loc[row_indexer,col_indexer] = value instead\n",
      "\n",
      "See the caveats in the documentation: https://pandas.pydata.org/pandas-docs/stable/user_guide/indexing.html#returning-a-view-versus-a-copy\n",
      "\n"
     ]
    },
    {
     "data": {
      "application/vnd.plotly.v1+json": {
       "config": {
        "plotlyServerURL": "https://plot.ly"
       },
       "data": [
        {
         "hovertemplate": "Length=%{x}<br>Width=%{y}<br>CO2 Emitted=%{z}<br>VesselType=%{marker.color}<extra></extra>",
         "legendgroup": "",
         "marker": {
          "color": [
           1004,
           1004,
           1004,
           1004,
           1004,
           1004,
           1004,
           1004,
           1004,
           1004,
           1004,
           1004,
           1004,
           1004,
           1024,
           1004,
           1004,
           1012,
           1012,
           1012,
           1012,
           1012,
           1012,
           1012,
           1012,
           1019,
           1019,
           1019,
           1019,
           1019,
           1019,
           1019,
           1019,
           1019,
           1019,
           1019,
           1004,
           1004,
           1024,
           1024,
           1012,
           1004,
           1004,
           1004,
           1004,
           1004,
           1004,
           1004,
           1004,
           1004,
           1004,
           1004,
           1004,
           1004,
           1004,
           1004,
           1004,
           1004,
           1004,
           1004,
           1024,
           1024,
           1024,
           1024,
           1024,
           1004,
           1004,
           1004,
           1004,
           1004,
           1004,
           1004,
           1024
          ],
          "coloraxis": "coloraxis",
          "symbol": "circle"
         },
         "mode": "markers",
         "name": "",
         "scene": "scene",
         "showlegend": false,
         "type": "scatter3d",
         "x": [
          143.15,
          108.35,
          108.35,
          108.35,
          108.35,
          108.35,
          108.35,
          108.35,
          108.35,
          108.35,
          108.52,
          108.52,
          108.52,
          108.52,
          126.95,
          136.34,
          132.19,
          104.81,
          104.81,
          104.81,
          104.81,
          104.81,
          163.81,
          163.81,
          82.2,
          48.76,
          48.76,
          63,
          63,
          43.3,
          43.3,
          43.3,
          43.3,
          43.3,
          60.09,
          60.09,
          77.32,
          77.32,
          112.99,
          112.99,
          333.3,
          121.2,
          121.2,
          121.2,
          106.68,
          106.68,
          106.68,
          106.68,
          106.68,
          106.68,
          106.68,
          106.68,
          106.68,
          106.68,
          100.69,
          100.69,
          100.69,
          100.69,
          100.69,
          100.69,
          99.93,
          99.93,
          95,
          95,
          228.6,
          54.87,
          90.05,
          90.05,
          90.05,
          90.05,
          90.05,
          90.05,
          116.9
         ],
         "y": [
          22.8,
          17.47,
          17.47,
          17.47,
          17.47,
          17.47,
          17.47,
          17.47,
          17.47,
          17.47,
          17.47,
          17.47,
          17.47,
          17.47,
          19.7,
          19.02,
          15.9,
          14.61,
          14.61,
          14.61,
          14.61,
          14.61,
          22.52,
          22.52,
          16.5,
          9.02,
          9.02,
          11.55,
          11.55,
          7.6,
          7.6,
          7.6,
          7.6,
          7.6,
          12.06,
          12.06,
          15.42,
          15.42,
          18.2,
          18.2,
          37.92,
          22.35,
          22.35,
          22.35,
          20.6,
          20.6,
          20.6,
          20.6,
          20.6,
          20.6,
          20.6,
          20.6,
          20.6,
          20.6,
          21.75,
          21.75,
          21.75,
          21.75,
          21.75,
          21.75,
          19.6,
          19.6,
          15.96,
          15.96,
          32.23,
          12.2,
          17.1,
          17.1,
          17.1,
          17.1,
          17.1,
          17.1,
          18
         ],
         "z": [
          16.623617541313266,
          72.87615109151231,
          23.509133381413,
          17.434068569836565,
          62.62636698164468,
          108.15145794552049,
          62.60965712423075,
          54.94799643302695,
          81.9466902626477,
          100.41362695927909,
          37.25889751876262,
          80.45495092176063,
          22.867282066042755,
          8.458481019015533,
          78.70187111120174,
          114.83852278724935,
          68.66639045146479,
          42.0743257842935,
          6.154987248653841,
          98.15692210374719,
          13.993701716641185,
          22.02847197645708,
          138.48671748732463,
          82.30385948425362,
          8.553478203770386,
          19.5514799860064,
          13.236045560765012,
          8.200960788674088,
          48.73780911846212,
          36.83800715436231,
          15.23197529603218,
          15.274166370117216,
          24.758627551361364,
          32.88229660213656,
          17.347091417600705,
          2.4151029099879313,
          37.88954864535344,
          14.213127261319775,
          0.10226779696101344,
          47.553950760291336,
          130.25454543768535,
          31.70460751260311,
          77.43583315871889,
          119.47805304855817,
          50.48246081541415,
          102.352889080743,
          73.04100725780859,
          102.90528353883104,
          86.53821320722426,
          66.61532430753984,
          75.51772410481091,
          19.577984931748258,
          10.532636668988664,
          85.86960964873498,
          95.69372436549935,
          96.53561078602765,
          94.18461256199531,
          84.94222179744663,
          88.33418458078782,
          50.83856171947559,
          9.830574437250396,
          51.84759878985835,
          12.071118181305685,
          1.6433307737196035,
          218.2998024341878,
          48.57123621156983,
          47.22566296057417,
          72.83324114823262,
          31.28097559089084,
          55.445830728270714,
          4.269075505999102,
          53.13079265137215,
          14.974869731695506
         ]
        }
       ],
       "layout": {
        "coloraxis": {
         "colorbar": {
          "title": {
           "text": "VesselType"
          }
         },
         "colorscale": [
          [
           0,
           "#0d0887"
          ],
          [
           0.1111111111111111,
           "#46039f"
          ],
          [
           0.2222222222222222,
           "#7201a8"
          ],
          [
           0.3333333333333333,
           "#9c179e"
          ],
          [
           0.4444444444444444,
           "#bd3786"
          ],
          [
           0.5555555555555556,
           "#d8576b"
          ],
          [
           0.6666666666666666,
           "#ed7953"
          ],
          [
           0.7777777777777778,
           "#fb9f3a"
          ],
          [
           0.8888888888888888,
           "#fdca26"
          ],
          [
           1,
           "#f0f921"
          ]
         ]
        },
        "height": 500,
        "legend": {
         "tracegroupgap": 0
        },
        "margin": {
         "t": 60
        },
        "scene": {
         "domain": {
          "x": [
           0,
           1
          ],
          "y": [
           0,
           1
          ]
         },
         "xaxis": {
          "title": {
           "text": "Length"
          }
         },
         "yaxis": {
          "title": {
           "text": "Width"
          }
         },
         "zaxis": {
          "title": {
           "text": "CO2 Emitted"
          }
         }
        },
        "template": {
         "data": {
          "bar": [
           {
            "error_x": {
             "color": "#2a3f5f"
            },
            "error_y": {
             "color": "#2a3f5f"
            },
            "marker": {
             "line": {
              "color": "#E5ECF6",
              "width": 0.5
             }
            },
            "type": "bar"
           }
          ],
          "barpolar": [
           {
            "marker": {
             "line": {
              "color": "#E5ECF6",
              "width": 0.5
             }
            },
            "type": "barpolar"
           }
          ],
          "carpet": [
           {
            "aaxis": {
             "endlinecolor": "#2a3f5f",
             "gridcolor": "white",
             "linecolor": "white",
             "minorgridcolor": "white",
             "startlinecolor": "#2a3f5f"
            },
            "baxis": {
             "endlinecolor": "#2a3f5f",
             "gridcolor": "white",
             "linecolor": "white",
             "minorgridcolor": "white",
             "startlinecolor": "#2a3f5f"
            },
            "type": "carpet"
           }
          ],
          "choropleth": [
           {
            "colorbar": {
             "outlinewidth": 0,
             "ticks": ""
            },
            "type": "choropleth"
           }
          ],
          "contour": [
           {
            "colorbar": {
             "outlinewidth": 0,
             "ticks": ""
            },
            "colorscale": [
             [
              0,
              "#0d0887"
             ],
             [
              0.1111111111111111,
              "#46039f"
             ],
             [
              0.2222222222222222,
              "#7201a8"
             ],
             [
              0.3333333333333333,
              "#9c179e"
             ],
             [
              0.4444444444444444,
              "#bd3786"
             ],
             [
              0.5555555555555556,
              "#d8576b"
             ],
             [
              0.6666666666666666,
              "#ed7953"
             ],
             [
              0.7777777777777778,
              "#fb9f3a"
             ],
             [
              0.8888888888888888,
              "#fdca26"
             ],
             [
              1,
              "#f0f921"
             ]
            ],
            "type": "contour"
           }
          ],
          "contourcarpet": [
           {
            "colorbar": {
             "outlinewidth": 0,
             "ticks": ""
            },
            "type": "contourcarpet"
           }
          ],
          "heatmap": [
           {
            "colorbar": {
             "outlinewidth": 0,
             "ticks": ""
            },
            "colorscale": [
             [
              0,
              "#0d0887"
             ],
             [
              0.1111111111111111,
              "#46039f"
             ],
             [
              0.2222222222222222,
              "#7201a8"
             ],
             [
              0.3333333333333333,
              "#9c179e"
             ],
             [
              0.4444444444444444,
              "#bd3786"
             ],
             [
              0.5555555555555556,
              "#d8576b"
             ],
             [
              0.6666666666666666,
              "#ed7953"
             ],
             [
              0.7777777777777778,
              "#fb9f3a"
             ],
             [
              0.8888888888888888,
              "#fdca26"
             ],
             [
              1,
              "#f0f921"
             ]
            ],
            "type": "heatmap"
           }
          ],
          "heatmapgl": [
           {
            "colorbar": {
             "outlinewidth": 0,
             "ticks": ""
            },
            "colorscale": [
             [
              0,
              "#0d0887"
             ],
             [
              0.1111111111111111,
              "#46039f"
             ],
             [
              0.2222222222222222,
              "#7201a8"
             ],
             [
              0.3333333333333333,
              "#9c179e"
             ],
             [
              0.4444444444444444,
              "#bd3786"
             ],
             [
              0.5555555555555556,
              "#d8576b"
             ],
             [
              0.6666666666666666,
              "#ed7953"
             ],
             [
              0.7777777777777778,
              "#fb9f3a"
             ],
             [
              0.8888888888888888,
              "#fdca26"
             ],
             [
              1,
              "#f0f921"
             ]
            ],
            "type": "heatmapgl"
           }
          ],
          "histogram": [
           {
            "marker": {
             "colorbar": {
              "outlinewidth": 0,
              "ticks": ""
             }
            },
            "type": "histogram"
           }
          ],
          "histogram2d": [
           {
            "colorbar": {
             "outlinewidth": 0,
             "ticks": ""
            },
            "colorscale": [
             [
              0,
              "#0d0887"
             ],
             [
              0.1111111111111111,
              "#46039f"
             ],
             [
              0.2222222222222222,
              "#7201a8"
             ],
             [
              0.3333333333333333,
              "#9c179e"
             ],
             [
              0.4444444444444444,
              "#bd3786"
             ],
             [
              0.5555555555555556,
              "#d8576b"
             ],
             [
              0.6666666666666666,
              "#ed7953"
             ],
             [
              0.7777777777777778,
              "#fb9f3a"
             ],
             [
              0.8888888888888888,
              "#fdca26"
             ],
             [
              1,
              "#f0f921"
             ]
            ],
            "type": "histogram2d"
           }
          ],
          "histogram2dcontour": [
           {
            "colorbar": {
             "outlinewidth": 0,
             "ticks": ""
            },
            "colorscale": [
             [
              0,
              "#0d0887"
             ],
             [
              0.1111111111111111,
              "#46039f"
             ],
             [
              0.2222222222222222,
              "#7201a8"
             ],
             [
              0.3333333333333333,
              "#9c179e"
             ],
             [
              0.4444444444444444,
              "#bd3786"
             ],
             [
              0.5555555555555556,
              "#d8576b"
             ],
             [
              0.6666666666666666,
              "#ed7953"
             ],
             [
              0.7777777777777778,
              "#fb9f3a"
             ],
             [
              0.8888888888888888,
              "#fdca26"
             ],
             [
              1,
              "#f0f921"
             ]
            ],
            "type": "histogram2dcontour"
           }
          ],
          "mesh3d": [
           {
            "colorbar": {
             "outlinewidth": 0,
             "ticks": ""
            },
            "type": "mesh3d"
           }
          ],
          "parcoords": [
           {
            "line": {
             "colorbar": {
              "outlinewidth": 0,
              "ticks": ""
             }
            },
            "type": "parcoords"
           }
          ],
          "pie": [
           {
            "automargin": true,
            "type": "pie"
           }
          ],
          "scatter": [
           {
            "marker": {
             "colorbar": {
              "outlinewidth": 0,
              "ticks": ""
             }
            },
            "type": "scatter"
           }
          ],
          "scatter3d": [
           {
            "line": {
             "colorbar": {
              "outlinewidth": 0,
              "ticks": ""
             }
            },
            "marker": {
             "colorbar": {
              "outlinewidth": 0,
              "ticks": ""
             }
            },
            "type": "scatter3d"
           }
          ],
          "scattercarpet": [
           {
            "marker": {
             "colorbar": {
              "outlinewidth": 0,
              "ticks": ""
             }
            },
            "type": "scattercarpet"
           }
          ],
          "scattergeo": [
           {
            "marker": {
             "colorbar": {
              "outlinewidth": 0,
              "ticks": ""
             }
            },
            "type": "scattergeo"
           }
          ],
          "scattergl": [
           {
            "marker": {
             "colorbar": {
              "outlinewidth": 0,
              "ticks": ""
             }
            },
            "type": "scattergl"
           }
          ],
          "scattermapbox": [
           {
            "marker": {
             "colorbar": {
              "outlinewidth": 0,
              "ticks": ""
             }
            },
            "type": "scattermapbox"
           }
          ],
          "scatterpolar": [
           {
            "marker": {
             "colorbar": {
              "outlinewidth": 0,
              "ticks": ""
             }
            },
            "type": "scatterpolar"
           }
          ],
          "scatterpolargl": [
           {
            "marker": {
             "colorbar": {
              "outlinewidth": 0,
              "ticks": ""
             }
            },
            "type": "scatterpolargl"
           }
          ],
          "scatterternary": [
           {
            "marker": {
             "colorbar": {
              "outlinewidth": 0,
              "ticks": ""
             }
            },
            "type": "scatterternary"
           }
          ],
          "surface": [
           {
            "colorbar": {
             "outlinewidth": 0,
             "ticks": ""
            },
            "colorscale": [
             [
              0,
              "#0d0887"
             ],
             [
              0.1111111111111111,
              "#46039f"
             ],
             [
              0.2222222222222222,
              "#7201a8"
             ],
             [
              0.3333333333333333,
              "#9c179e"
             ],
             [
              0.4444444444444444,
              "#bd3786"
             ],
             [
              0.5555555555555556,
              "#d8576b"
             ],
             [
              0.6666666666666666,
              "#ed7953"
             ],
             [
              0.7777777777777778,
              "#fb9f3a"
             ],
             [
              0.8888888888888888,
              "#fdca26"
             ],
             [
              1,
              "#f0f921"
             ]
            ],
            "type": "surface"
           }
          ],
          "table": [
           {
            "cells": {
             "fill": {
              "color": "#EBF0F8"
             },
             "line": {
              "color": "white"
             }
            },
            "header": {
             "fill": {
              "color": "#C8D4E3"
             },
             "line": {
              "color": "white"
             }
            },
            "type": "table"
           }
          ]
         },
         "layout": {
          "annotationdefaults": {
           "arrowcolor": "#2a3f5f",
           "arrowhead": 0,
           "arrowwidth": 1
          },
          "coloraxis": {
           "colorbar": {
            "outlinewidth": 0,
            "ticks": ""
           }
          },
          "colorscale": {
           "diverging": [
            [
             0,
             "#8e0152"
            ],
            [
             0.1,
             "#c51b7d"
            ],
            [
             0.2,
             "#de77ae"
            ],
            [
             0.3,
             "#f1b6da"
            ],
            [
             0.4,
             "#fde0ef"
            ],
            [
             0.5,
             "#f7f7f7"
            ],
            [
             0.6,
             "#e6f5d0"
            ],
            [
             0.7,
             "#b8e186"
            ],
            [
             0.8,
             "#7fbc41"
            ],
            [
             0.9,
             "#4d9221"
            ],
            [
             1,
             "#276419"
            ]
           ],
           "sequential": [
            [
             0,
             "#0d0887"
            ],
            [
             0.1111111111111111,
             "#46039f"
            ],
            [
             0.2222222222222222,
             "#7201a8"
            ],
            [
             0.3333333333333333,
             "#9c179e"
            ],
            [
             0.4444444444444444,
             "#bd3786"
            ],
            [
             0.5555555555555556,
             "#d8576b"
            ],
            [
             0.6666666666666666,
             "#ed7953"
            ],
            [
             0.7777777777777778,
             "#fb9f3a"
            ],
            [
             0.8888888888888888,
             "#fdca26"
            ],
            [
             1,
             "#f0f921"
            ]
           ],
           "sequentialminus": [
            [
             0,
             "#0d0887"
            ],
            [
             0.1111111111111111,
             "#46039f"
            ],
            [
             0.2222222222222222,
             "#7201a8"
            ],
            [
             0.3333333333333333,
             "#9c179e"
            ],
            [
             0.4444444444444444,
             "#bd3786"
            ],
            [
             0.5555555555555556,
             "#d8576b"
            ],
            [
             0.6666666666666666,
             "#ed7953"
            ],
            [
             0.7777777777777778,
             "#fb9f3a"
            ],
            [
             0.8888888888888888,
             "#fdca26"
            ],
            [
             1,
             "#f0f921"
            ]
           ]
          },
          "colorway": [
           "#636efa",
           "#EF553B",
           "#00cc96",
           "#ab63fa",
           "#FFA15A",
           "#19d3f3",
           "#FF6692",
           "#B6E880",
           "#FF97FF",
           "#FECB52"
          ],
          "font": {
           "color": "#2a3f5f"
          },
          "geo": {
           "bgcolor": "white",
           "lakecolor": "white",
           "landcolor": "#E5ECF6",
           "showlakes": true,
           "showland": true,
           "subunitcolor": "white"
          },
          "hoverlabel": {
           "align": "left"
          },
          "hovermode": "closest",
          "mapbox": {
           "style": "light"
          },
          "paper_bgcolor": "white",
          "plot_bgcolor": "#E5ECF6",
          "polar": {
           "angularaxis": {
            "gridcolor": "white",
            "linecolor": "white",
            "ticks": ""
           },
           "bgcolor": "#E5ECF6",
           "radialaxis": {
            "gridcolor": "white",
            "linecolor": "white",
            "ticks": ""
           }
          },
          "scene": {
           "xaxis": {
            "backgroundcolor": "#E5ECF6",
            "gridcolor": "white",
            "gridwidth": 2,
            "linecolor": "white",
            "showbackground": true,
            "ticks": "",
            "zerolinecolor": "white"
           },
           "yaxis": {
            "backgroundcolor": "#E5ECF6",
            "gridcolor": "white",
            "gridwidth": 2,
            "linecolor": "white",
            "showbackground": true,
            "ticks": "",
            "zerolinecolor": "white"
           },
           "zaxis": {
            "backgroundcolor": "#E5ECF6",
            "gridcolor": "white",
            "gridwidth": 2,
            "linecolor": "white",
            "showbackground": true,
            "ticks": "",
            "zerolinecolor": "white"
           }
          },
          "shapedefaults": {
           "line": {
            "color": "#2a3f5f"
           }
          },
          "ternary": {
           "aaxis": {
            "gridcolor": "white",
            "linecolor": "white",
            "ticks": ""
           },
           "baxis": {
            "gridcolor": "white",
            "linecolor": "white",
            "ticks": ""
           },
           "bgcolor": "#E5ECF6",
           "caxis": {
            "gridcolor": "white",
            "linecolor": "white",
            "ticks": ""
           }
          },
          "title": {
           "x": 0.05
          },
          "xaxis": {
           "automargin": true,
           "gridcolor": "white",
           "linecolor": "white",
           "ticks": "",
           "title": {
            "standoff": 15
           },
           "zerolinecolor": "white",
           "zerolinewidth": 2
          },
          "yaxis": {
           "automargin": true,
           "gridcolor": "white",
           "linecolor": "white",
           "ticks": "",
           "title": {
            "standoff": 15
           },
           "zerolinecolor": "white",
           "zerolinewidth": 2
          }
         }
        }
       }
      },
      "text/html": [
       "<div>\n",
       "        \n",
       "        \n",
       "            <div id=\"481e620e-d4ff-467e-83d7-3a6b54c8e2f1\" class=\"plotly-graph-div\" style=\"height:500px; width:100%;\"></div>\n",
       "            <script type=\"text/javascript\">\n",
       "                require([\"plotly\"], function(Plotly) {\n",
       "                    window.PLOTLYENV=window.PLOTLYENV || {};\n",
       "                    \n",
       "                if (document.getElementById(\"481e620e-d4ff-467e-83d7-3a6b54c8e2f1\")) {\n",
       "                    Plotly.newPlot(\n",
       "                        '481e620e-d4ff-467e-83d7-3a6b54c8e2f1',\n",
       "                        [{\"hovertemplate\": \"Length=%{x}<br>Width=%{y}<br>CO2 Emitted=%{z}<br>VesselType=%{marker.color}<extra></extra>\", \"legendgroup\": \"\", \"marker\": {\"color\": [1004.0, 1004.0, 1004.0, 1004.0, 1004.0, 1004.0, 1004.0, 1004.0, 1004.0, 1004.0, 1004.0, 1004.0, 1004.0, 1004.0, 1024.0, 1004.0, 1004.0, 1012.0, 1012.0, 1012.0, 1012.0, 1012.0, 1012.0, 1012.0, 1012.0, 1019.0, 1019.0, 1019.0, 1019.0, 1019.0, 1019.0, 1019.0, 1019.0, 1019.0, 1019.0, 1019.0, 1004.0, 1004.0, 1024.0, 1024.0, 1012.0, 1004.0, 1004.0, 1004.0, 1004.0, 1004.0, 1004.0, 1004.0, 1004.0, 1004.0, 1004.0, 1004.0, 1004.0, 1004.0, 1004.0, 1004.0, 1004.0, 1004.0, 1004.0, 1004.0, 1024.0, 1024.0, 1024.0, 1024.0, 1024.0, 1004.0, 1004.0, 1004.0, 1004.0, 1004.0, 1004.0, 1004.0, 1024.0], \"coloraxis\": \"coloraxis\", \"symbol\": \"circle\"}, \"mode\": \"markers\", \"name\": \"\", \"scene\": \"scene\", \"showlegend\": false, \"type\": \"scatter3d\", \"x\": [143.15, 108.35, 108.35, 108.35, 108.35, 108.35, 108.35, 108.35, 108.35, 108.35, 108.52, 108.52, 108.52, 108.52, 126.95, 136.34, 132.19, 104.81, 104.81, 104.81, 104.81, 104.81, 163.81, 163.81, 82.2, 48.76, 48.76, 63.0, 63.0, 43.3, 43.3, 43.3, 43.3, 43.3, 60.09, 60.09, 77.32, 77.32, 112.99, 112.99, 333.3, 121.2, 121.2, 121.2, 106.68, 106.68, 106.68, 106.68, 106.68, 106.68, 106.68, 106.68, 106.68, 106.68, 100.69, 100.69, 100.69, 100.69, 100.69, 100.69, 99.93, 99.93, 95.0, 95.0, 228.6, 54.87, 90.05, 90.05, 90.05, 90.05, 90.05, 90.05, 116.9], \"y\": [22.8, 17.47, 17.47, 17.47, 17.47, 17.47, 17.47, 17.47, 17.47, 17.47, 17.47, 17.47, 17.47, 17.47, 19.7, 19.02, 15.9, 14.61, 14.61, 14.61, 14.61, 14.61, 22.52, 22.52, 16.5, 9.02, 9.02, 11.55, 11.55, 7.6, 7.6, 7.6, 7.6, 7.6, 12.06, 12.06, 15.42, 15.42, 18.2, 18.2, 37.92, 22.35, 22.35, 22.35, 20.6, 20.6, 20.6, 20.6, 20.6, 20.6, 20.6, 20.6, 20.6, 20.6, 21.75, 21.75, 21.75, 21.75, 21.75, 21.75, 19.6, 19.6, 15.96, 15.96, 32.23, 12.2, 17.1, 17.1, 17.1, 17.1, 17.1, 17.1, 18.0], \"z\": [16.623617541313266, 72.87615109151231, 23.509133381413, 17.434068569836565, 62.62636698164468, 108.15145794552049, 62.60965712423075, 54.94799643302695, 81.9466902626477, 100.41362695927909, 37.25889751876262, 80.45495092176063, 22.867282066042755, 8.458481019015533, 78.70187111120174, 114.83852278724935, 68.66639045146479, 42.0743257842935, 6.154987248653841, 98.15692210374719, 13.993701716641185, 22.02847197645708, 138.48671748732463, 82.30385948425362, 8.553478203770386, 19.5514799860064, 13.236045560765012, 8.200960788674088, 48.73780911846212, 36.83800715436231, 15.23197529603218, 15.274166370117216, 24.758627551361364, 32.88229660213656, 17.347091417600705, 2.4151029099879313, 37.88954864535344, 14.213127261319775, 0.10226779696101344, 47.553950760291336, 130.25454543768535, 31.70460751260311, 77.43583315871889, 119.47805304855817, 50.48246081541415, 102.352889080743, 73.04100725780859, 102.90528353883104, 86.53821320722426, 66.61532430753984, 75.51772410481091, 19.577984931748258, 10.532636668988664, 85.86960964873498, 95.69372436549935, 96.53561078602765, 94.18461256199531, 84.94222179744663, 88.33418458078782, 50.83856171947559, 9.830574437250396, 51.84759878985835, 12.071118181305685, 1.6433307737196035, 218.2998024341878, 48.57123621156983, 47.22566296057417, 72.83324114823262, 31.28097559089084, 55.445830728270714, 4.269075505999102, 53.13079265137215, 14.974869731695506]}],\n",
       "                        {\"coloraxis\": {\"colorbar\": {\"title\": {\"text\": \"VesselType\"}}, \"colorscale\": [[0.0, \"#0d0887\"], [0.1111111111111111, \"#46039f\"], [0.2222222222222222, \"#7201a8\"], [0.3333333333333333, \"#9c179e\"], [0.4444444444444444, \"#bd3786\"], [0.5555555555555556, \"#d8576b\"], [0.6666666666666666, \"#ed7953\"], [0.7777777777777778, \"#fb9f3a\"], [0.8888888888888888, \"#fdca26\"], [1.0, \"#f0f921\"]]}, \"height\": 500, \"legend\": {\"tracegroupgap\": 0}, \"margin\": {\"t\": 60}, \"scene\": {\"domain\": {\"x\": [0.0, 1.0], \"y\": [0.0, 1.0]}, \"xaxis\": {\"title\": {\"text\": \"Length\"}}, \"yaxis\": {\"title\": {\"text\": \"Width\"}}, \"zaxis\": {\"title\": {\"text\": \"CO2 Emitted\"}}}, \"template\": {\"data\": {\"bar\": [{\"error_x\": {\"color\": \"#2a3f5f\"}, \"error_y\": {\"color\": \"#2a3f5f\"}, \"marker\": {\"line\": {\"color\": \"#E5ECF6\", \"width\": 0.5}}, \"type\": \"bar\"}], \"barpolar\": [{\"marker\": {\"line\": {\"color\": \"#E5ECF6\", \"width\": 0.5}}, \"type\": \"barpolar\"}], \"carpet\": [{\"aaxis\": {\"endlinecolor\": \"#2a3f5f\", \"gridcolor\": \"white\", \"linecolor\": \"white\", \"minorgridcolor\": \"white\", \"startlinecolor\": \"#2a3f5f\"}, \"baxis\": {\"endlinecolor\": \"#2a3f5f\", \"gridcolor\": \"white\", \"linecolor\": \"white\", \"minorgridcolor\": \"white\", \"startlinecolor\": \"#2a3f5f\"}, \"type\": \"carpet\"}], \"choropleth\": [{\"colorbar\": {\"outlinewidth\": 0, \"ticks\": \"\"}, \"type\": \"choropleth\"}], \"contour\": [{\"colorbar\": {\"outlinewidth\": 0, \"ticks\": \"\"}, \"colorscale\": [[0.0, \"#0d0887\"], [0.1111111111111111, \"#46039f\"], [0.2222222222222222, \"#7201a8\"], [0.3333333333333333, \"#9c179e\"], [0.4444444444444444, \"#bd3786\"], [0.5555555555555556, \"#d8576b\"], [0.6666666666666666, \"#ed7953\"], [0.7777777777777778, \"#fb9f3a\"], [0.8888888888888888, \"#fdca26\"], [1.0, \"#f0f921\"]], \"type\": \"contour\"}], \"contourcarpet\": [{\"colorbar\": {\"outlinewidth\": 0, \"ticks\": \"\"}, \"type\": \"contourcarpet\"}], \"heatmap\": [{\"colorbar\": {\"outlinewidth\": 0, \"ticks\": \"\"}, \"colorscale\": [[0.0, \"#0d0887\"], [0.1111111111111111, \"#46039f\"], [0.2222222222222222, \"#7201a8\"], [0.3333333333333333, \"#9c179e\"], [0.4444444444444444, \"#bd3786\"], [0.5555555555555556, \"#d8576b\"], [0.6666666666666666, \"#ed7953\"], [0.7777777777777778, \"#fb9f3a\"], [0.8888888888888888, \"#fdca26\"], [1.0, \"#f0f921\"]], \"type\": \"heatmap\"}], \"heatmapgl\": [{\"colorbar\": {\"outlinewidth\": 0, \"ticks\": \"\"}, \"colorscale\": [[0.0, \"#0d0887\"], [0.1111111111111111, \"#46039f\"], [0.2222222222222222, \"#7201a8\"], [0.3333333333333333, \"#9c179e\"], [0.4444444444444444, \"#bd3786\"], [0.5555555555555556, \"#d8576b\"], [0.6666666666666666, \"#ed7953\"], [0.7777777777777778, \"#fb9f3a\"], [0.8888888888888888, \"#fdca26\"], [1.0, \"#f0f921\"]], \"type\": \"heatmapgl\"}], \"histogram\": [{\"marker\": {\"colorbar\": {\"outlinewidth\": 0, \"ticks\": \"\"}}, \"type\": \"histogram\"}], \"histogram2d\": [{\"colorbar\": {\"outlinewidth\": 0, \"ticks\": \"\"}, \"colorscale\": [[0.0, \"#0d0887\"], [0.1111111111111111, \"#46039f\"], [0.2222222222222222, \"#7201a8\"], [0.3333333333333333, \"#9c179e\"], [0.4444444444444444, \"#bd3786\"], [0.5555555555555556, \"#d8576b\"], [0.6666666666666666, \"#ed7953\"], [0.7777777777777778, \"#fb9f3a\"], [0.8888888888888888, \"#fdca26\"], [1.0, \"#f0f921\"]], \"type\": \"histogram2d\"}], \"histogram2dcontour\": [{\"colorbar\": {\"outlinewidth\": 0, \"ticks\": \"\"}, \"colorscale\": [[0.0, \"#0d0887\"], [0.1111111111111111, \"#46039f\"], [0.2222222222222222, \"#7201a8\"], [0.3333333333333333, \"#9c179e\"], [0.4444444444444444, \"#bd3786\"], [0.5555555555555556, \"#d8576b\"], [0.6666666666666666, \"#ed7953\"], [0.7777777777777778, \"#fb9f3a\"], [0.8888888888888888, \"#fdca26\"], [1.0, \"#f0f921\"]], \"type\": \"histogram2dcontour\"}], \"mesh3d\": [{\"colorbar\": {\"outlinewidth\": 0, \"ticks\": \"\"}, \"type\": \"mesh3d\"}], \"parcoords\": [{\"line\": {\"colorbar\": {\"outlinewidth\": 0, \"ticks\": \"\"}}, \"type\": \"parcoords\"}], \"pie\": [{\"automargin\": true, \"type\": \"pie\"}], \"scatter\": [{\"marker\": {\"colorbar\": {\"outlinewidth\": 0, \"ticks\": \"\"}}, \"type\": \"scatter\"}], \"scatter3d\": [{\"line\": {\"colorbar\": {\"outlinewidth\": 0, \"ticks\": \"\"}}, \"marker\": {\"colorbar\": {\"outlinewidth\": 0, \"ticks\": \"\"}}, \"type\": \"scatter3d\"}], \"scattercarpet\": [{\"marker\": {\"colorbar\": {\"outlinewidth\": 0, \"ticks\": \"\"}}, \"type\": \"scattercarpet\"}], \"scattergeo\": [{\"marker\": {\"colorbar\": {\"outlinewidth\": 0, \"ticks\": \"\"}}, \"type\": \"scattergeo\"}], \"scattergl\": [{\"marker\": {\"colorbar\": {\"outlinewidth\": 0, \"ticks\": \"\"}}, \"type\": \"scattergl\"}], \"scattermapbox\": [{\"marker\": {\"colorbar\": {\"outlinewidth\": 0, \"ticks\": \"\"}}, \"type\": \"scattermapbox\"}], \"scatterpolar\": [{\"marker\": {\"colorbar\": {\"outlinewidth\": 0, \"ticks\": \"\"}}, \"type\": \"scatterpolar\"}], \"scatterpolargl\": [{\"marker\": {\"colorbar\": {\"outlinewidth\": 0, \"ticks\": \"\"}}, \"type\": \"scatterpolargl\"}], \"scatterternary\": [{\"marker\": {\"colorbar\": {\"outlinewidth\": 0, \"ticks\": \"\"}}, \"type\": \"scatterternary\"}], \"surface\": [{\"colorbar\": {\"outlinewidth\": 0, \"ticks\": \"\"}, \"colorscale\": [[0.0, \"#0d0887\"], [0.1111111111111111, \"#46039f\"], [0.2222222222222222, \"#7201a8\"], [0.3333333333333333, \"#9c179e\"], [0.4444444444444444, \"#bd3786\"], [0.5555555555555556, \"#d8576b\"], [0.6666666666666666, \"#ed7953\"], [0.7777777777777778, \"#fb9f3a\"], [0.8888888888888888, \"#fdca26\"], [1.0, \"#f0f921\"]], \"type\": \"surface\"}], \"table\": [{\"cells\": {\"fill\": {\"color\": \"#EBF0F8\"}, \"line\": {\"color\": \"white\"}}, \"header\": {\"fill\": {\"color\": \"#C8D4E3\"}, \"line\": {\"color\": \"white\"}}, \"type\": \"table\"}]}, \"layout\": {\"annotationdefaults\": {\"arrowcolor\": \"#2a3f5f\", \"arrowhead\": 0, \"arrowwidth\": 1}, \"coloraxis\": {\"colorbar\": {\"outlinewidth\": 0, \"ticks\": \"\"}}, \"colorscale\": {\"diverging\": [[0, \"#8e0152\"], [0.1, \"#c51b7d\"], [0.2, \"#de77ae\"], [0.3, \"#f1b6da\"], [0.4, \"#fde0ef\"], [0.5, \"#f7f7f7\"], [0.6, \"#e6f5d0\"], [0.7, \"#b8e186\"], [0.8, \"#7fbc41\"], [0.9, \"#4d9221\"], [1, \"#276419\"]], \"sequential\": [[0.0, \"#0d0887\"], [0.1111111111111111, \"#46039f\"], [0.2222222222222222, \"#7201a8\"], [0.3333333333333333, \"#9c179e\"], [0.4444444444444444, \"#bd3786\"], [0.5555555555555556, \"#d8576b\"], [0.6666666666666666, \"#ed7953\"], [0.7777777777777778, \"#fb9f3a\"], [0.8888888888888888, \"#fdca26\"], [1.0, \"#f0f921\"]], \"sequentialminus\": [[0.0, \"#0d0887\"], [0.1111111111111111, \"#46039f\"], [0.2222222222222222, \"#7201a8\"], [0.3333333333333333, \"#9c179e\"], [0.4444444444444444, \"#bd3786\"], [0.5555555555555556, \"#d8576b\"], [0.6666666666666666, \"#ed7953\"], [0.7777777777777778, \"#fb9f3a\"], [0.8888888888888888, \"#fdca26\"], [1.0, \"#f0f921\"]]}, \"colorway\": [\"#636efa\", \"#EF553B\", \"#00cc96\", \"#ab63fa\", \"#FFA15A\", \"#19d3f3\", \"#FF6692\", \"#B6E880\", \"#FF97FF\", \"#FECB52\"], \"font\": {\"color\": \"#2a3f5f\"}, \"geo\": {\"bgcolor\": \"white\", \"lakecolor\": \"white\", \"landcolor\": \"#E5ECF6\", \"showlakes\": true, \"showland\": true, \"subunitcolor\": \"white\"}, \"hoverlabel\": {\"align\": \"left\"}, \"hovermode\": \"closest\", \"mapbox\": {\"style\": \"light\"}, \"paper_bgcolor\": \"white\", \"plot_bgcolor\": \"#E5ECF6\", \"polar\": {\"angularaxis\": {\"gridcolor\": \"white\", \"linecolor\": \"white\", \"ticks\": \"\"}, \"bgcolor\": \"#E5ECF6\", \"radialaxis\": {\"gridcolor\": \"white\", \"linecolor\": \"white\", \"ticks\": \"\"}}, \"scene\": {\"xaxis\": {\"backgroundcolor\": \"#E5ECF6\", \"gridcolor\": \"white\", \"gridwidth\": 2, \"linecolor\": \"white\", \"showbackground\": true, \"ticks\": \"\", \"zerolinecolor\": \"white\"}, \"yaxis\": {\"backgroundcolor\": \"#E5ECF6\", \"gridcolor\": \"white\", \"gridwidth\": 2, \"linecolor\": \"white\", \"showbackground\": true, \"ticks\": \"\", \"zerolinecolor\": \"white\"}, \"zaxis\": {\"backgroundcolor\": \"#E5ECF6\", \"gridcolor\": \"white\", \"gridwidth\": 2, \"linecolor\": \"white\", \"showbackground\": true, \"ticks\": \"\", \"zerolinecolor\": \"white\"}}, \"shapedefaults\": {\"line\": {\"color\": \"#2a3f5f\"}}, \"ternary\": {\"aaxis\": {\"gridcolor\": \"white\", \"linecolor\": \"white\", \"ticks\": \"\"}, \"baxis\": {\"gridcolor\": \"white\", \"linecolor\": \"white\", \"ticks\": \"\"}, \"bgcolor\": \"#E5ECF6\", \"caxis\": {\"gridcolor\": \"white\", \"linecolor\": \"white\", \"ticks\": \"\"}}, \"title\": {\"x\": 0.05}, \"xaxis\": {\"automargin\": true, \"gridcolor\": \"white\", \"linecolor\": \"white\", \"ticks\": \"\", \"title\": {\"standoff\": 15}, \"zerolinecolor\": \"white\", \"zerolinewidth\": 2}, \"yaxis\": {\"automargin\": true, \"gridcolor\": \"white\", \"linecolor\": \"white\", \"ticks\": \"\", \"title\": {\"standoff\": 15}, \"zerolinecolor\": \"white\", \"zerolinewidth\": 2}}}},\n",
       "                        {\"responsive\": true}\n",
       "                    ).then(function(){\n",
       "                            \n",
       "var gd = document.getElementById('481e620e-d4ff-467e-83d7-3a6b54c8e2f1');\n",
       "var x = new MutationObserver(function (mutations, observer) {{\n",
       "        var display = window.getComputedStyle(gd).display;\n",
       "        if (!display || display === 'none') {{\n",
       "            console.log([gd, 'removed!']);\n",
       "            Plotly.purge(gd);\n",
       "            observer.disconnect();\n",
       "        }}\n",
       "}});\n",
       "\n",
       "// Listen for the removal of the full notebook cells\n",
       "var notebookContainer = gd.closest('#notebook-container');\n",
       "if (notebookContainer) {{\n",
       "    x.observe(notebookContainer, {childList: true});\n",
       "}}\n",
       "\n",
       "// Listen for the clearing of the current output cell\n",
       "var outputEl = gd.closest('.output');\n",
       "if (outputEl) {{\n",
       "    x.observe(outputEl, {childList: true});\n",
       "}}\n",
       "\n",
       "                        })\n",
       "                };\n",
       "                });\n",
       "            </script>\n",
       "        </div>"
      ]
     },
     "metadata": {},
     "output_type": "display_data"
    }
   ],
   "source": [
    "\"\"\"\n",
    "Individual Trip Emissions Scatterplot Visuals\n",
    "\"\"\"\n",
    "\n",
    "def generate_scatter_df(df_full_trips):\n",
    "    df = df_full_trips[['Length', 'Width', 'VesselType']]\n",
    "    df['CO2 Emitted'] = df['Length'].copy().apply(lambda x: x*np.random.random(1)[0])\n",
    "    df.head()\n",
    "    return df\n",
    "\n",
    "fig = px.scatter_3d(generate_scatter_df(df_full_trips), \n",
    "                    x='Length', \n",
    "                    y='Width', \n",
    "                    z='CO2 Emitted',\n",
    "                    color='VesselType', \n",
    "                    height=500)\n",
    "fig.show()"
   ]
  },
  {
   "cell_type": "code",
   "execution_count": 348,
   "metadata": {},
   "outputs": [
    {
     "data": {
      "text/plain": [
       "{'number_of_trips': 73,\n",
       " 'number_of_hubs': 14,\n",
       " 'actual_co2_emission': 1337,\n",
       " 'optimized_co2_emission': 337}"
      ]
     },
     "execution_count": 348,
     "metadata": {},
     "output_type": "execute_result"
    }
   ],
   "source": [
    "\"\"\"\n",
    "TEXT Visuals\n",
    "\n",
    "These are just high level stats that we show in individual boxes\n",
    "\"\"\"\n",
    "\n",
    "def agg_metrics(df_full_trips):\n",
    "    df = df_full_trips \n",
    "    data = {\n",
    "        'number_of_trips': len(df_full_trips),\n",
    "        'number_of_hubs': len(set(df_full_trips['StartHUBPORT_PortID'].unique()).union(\n",
    "                            set(df_full_trips['ENDHUBPORT_PortID'].unique()))),\n",
    "        'actual_co2_emission': 1337,\n",
    "        'optimized_co2_emission': 337\n",
    "    }\n",
    "\n",
    "    return data\n",
    "\n",
    "\n",
    "agg_metrics(df_full_trips)"
   ]
  }
 ],
 "metadata": {
  "kernelspec": {
   "display_name": "Python 3",
   "language": "python",
   "name": "python3"
  },
  "language_info": {
   "codemirror_mode": {
    "name": "ipython",
    "version": 3
   },
   "file_extension": ".py",
   "mimetype": "text/x-python",
   "name": "python",
   "nbconvert_exporter": "python",
   "pygments_lexer": "ipython3",
   "version": "3.7.7"
  }
 },
 "nbformat": 4,
 "nbformat_minor": 4
}
