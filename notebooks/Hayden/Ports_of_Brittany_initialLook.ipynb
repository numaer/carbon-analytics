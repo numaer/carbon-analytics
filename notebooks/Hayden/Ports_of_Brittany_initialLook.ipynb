{
 "cells": [
  {
   "cell_type": "code",
   "execution_count": 2,
   "metadata": {},
   "outputs": [],
   "source": [
    "import sys\n",
    "import pandas as pd\n",
    "import numpy as np\n",
    "import sqlite3 as db"
   ]
  },
  {
   "cell_type": "code",
   "execution_count": 5,
   "metadata": {},
   "outputs": [],
   "source": [
    "AIS_raw = pd.read_csv('AIS Data/nari_dynamic.csv', header=0)"
   ]
  },
  {
   "cell_type": "code",
   "execution_count": 8,
   "metadata": {},
   "outputs": [],
   "source": [
    "#conn = db.connect('AIS_raw_sql.db')\n",
    "#AIS_raw.to_sql('AIS_raw', conn, if_exists='replace', index=False)\n"
   ]
  },
  {
   "cell_type": "code",
   "execution_count": 15,
   "metadata": {},
   "outputs": [
    {
     "data": {
      "text/html": [
       "<div>\n",
       "<style scoped>\n",
       "    .dataframe tbody tr th:only-of-type {\n",
       "        vertical-align: middle;\n",
       "    }\n",
       "\n",
       "    .dataframe tbody tr th {\n",
       "        vertical-align: top;\n",
       "    }\n",
       "\n",
       "    .dataframe thead th {\n",
       "        text-align: right;\n",
       "    }\n",
       "</style>\n",
       "<table border=\"1\" class=\"dataframe\">\n",
       "  <thead>\n",
       "    <tr style=\"text-align: right;\">\n",
       "      <th></th>\n",
       "      <th>sourcemmsi</th>\n",
       "      <th>navigationalstatus</th>\n",
       "      <th>rateofturn</th>\n",
       "      <th>speedoverground</th>\n",
       "      <th>courseoverground</th>\n",
       "      <th>trueheading</th>\n",
       "      <th>lon</th>\n",
       "      <th>lat</th>\n",
       "      <th>t</th>\n",
       "    </tr>\n",
       "  </thead>\n",
       "  <tbody>\n",
       "    <tr>\n",
       "      <th>0</th>\n",
       "      <td>245257000</td>\n",
       "      <td>0.0</td>\n",
       "      <td>0.0</td>\n",
       "      <td>0.1</td>\n",
       "      <td>13.1</td>\n",
       "      <td>36</td>\n",
       "      <td>-4.465718</td>\n",
       "      <td>48.382490</td>\n",
       "      <td>1443650402</td>\n",
       "    </tr>\n",
       "    <tr>\n",
       "      <th>1</th>\n",
       "      <td>227705102</td>\n",
       "      <td>15.0</td>\n",
       "      <td>-127.0</td>\n",
       "      <td>0.0</td>\n",
       "      <td>262.7</td>\n",
       "      <td>511</td>\n",
       "      <td>-4.496571</td>\n",
       "      <td>48.382420</td>\n",
       "      <td>1443650403</td>\n",
       "    </tr>\n",
       "    <tr>\n",
       "      <th>2</th>\n",
       "      <td>228131600</td>\n",
       "      <td>15.0</td>\n",
       "      <td>-127.0</td>\n",
       "      <td>8.5</td>\n",
       "      <td>263.7</td>\n",
       "      <td>511</td>\n",
       "      <td>-4.644325</td>\n",
       "      <td>48.092247</td>\n",
       "      <td>1443650404</td>\n",
       "    </tr>\n",
       "    <tr>\n",
       "      <th>3</th>\n",
       "      <td>228051000</td>\n",
       "      <td>0.0</td>\n",
       "      <td>-127.0</td>\n",
       "      <td>0.0</td>\n",
       "      <td>295.0</td>\n",
       "      <td>511</td>\n",
       "      <td>-4.485108</td>\n",
       "      <td>48.381320</td>\n",
       "      <td>1443650405</td>\n",
       "    </tr>\n",
       "    <tr>\n",
       "      <th>4</th>\n",
       "      <td>227574020</td>\n",
       "      <td>15.0</td>\n",
       "      <td>-127.0</td>\n",
       "      <td>0.1</td>\n",
       "      <td>248.6</td>\n",
       "      <td>511</td>\n",
       "      <td>-4.495441</td>\n",
       "      <td>48.383660</td>\n",
       "      <td>1443650406</td>\n",
       "    </tr>\n",
       "    <tr>\n",
       "      <th>5</th>\n",
       "      <td>228854000</td>\n",
       "      <td>15.0</td>\n",
       "      <td>0.0</td>\n",
       "      <td>10.4</td>\n",
       "      <td>258.2</td>\n",
       "      <td>259</td>\n",
       "      <td>-4.347825</td>\n",
       "      <td>48.117958</td>\n",
       "      <td>1443650408</td>\n",
       "    </tr>\n",
       "    <tr>\n",
       "      <th>6</th>\n",
       "      <td>227415000</td>\n",
       "      <td>15.0</td>\n",
       "      <td>-127.0</td>\n",
       "      <td>11.4</td>\n",
       "      <td>176.5</td>\n",
       "      <td>511</td>\n",
       "      <td>-4.769152</td>\n",
       "      <td>47.987152</td>\n",
       "      <td>1443650409</td>\n",
       "    </tr>\n",
       "    <tr>\n",
       "      <th>7</th>\n",
       "      <td>228037700</td>\n",
       "      <td>15.0</td>\n",
       "      <td>-127.0</td>\n",
       "      <td>9.1</td>\n",
       "      <td>78.5</td>\n",
       "      <td>511</td>\n",
       "      <td>-4.471913</td>\n",
       "      <td>48.166340</td>\n",
       "      <td>1443650411</td>\n",
       "    </tr>\n",
       "    <tr>\n",
       "      <th>8</th>\n",
       "      <td>227443000</td>\n",
       "      <td>15.0</td>\n",
       "      <td>-127.0</td>\n",
       "      <td>11.1</td>\n",
       "      <td>171.5</td>\n",
       "      <td>511</td>\n",
       "      <td>-4.782632</td>\n",
       "      <td>48.005634</td>\n",
       "      <td>1443650411</td>\n",
       "    </tr>\n",
       "    <tr>\n",
       "      <th>9</th>\n",
       "      <td>245257000</td>\n",
       "      <td>0.0</td>\n",
       "      <td>0.0</td>\n",
       "      <td>0.0</td>\n",
       "      <td>13.1</td>\n",
       "      <td>35</td>\n",
       "      <td>-4.465720</td>\n",
       "      <td>48.382507</td>\n",
       "      <td>1443650413</td>\n",
       "    </tr>\n",
       "  </tbody>\n",
       "</table>\n",
       "</div>"
      ],
      "text/plain": [
       "   sourcemmsi  navigationalstatus  rateofturn  speedoverground  \\\n",
       "0   245257000                 0.0         0.0              0.1   \n",
       "1   227705102                15.0      -127.0              0.0   \n",
       "2   228131600                15.0      -127.0              8.5   \n",
       "3   228051000                 0.0      -127.0              0.0   \n",
       "4   227574020                15.0      -127.0              0.1   \n",
       "5   228854000                15.0         0.0             10.4   \n",
       "6   227415000                15.0      -127.0             11.4   \n",
       "7   228037700                15.0      -127.0              9.1   \n",
       "8   227443000                15.0      -127.0             11.1   \n",
       "9   245257000                 0.0         0.0              0.0   \n",
       "\n",
       "   courseoverground  trueheading       lon        lat           t  \n",
       "0              13.1           36 -4.465718  48.382490  1443650402  \n",
       "1             262.7          511 -4.496571  48.382420  1443650403  \n",
       "2             263.7          511 -4.644325  48.092247  1443650404  \n",
       "3             295.0          511 -4.485108  48.381320  1443650405  \n",
       "4             248.6          511 -4.495441  48.383660  1443650406  \n",
       "5             258.2          259 -4.347825  48.117958  1443650408  \n",
       "6             176.5          511 -4.769152  47.987152  1443650409  \n",
       "7              78.5          511 -4.471913  48.166340  1443650411  \n",
       "8             171.5          511 -4.782632  48.005634  1443650411  \n",
       "9              13.1           35 -4.465720  48.382507  1443650413  "
      ]
     },
     "execution_count": 15,
     "metadata": {},
     "output_type": "execute_result"
    }
   ],
   "source": [
    "AIS_raw.head(10)"
   ]
  },
  {
   "cell_type": "code",
   "execution_count": 11,
   "metadata": {},
   "outputs": [
    {
     "data": {
      "text/html": [
       "<div>\n",
       "<style scoped>\n",
       "    .dataframe tbody tr th:only-of-type {\n",
       "        vertical-align: middle;\n",
       "    }\n",
       "\n",
       "    .dataframe tbody tr th {\n",
       "        vertical-align: top;\n",
       "    }\n",
       "\n",
       "    .dataframe thead th {\n",
       "        text-align: right;\n",
       "    }\n",
       "</style>\n",
       "<table border=\"1\" class=\"dataframe\">\n",
       "  <thead>\n",
       "    <tr style=\"text-align: right;\">\n",
       "      <th></th>\n",
       "      <th>sourcemmsi</th>\n",
       "      <th>navigationalstatus</th>\n",
       "      <th>rateofturn</th>\n",
       "      <th>speedoverground</th>\n",
       "      <th>courseoverground</th>\n",
       "      <th>trueheading</th>\n",
       "      <th>lon</th>\n",
       "      <th>lat</th>\n",
       "      <th>t</th>\n",
       "    </tr>\n",
       "  </thead>\n",
       "  <tbody>\n",
       "    <tr>\n",
       "      <th>0</th>\n",
       "      <td>245257000</td>\n",
       "      <td>0.0</td>\n",
       "      <td>0.0</td>\n",
       "      <td>0.1</td>\n",
       "      <td>13.1</td>\n",
       "      <td>36</td>\n",
       "      <td>-4.465718</td>\n",
       "      <td>48.382490</td>\n",
       "      <td>1443650402</td>\n",
       "    </tr>\n",
       "    <tr>\n",
       "      <th>1</th>\n",
       "      <td>227705102</td>\n",
       "      <td>15.0</td>\n",
       "      <td>-127.0</td>\n",
       "      <td>0.0</td>\n",
       "      <td>262.7</td>\n",
       "      <td>511</td>\n",
       "      <td>-4.496571</td>\n",
       "      <td>48.382420</td>\n",
       "      <td>1443650403</td>\n",
       "    </tr>\n",
       "    <tr>\n",
       "      <th>2</th>\n",
       "      <td>228131600</td>\n",
       "      <td>15.0</td>\n",
       "      <td>-127.0</td>\n",
       "      <td>8.5</td>\n",
       "      <td>263.7</td>\n",
       "      <td>511</td>\n",
       "      <td>-4.644325</td>\n",
       "      <td>48.092247</td>\n",
       "      <td>1443650404</td>\n",
       "    </tr>\n",
       "    <tr>\n",
       "      <th>3</th>\n",
       "      <td>228051000</td>\n",
       "      <td>0.0</td>\n",
       "      <td>-127.0</td>\n",
       "      <td>0.0</td>\n",
       "      <td>295.0</td>\n",
       "      <td>511</td>\n",
       "      <td>-4.485108</td>\n",
       "      <td>48.381320</td>\n",
       "      <td>1443650405</td>\n",
       "    </tr>\n",
       "    <tr>\n",
       "      <th>4</th>\n",
       "      <td>227574020</td>\n",
       "      <td>15.0</td>\n",
       "      <td>-127.0</td>\n",
       "      <td>0.1</td>\n",
       "      <td>248.6</td>\n",
       "      <td>511</td>\n",
       "      <td>-4.495441</td>\n",
       "      <td>48.383660</td>\n",
       "      <td>1443650406</td>\n",
       "    </tr>\n",
       "  </tbody>\n",
       "</table>\n",
       "</div>"
      ],
      "text/plain": [
       "   sourcemmsi  navigationalstatus  rateofturn  speedoverground  \\\n",
       "0   245257000                 0.0         0.0              0.1   \n",
       "1   227705102                15.0      -127.0              0.0   \n",
       "2   228131600                15.0      -127.0              8.5   \n",
       "3   228051000                 0.0      -127.0              0.0   \n",
       "4   227574020                15.0      -127.0              0.1   \n",
       "\n",
       "   courseoverground  trueheading       lon        lat           t  \n",
       "0              13.1           36 -4.465718  48.382490  1443650402  \n",
       "1             262.7          511 -4.496571  48.382420  1443650403  \n",
       "2             263.7          511 -4.644325  48.092247  1443650404  \n",
       "3             295.0          511 -4.485108  48.381320  1443650405  \n",
       "4             248.6          511 -4.495441  48.383660  1443650406  "
      ]
     },
     "execution_count": 11,
     "metadata": {},
     "output_type": "execute_result"
    }
   ],
   "source": [
    "#pd.read_sql_query('SELECT * FROM AIS_raw LIMIT 5', conn)"
   ]
  },
  {
   "cell_type": "code",
   "execution_count": 43,
   "metadata": {},
   "outputs": [
    {
     "name": "stdout",
     "output_type": "stream",
     "text": [
      "Number of unique source MMSI in data set is:  5055\n"
     ]
    }
   ],
   "source": [
    "#How many ship IDs are there total\n",
    "print(\"Number of unique source MMSI in data set is: \", len(AIS_raw[\"sourcemmsi\"].unique()))"
   ]
  },
  {
   "cell_type": "code",
   "execution_count": 44,
   "metadata": {},
   "outputs": [],
   "source": [
    "sample = {245257000, 227705102, 228131600, 228051000, 227574020, 228854000, 227415000, 228037700, 227443000}\n",
    "ships_test = AIS_raw[AIS_raw['sourcemmsi'].apply(lambda x: x in sample)]"
   ]
  },
  {
   "cell_type": "code",
   "execution_count": 46,
   "metadata": {},
   "outputs": [
    {
     "data": {
      "text/plain": [
       "sourcemmsi\n",
       "227415000        246\n",
       "227443000        275\n",
       "227574020    1065741\n",
       "227705102    1032332\n",
       "228037700      60478\n",
       "228051000     965870\n",
       "228131600       1150\n",
       "228854000       4174\n",
       "245257000       9680\n",
       "Name: t, dtype: int64"
      ]
     },
     "execution_count": 46,
     "metadata": {},
     "output_type": "execute_result"
    }
   ],
   "source": [
    "DP_per_ship = ships_test.groupby(['sourcemmsi']).count()\n",
    "DP_per_ship['t']"
   ]
  },
  {
   "cell_type": "code",
   "execution_count": null,
   "metadata": {},
   "outputs": [],
   "source": [
    "#Lets see from what time periods these ships are traveling"
   ]
  },
  {
   "cell_type": "code",
   "execution_count": 57,
   "metadata": {},
   "outputs": [
    {
     "name": "stderr",
     "output_type": "stream",
     "text": [
      "C:\\Users\\hayde\\Anaconda3\\lib\\site-packages\\ipykernel_launcher.py:2: SettingWithCopyWarning: \n",
      "A value is trying to be set on a copy of a slice from a DataFrame.\n",
      "Try using .loc[row_indexer,col_indexer] = value instead\n",
      "\n",
      "See the caveats in the documentation: http://pandas.pydata.org/pandas-docs/stable/user_guide/indexing.html#returning-a-view-versus-a-copy\n",
      "  \n",
      "C:\\Users\\hayde\\Anaconda3\\lib\\site-packages\\ipykernel_launcher.py:4: SettingWithCopyWarning: \n",
      "A value is trying to be set on a copy of a slice from a DataFrame.\n",
      "Try using .loc[row_indexer,col_indexer] = value instead\n",
      "\n",
      "See the caveats in the documentation: http://pandas.pydata.org/pandas-docs/stable/user_guide/indexing.html#returning-a-view-versus-a-copy\n",
      "  after removing the cwd from sys.path.\n"
     ]
    }
   ],
   "source": [
    "short_trip = AIS_raw[AIS_raw['sourcemmsi'] == 227415000]\n",
    "short_trip['t'] = pd.to_datetime(short_trip['t'], unit='s')\n",
    "long_trip = AIS_raw[AIS_raw['sourcemmsi'] == 227574020]\n",
    "long_trip['t'] = pd.to_datetime(long_trip['t'], unit='s')"
   ]
  },
  {
   "cell_type": "code",
   "execution_count": 58,
   "metadata": {},
   "outputs": [
    {
     "name": "stdout",
     "output_type": "stream",
     "text": [
      "Min time short trip: 2015-09-30 22:00:09\n",
      "Max time short trip: 2016-01-24 21:12:54\n",
      "Min time long trip: 2015-09-30 22:00:06\n",
      "Max time long trip: 2016-03-31 21:59:59\n"
     ]
    }
   ],
   "source": [
    "print(\"Min time short trip:\",short_trip['t'].min())\n",
    "print(\"Max time short trip:\",short_trip['t'].max())\n",
    "print(\"Min time long trip:\",long_trip['t'].min())\n",
    "print(\"Max time long trip:\",long_trip['t'].max())"
   ]
  },
  {
   "cell_type": "code",
   "execution_count": 61,
   "metadata": {},
   "outputs": [
    {
     "data": {
      "text/plain": [
       "[<matplotlib.lines.Line2D at 0x1f402599648>]"
      ]
     },
     "execution_count": 61,
     "metadata": {},
     "output_type": "execute_result"
    },
    {
     "data": {
      "image/png": "[encoded data removed]",
      "text/plain": [
       "<Figure size 432x288 with 1 Axes>"
      ]
     },
     "metadata": {
      "needs_background": "light"
     },
     "output_type": "display_data"
    }
   ],
   "source": [
    "#Lets see where the ships are traveling to and from\n",
    "import matplotlib.pyplot as plt \n",
    "plt.plot(short_trip['lon'], short_trip['lat'])"
   ]
  },
  {
   "cell_type": "code",
   "execution_count": 62,
   "metadata": {},
   "outputs": [
    {
     "data": {
      "text/plain": [
       "[<matplotlib.lines.Line2D at 0x1f402645e08>]"
      ]
     },
     "execution_count": 62,
     "metadata": {},
     "output_type": "execute_result"
    },
    {
     "data": {
      "image/png": "[encoded data removed]",
      "text/plain": [
       "<Figure size 432x288 with 1 Axes>"
      ]
     },
     "metadata": {
      "needs_background": "light"
     },
     "output_type": "display_data"
    }
   ],
   "source": [
    "plt.plot(long_trip['lon'], long_trip['lat'])"
   ]
  },
  {
   "cell_type": "code",
   "execution_count": 89,
   "metadata": {},
   "outputs": [],
   "source": [
    "ship_lon = AIS_raw.groupby('sourcemmsi')['lon'].apply(list).reset_index()\n",
    "ship_lat = AIS_raw.groupby('sourcemmsi')['lat'].apply(list).reset_index()\n",
    "ship_time = AIS_raw.groupby('sourcemmsi')['t'].apply(list).reset_index()\n",
    "ship_1 = pd.merge(ship_lon, ship_lat, on='sourcemmsi')\n",
    "ship = pd.merge(ship_1, ship_time, on='sourcemmsi')"
   ]
  },
  {
   "cell_type": "code",
   "execution_count": 104,
   "metadata": {},
   "outputs": [],
   "source": [
    "ship[\"max_lat\"] = ship.apply(lambda x: max(x[\"lat\"]), axis=1)\n",
    "ship[\"max_lon\"] = ship.apply(lambda x: max(x[\"lon\"]), axis=1)\n",
    "ship[\"min_lat\"] = ship.apply(lambda x: min(x[\"lat\"]), axis=1)\n",
    "ship[\"min_lon\"] = ship.apply(lambda x: min(x[\"lon\"]), axis=1)\n",
    "ship[\"max_time\"] = pd.to_datetime(ship.apply(lambda x: max(x[\"t\"]), axis=1),unit='s')\n",
    "ship[\"min_time\"] = pd.to_datetime(ship.apply(lambda x: min(x[\"t\"]), axis=1),unit='s')"
   ]
  },
  {
   "cell_type": "code",
   "execution_count": 105,
   "metadata": {
    "scrolled": true
   },
   "outputs": [
    {
     "name": "stdout",
     "output_type": "stream",
     "text": [
      "Max coordinates of ships in data\n",
      "Max Longitude:  -0.015736667\n",
      "Min Longitude:  -9.713331\n",
      "Max Latitude:  50.887634000000006\n",
      "Min Latitude:  45.001045\n"
     ]
    }
   ],
   "source": [
    "print(\"Max coordinates of ships in data\")\n",
    "print(\"Max Longitude: \", max(ship[\"max_lon\"]))\n",
    "print(\"Min Longitude: \", min(ship[\"min_lon\"]))\n",
    "print(\"Max Latitude: \", max(ship[\"max_lat\"]))\n",
    "print(\"Min Latitude: \", min(ship[\"min_lat\"]))"
   ]
  },
  {
   "cell_type": "code",
   "execution_count": 106,
   "metadata": {},
   "outputs": [
    {
     "name": "stdout",
     "output_type": "stream",
     "text": [
      "Max Date:  2016-03-31 21:59:59\n",
      "Min Date:  2015-09-30 22:00:01\n"
     ]
    }
   ],
   "source": [
    "print(\"Max Date: \", max(ship[\"max_time\"]))\n",
    "print(\"Min Date: \", min(ship[\"min_time\"]))"
   ]
  },
  {
   "cell_type": "code",
   "execution_count": null,
   "metadata": {},
   "outputs": [],
   "source": []
  }
 ],
 "metadata": {
  "kernelspec": {
   "display_name": "Python 3",
   "language": "python",
   "name": "python3"
  },
  "language_info": {
   "codemirror_mode": {
    "name": "ipython",
    "version": 3
   },
   "file_extension": ".py",
   "mimetype": "text/x-python",
   "name": "python",
   "nbconvert_exporter": "python",
   "pygments_lexer": "ipython3",
   "version": "3.7.6"
  }
 },
 "nbformat": 4,
 "nbformat_minor": 2
}
