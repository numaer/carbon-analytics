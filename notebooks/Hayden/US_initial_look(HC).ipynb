{
 "cells": [
  {
   "cell_type": "code",
   "execution_count": 2,
   "metadata": {},
   "outputs": [],
   "source": [
    "import sys\n",
    "import pandas as pd\n",
    "import numpy as np\n",
    "import matplotlib.pyplot as plt\n",
    "from time import process_time"
   ]
  },
  {
   "cell_type": "code",
   "execution_count": 2,
   "metadata": {},
   "outputs": [],
   "source": [
    "#Data is from December 2017, zones 20 and 19\n",
    "#Omiting 18 for now\n",
    "AIS_raw_20 = pd.read_csv('AIS_2017_12_Zone20.csv', header=0)\n",
    "AIS_raw_19 = pd.read_csv('AIS_2017_12_Zone19.csv', header=0)\n",
    "#AIS_raw_18 = pd.read_csv('AIS_2017_12_Zone18.csv', header=0)"
   ]
  },
  {
   "cell_type": "code",
   "execution_count": 5,
   "metadata": {},
   "outputs": [
    {
     "name": "stdout",
     "output_type": "stream",
     "text": [
      "Number of rows of raw data:  6458339\n"
     ]
    },
    {
     "data": {
      "text/html": [
       "<div>\n",
       "<style scoped>\n",
       "    .dataframe tbody tr th:only-of-type {\n",
       "        vertical-align: middle;\n",
       "    }\n",
       "\n",
       "    .dataframe tbody tr th {\n",
       "        vertical-align: top;\n",
       "    }\n",
       "\n",
       "    .dataframe thead th {\n",
       "        text-align: right;\n",
       "    }\n",
       "</style>\n",
       "<table border=\"1\" class=\"dataframe\">\n",
       "  <thead>\n",
       "    <tr style=\"text-align: right;\">\n",
       "      <th></th>\n",
       "      <th>MMSI</th>\n",
       "      <th>BaseDateTime</th>\n",
       "      <th>LAT</th>\n",
       "      <th>LON</th>\n",
       "      <th>SOG</th>\n",
       "      <th>COG</th>\n",
       "      <th>Heading</th>\n",
       "      <th>VesselName</th>\n",
       "      <th>IMO</th>\n",
       "      <th>CallSign</th>\n",
       "      <th>VesselType</th>\n",
       "      <th>Status</th>\n",
       "      <th>Length</th>\n",
       "      <th>Width</th>\n",
       "      <th>Draft</th>\n",
       "      <th>Cargo</th>\n",
       "    </tr>\n",
       "  </thead>\n",
       "  <tbody>\n",
       "    <tr>\n",
       "      <th>0</th>\n",
       "      <td>311109000</td>\n",
       "      <td>2017-12-01T00:03:29</td>\n",
       "      <td>18.85018</td>\n",
       "      <td>-65.84870</td>\n",
       "      <td>18.2</td>\n",
       "      <td>130.9</td>\n",
       "      <td>129.0</td>\n",
       "      <td>NORWEGIAN SUN</td>\n",
       "      <td>IMO9218131</td>\n",
       "      <td>C6RN3</td>\n",
       "      <td>1012.0</td>\n",
       "      <td>under way using engine</td>\n",
       "      <td>258.59</td>\n",
       "      <td>32.25</td>\n",
       "      <td>NaN</td>\n",
       "      <td>NaN</td>\n",
       "    </tr>\n",
       "    <tr>\n",
       "      <th>1</th>\n",
       "      <td>671966000</td>\n",
       "      <td>2017-12-01T19:36:04</td>\n",
       "      <td>18.33037</td>\n",
       "      <td>-64.96089</td>\n",
       "      <td>0.0</td>\n",
       "      <td>-149.5</td>\n",
       "      <td>511.0</td>\n",
       "      <td>NaN</td>\n",
       "      <td>NaN</td>\n",
       "      <td>NaN</td>\n",
       "      <td>NaN</td>\n",
       "      <td>power-driven vessel towing astern</td>\n",
       "      <td>NaN</td>\n",
       "      <td>NaN</td>\n",
       "      <td>NaN</td>\n",
       "      <td>NaN</td>\n",
       "    </tr>\n",
       "    <tr>\n",
       "      <th>2</th>\n",
       "      <td>367573630</td>\n",
       "      <td>2017-12-01T00:03:10</td>\n",
       "      <td>18.28271</td>\n",
       "      <td>-65.63716</td>\n",
       "      <td>0.0</td>\n",
       "      <td>-123.3</td>\n",
       "      <td>511.0</td>\n",
       "      <td>NaN</td>\n",
       "      <td>NaN</td>\n",
       "      <td>NaN</td>\n",
       "      <td>NaN</td>\n",
       "      <td>NaN</td>\n",
       "      <td>NaN</td>\n",
       "      <td>NaN</td>\n",
       "      <td>NaN</td>\n",
       "      <td>NaN</td>\n",
       "    </tr>\n",
       "    <tr>\n",
       "      <th>3</th>\n",
       "      <td>232012229</td>\n",
       "      <td>2017-12-01T00:05:54</td>\n",
       "      <td>17.80085</td>\n",
       "      <td>-65.31860</td>\n",
       "      <td>6.9</td>\n",
       "      <td>37.7</td>\n",
       "      <td>511.0</td>\n",
       "      <td>NaN</td>\n",
       "      <td>NaN</td>\n",
       "      <td>NaN</td>\n",
       "      <td>NaN</td>\n",
       "      <td>NaN</td>\n",
       "      <td>NaN</td>\n",
       "      <td>NaN</td>\n",
       "      <td>NaN</td>\n",
       "      <td>NaN</td>\n",
       "    </tr>\n",
       "    <tr>\n",
       "      <th>4</th>\n",
       "      <td>366744150</td>\n",
       "      <td>2017-12-01T19:41:44</td>\n",
       "      <td>18.33495</td>\n",
       "      <td>-64.92114</td>\n",
       "      <td>0.0</td>\n",
       "      <td>-49.6</td>\n",
       "      <td>511.0</td>\n",
       "      <td>KON TIKI II</td>\n",
       "      <td>NaN</td>\n",
       "      <td>WDF6312</td>\n",
       "      <td>1012.0</td>\n",
       "      <td>under way using engine</td>\n",
       "      <td>27.43</td>\n",
       "      <td>10.00</td>\n",
       "      <td>NaN</td>\n",
       "      <td>NaN</td>\n",
       "    </tr>\n",
       "  </tbody>\n",
       "</table>\n",
       "</div>"
      ],
      "text/plain": [
       "        MMSI         BaseDateTime       LAT       LON   SOG    COG  Heading  \\\n",
       "0  311109000  2017-12-01T00:03:29  18.85018 -65.84870  18.2  130.9    129.0   \n",
       "1  671966000  2017-12-01T19:36:04  18.33037 -64.96089   0.0 -149.5    511.0   \n",
       "2  367573630  2017-12-01T00:03:10  18.28271 -65.63716   0.0 -123.3    511.0   \n",
       "3  232012229  2017-12-01T00:05:54  17.80085 -65.31860   6.9   37.7    511.0   \n",
       "4  366744150  2017-12-01T19:41:44  18.33495 -64.92114   0.0  -49.6    511.0   \n",
       "\n",
       "      VesselName         IMO CallSign  VesselType  \\\n",
       "0  NORWEGIAN SUN  IMO9218131    C6RN3      1012.0   \n",
       "1            NaN         NaN      NaN         NaN   \n",
       "2            NaN         NaN      NaN         NaN   \n",
       "3            NaN         NaN      NaN         NaN   \n",
       "4    KON TIKI II         NaN  WDF6312      1012.0   \n",
       "\n",
       "                              Status  Length  Width  Draft  Cargo  \n",
       "0             under way using engine  258.59  32.25    NaN    NaN  \n",
       "1  power-driven vessel towing astern     NaN    NaN    NaN    NaN  \n",
       "2                                NaN     NaN    NaN    NaN    NaN  \n",
       "3                                NaN     NaN    NaN    NaN    NaN  \n",
       "4             under way using engine   27.43  10.00    NaN    NaN  "
      ]
     },
     "execution_count": 5,
     "metadata": {},
     "output_type": "execute_result"
    }
   ],
   "source": [
    "print(\"Number of rows of raw data: \", len(AIS_raw_19)+len(AIS_raw_20))\n",
    "AIS_raw_20.head(5)"
   ]
  },
  {
   "cell_type": "code",
   "execution_count": 6,
   "metadata": {},
   "outputs": [
    {
     "name": "stdout",
     "output_type": "stream",
     "text": [
      "Zone 20 NaN values: \n",
      " MMSI            0.000000\n",
      "BaseDateTime    0.000000\n",
      "LAT             0.000000\n",
      "LON             0.000000\n",
      "SOG             0.000000\n",
      "COG             0.000000\n",
      "Heading         0.000000\n",
      "VesselName      0.085074\n",
      "IMO             0.388254\n",
      "CallSign        0.109285\n",
      "VesselType      0.162462\n",
      "Status          0.285204\n",
      "Length          0.262942\n",
      "Width           0.357343\n",
      "Draft           0.716716\n",
      "Cargo           0.656410\n",
      "dtype: float64\n",
      "Zone 19 NaN values: \n",
      " MMSI            0.000000\n",
      "BaseDateTime    0.000000\n",
      "LAT             0.000000\n",
      "LON             0.000000\n",
      "SOG             0.000000\n",
      "COG             0.000000\n",
      "Heading         0.000000\n",
      "VesselName      0.049593\n",
      "IMO             0.359425\n",
      "CallSign        0.111849\n",
      "VesselType      0.081110\n",
      "Status          0.195460\n",
      "Length          0.110947\n",
      "Width           0.214627\n",
      "Draft           0.723913\n",
      "Cargo           0.637464\n",
      "dtype: float64\n"
     ]
    }
   ],
   "source": [
    "#Seems to be quite a bit of NaN values, lets see how many for each column (by percentage)\n",
    "print(\"Zone 20 NaN values: \\n\", AIS_raw_20.isna().sum()/(AIS_raw_20.count()+AIS_raw_20.isna().sum()))\n",
    "print(\"Zone 19 NaN values: \\n\", AIS_raw_19.isna().sum()/(AIS_raw_19.count()+AIS_raw_19.isna().sum()))"
   ]
  },
  {
   "cell_type": "code",
   "execution_count": 7,
   "metadata": {},
   "outputs": [
    {
     "name": "stdout",
     "output_type": "stream",
     "text": [
      "Number of ships zone 20:  969\n",
      "Number of ships zone 19:  2286\n"
     ]
    }
   ],
   "source": [
    "#The good news is that all of the LAT and LON are available. An issue is that \"status\" has a decent number of NaNs\n",
    "#How many ship IDs are there for each set\n",
    "print(\"Number of ships zone 20: \", len(AIS_raw_20[\"MMSI\"].unique()))\n",
    "print(\"Number of ships zone 19: \", len(AIS_raw_19[\"MMSI\"].unique()))"
   ]
  },
  {
   "cell_type": "code",
   "execution_count": 8,
   "metadata": {},
   "outputs": [
    {
     "name": "stdout",
     "output_type": "stream",
     "text": [
      "Common ships from zone 20 to 19:  550\n"
     ]
    }
   ],
   "source": [
    "#How many of these ships cross to the other zone during this time period\n",
    "unique_20 = AIS_raw_20[\"MMSI\"].unique().tolist()\n",
    "unique_19 = AIS_raw_19[\"MMSI\"].unique().tolist()\n",
    "\n",
    "zonetozone2019 = set(unique_20) & set(unique_19)\n",
    "print(\"Common ships from zone 20 to 19: \", len(zonetozone2019))"
   ]
  },
  {
   "cell_type": "code",
   "execution_count": 10,
   "metadata": {},
   "outputs": [
    {
     "name": "stdout",
     "output_type": "stream",
     "text": [
      "                                                      count\n",
      "Status                                                     \n",
      "AIS-SART (active); MOB-AIS; EPIRB-AIS                     1\n",
      "at anchor                                             96350\n",
      "constrained by her draught                            45411\n",
      "engaged in fishing                                    33121\n",
      "moored                                               515001\n",
      "not under command                                     12669\n",
      "power-driven vessel pushing ahead or towing alo...    23630\n",
      "power-driven vessel towing astern                     14433\n",
      "reserved for future use (10)                              6\n",
      "reserved for future use (13)                              1\n",
      "reserved for future use (9)                           11942\n",
      "restricted maneuverability                            66729\n",
      "undefined                                           2088158\n",
      "under way sailing                                     12015\n",
      "under way using engine                              3538872\n"
     ]
    }
   ],
   "source": [
    "#Combine zone 20 and 19, fill the NaN and observe the \"status\" breakdown of all of the ships\n",
    "zone_20_19 = pd.concat([AIS_raw_20, AIS_raw_19])\n",
    "zone_20_191 = zone_20_19.fillna('undefined')\n",
    "status = zone_20_191.groupby(['Status']).agg(['count'])['MMSI']\n",
    "print(status)"
   ]
  },
  {
   "cell_type": "code",
   "execution_count": 12,
   "metadata": {},
   "outputs": [
    {
     "data": {
      "text/plain": [
       "<matplotlib.collections.PathCollection at 0x1ac0bf9a9c8>"
      ]
     },
     "execution_count": 12,
     "metadata": {},
     "output_type": "execute_result"
    },
    {
     "data": {
      "image/png": "[encoded data removed]",
      "text/plain": [
       "<Figure size 432x288 with 1 Axes>"
      ]
     },
     "metadata": {
      "needs_background": "light"
     },
     "output_type": "display_data"
    }
   ],
   "source": [
    "#Compiling 10 different ships that appear in both zone 20 and 19 and plot the locations in whihc they are 'moored'\n",
    "ships_10_z2019 = zone_20_19[zone_20_19['MMSI'].isin(list(zonetozone2019)[:10])][['MMSI','LAT','LON','Status']]\n",
    "plt.scatter(ships_10_z2019[ships_10_z2019['Status']=='moored']['LON'],ships_10_z2019[ships_10_z2019['Status']=='moored']['LAT'])\n"
   ]
  },
  {
   "cell_type": "code",
   "execution_count": 13,
   "metadata": {},
   "outputs": [
    {
     "data": {
      "text/plain": [
       "<matplotlib.collections.PathCollection at 0x1abf51f3588>"
      ]
     },
     "execution_count": 13,
     "metadata": {},
     "output_type": "execute_result"
    },
    {
     "data": {
      "image/png": "[encoded data removed]",
      "text/plain": [
       "<Figure size 432x288 with 1 Axes>"
      ]
     },
     "metadata": {
      "needs_background": "light"
     },
     "output_type": "display_data"
    }
   ],
   "source": [
    "#Above shows 3 different mooring locations. For the most part, they are very localized. The long line is the \n",
    "#main puerto rico port, so a ship can technically be \"moored\" a bit outside the port\n",
    "ships_10_z2019 = zone_20_19[zone_20_19['MMSI'].isin(list(zonetozone2019)[:40])][['MMSI','LAT','LON','Status']]\n",
    "plt.scatter(ships_10_z2019[ships_10_z2019['Status']=='moored']['LON'],ships_10_z2019[ships_10_z2019['Status']=='moored']['LAT'])\n"
   ]
  },
  {
   "cell_type": "code",
   "execution_count": 15,
   "metadata": {},
   "outputs": [
    {
     "data": {
      "text/plain": [
       "<matplotlib.collections.PathCollection at 0x1ac08f4bec8>"
      ]
     },
     "execution_count": 15,
     "metadata": {},
     "output_type": "execute_result"
    },
    {
     "data": {
      "image/png": "[encoded data removed]",
      "text/plain": [
       "<Figure size 432x288 with 1 Axes>"
      ]
     },
     "metadata": {
      "needs_background": "light"
     },
     "output_type": "display_data"
    }
   ],
   "source": [
    "# This graph above looks promising. Localized areas we can define as Ports.\n",
    "# Lets see if the other status' apply 'at anchor'\n",
    "ships_10_z2019 = zone_20_19[zone_20_19['MMSI'].isin(list(zonetozone2019)[:40])][['MMSI','LAT','LON','Status']]\n",
    "plt.scatter(ships_10_z2019[ships_10_z2019['Status']=='at anchor']['LON'],ships_10_z2019[ships_10_z2019['Status']=='at anchor']['LAT'])"
   ]
  },
  {
   "cell_type": "code",
   "execution_count": 17,
   "metadata": {},
   "outputs": [],
   "source": [
    "#It seems the data is suitable for creating a graph of ships entering ports (nodes)\n",
    "#Step by step process to create usable data for optimization (will time to gauge performance)"
   ]
  },
  {
   "cell_type": "code",
   "execution_count": 18,
   "metadata": {},
   "outputs": [
    {
     "name": "stdout",
     "output_type": "stream",
     "text": [
      "Load Time:  25.03125\n",
      "Number of rows:  6458339\n"
     ]
    }
   ],
   "source": [
    "#Load data\n",
    "\n",
    "t0_start = process_time() \n",
    "\n",
    "AIS_raw_20 = pd.read_csv('AIS_2017_12_Zone20.csv', header=0)\n",
    "AIS_raw_19 = pd.read_csv('AIS_2017_12_Zone19.csv', header=0)\n",
    "\n",
    "t0_end = process_time()\n",
    "\n",
    "print(\"Load Time: \", t0_end-t0_start)\n",
    "print(\"Number of rows: \", len(AIS_raw_20)+len(AIS_raw_19))"
   ]
  },
  {
   "cell_type": "code",
   "execution_count": 19,
   "metadata": {},
   "outputs": [
    {
     "name": "stdout",
     "output_type": "stream",
     "text": [
      "Combine Time:  8.53125\n",
      "Number of rows:  5150038\n"
     ]
    },
    {
     "data": {
      "text/html": [
       "<div>\n",
       "<style scoped>\n",
       "    .dataframe tbody tr th:only-of-type {\n",
       "        vertical-align: middle;\n",
       "    }\n",
       "\n",
       "    .dataframe tbody tr th {\n",
       "        vertical-align: top;\n",
       "    }\n",
       "\n",
       "    .dataframe thead th {\n",
       "        text-align: right;\n",
       "    }\n",
       "</style>\n",
       "<table border=\"1\" class=\"dataframe\">\n",
       "  <thead>\n",
       "    <tr style=\"text-align: right;\">\n",
       "      <th></th>\n",
       "      <th>MMSI</th>\n",
       "      <th>BaseDateTime</th>\n",
       "      <th>LAT</th>\n",
       "      <th>LON</th>\n",
       "      <th>Status</th>\n",
       "    </tr>\n",
       "  </thead>\n",
       "  <tbody>\n",
       "    <tr>\n",
       "      <th>0</th>\n",
       "      <td>311109000</td>\n",
       "      <td>2017-12-01T00:03:29</td>\n",
       "      <td>18.85018</td>\n",
       "      <td>-65.84870</td>\n",
       "      <td>under way using engine</td>\n",
       "    </tr>\n",
       "    <tr>\n",
       "      <th>1</th>\n",
       "      <td>671966000</td>\n",
       "      <td>2017-12-01T19:36:04</td>\n",
       "      <td>18.33037</td>\n",
       "      <td>-64.96089</td>\n",
       "      <td>power-driven vessel towing astern</td>\n",
       "    </tr>\n",
       "    <tr>\n",
       "      <th>2</th>\n",
       "      <td>366744150</td>\n",
       "      <td>2017-12-01T19:41:44</td>\n",
       "      <td>18.33495</td>\n",
       "      <td>-64.92114</td>\n",
       "      <td>under way using engine</td>\n",
       "    </tr>\n",
       "    <tr>\n",
       "      <th>3</th>\n",
       "      <td>367617230</td>\n",
       "      <td>2017-12-01T00:12:44</td>\n",
       "      <td>18.29556</td>\n",
       "      <td>-65.39324</td>\n",
       "      <td>under way using engine</td>\n",
       "    </tr>\n",
       "    <tr>\n",
       "      <th>4</th>\n",
       "      <td>367617230</td>\n",
       "      <td>2017-12-01T00:13:52</td>\n",
       "      <td>18.29537</td>\n",
       "      <td>-65.38942</td>\n",
       "      <td>under way using engine</td>\n",
       "    </tr>\n",
       "    <tr>\n",
       "      <th>...</th>\n",
       "      <td>...</td>\n",
       "      <td>...</td>\n",
       "      <td>...</td>\n",
       "      <td>...</td>\n",
       "      <td>...</td>\n",
       "    </tr>\n",
       "    <tr>\n",
       "      <th>5150033</th>\n",
       "      <td>366953940</td>\n",
       "      <td>2017-12-31T23:53:24</td>\n",
       "      <td>44.11215</td>\n",
       "      <td>-69.10154</td>\n",
       "      <td>under way using engine</td>\n",
       "    </tr>\n",
       "    <tr>\n",
       "      <th>5150034</th>\n",
       "      <td>367912000</td>\n",
       "      <td>2017-12-31T23:53:26</td>\n",
       "      <td>41.52191</td>\n",
       "      <td>-70.66699</td>\n",
       "      <td>under way using engine</td>\n",
       "    </tr>\n",
       "    <tr>\n",
       "      <th>5150035</th>\n",
       "      <td>366953940</td>\n",
       "      <td>2017-12-31T23:54:33</td>\n",
       "      <td>44.11216</td>\n",
       "      <td>-69.10154</td>\n",
       "      <td>under way using engine</td>\n",
       "    </tr>\n",
       "    <tr>\n",
       "      <th>5150036</th>\n",
       "      <td>366953940</td>\n",
       "      <td>2017-12-31T23:56:45</td>\n",
       "      <td>44.11216</td>\n",
       "      <td>-69.10154</td>\n",
       "      <td>under way using engine</td>\n",
       "    </tr>\n",
       "    <tr>\n",
       "      <th>5150037</th>\n",
       "      <td>367551860</td>\n",
       "      <td>2017-12-31T23:57:35</td>\n",
       "      <td>42.84209</td>\n",
       "      <td>-69.70876</td>\n",
       "      <td>constrained by her draught</td>\n",
       "    </tr>\n",
       "  </tbody>\n",
       "</table>\n",
       "<p>4333547 rows × 5 columns</p>\n",
       "</div>"
      ],
      "text/plain": [
       "              MMSI         BaseDateTime       LAT       LON  \\\n",
       "0        311109000  2017-12-01T00:03:29  18.85018 -65.84870   \n",
       "1        671966000  2017-12-01T19:36:04  18.33037 -64.96089   \n",
       "2        366744150  2017-12-01T19:41:44  18.33495 -64.92114   \n",
       "3        367617230  2017-12-01T00:12:44  18.29556 -65.39324   \n",
       "4        367617230  2017-12-01T00:13:52  18.29537 -65.38942   \n",
       "...            ...                  ...       ...       ...   \n",
       "5150033  366953940  2017-12-31T23:53:24  44.11215 -69.10154   \n",
       "5150034  367912000  2017-12-31T23:53:26  41.52191 -70.66699   \n",
       "5150035  366953940  2017-12-31T23:54:33  44.11216 -69.10154   \n",
       "5150036  366953940  2017-12-31T23:56:45  44.11216 -69.10154   \n",
       "5150037  367551860  2017-12-31T23:57:35  42.84209 -69.70876   \n",
       "\n",
       "                                    Status  \n",
       "0                   under way using engine  \n",
       "1        power-driven vessel towing astern  \n",
       "2                   under way using engine  \n",
       "3                   under way using engine  \n",
       "4                   under way using engine  \n",
       "...                                    ...  \n",
       "5150033             under way using engine  \n",
       "5150034             under way using engine  \n",
       "5150035             under way using engine  \n",
       "5150036             under way using engine  \n",
       "5150037         constrained by her draught  \n",
       "\n",
       "[4333547 rows x 5 columns]"
      ]
     },
     "execution_count": 19,
     "metadata": {},
     "output_type": "execute_result"
    }
   ],
   "source": [
    "#Merge zones, keep necessary columns, remove NaN rows in 'Status' and keep only relevent statuses\n",
    "\n",
    "t1_start = process_time() \n",
    "\n",
    "zones_comb_na = pd.concat([AIS_raw_20, AIS_raw_19])[[\"MMSI\", \"BaseDateTime\", \"LAT\", \"LON\", \"Status\"]].dropna(subset=['Status']).reset_index(drop=True)\n",
    "zones_comb = zones_comb_na[zones_comb_na['Status'].isin({'at anchor', 'constrained by her draught', 'engaged in fishing',\\\n",
    "                                                   'moored', 'power-driven vessel pushing ahead or towing alongside', \\\n",
    "                                                    'power-driven vessel towing astern', 'restricted maneuverability',\\\n",
    "                                                  'under way using engine'})]\n",
    "t1_end = process_time()\n",
    "\n",
    "print(\"Combine Time: \", t1_end-t1_start)\n",
    "print(\"Number of rows: \", len(zones_comb_na))\n",
    "zones_comb"
   ]
  },
  {
   "cell_type": "code",
   "execution_count": 20,
   "metadata": {},
   "outputs": [
    {
     "name": "stdout",
     "output_type": "stream",
     "text": [
      "Combine Time:  3.53125\n",
      "Number of rows:  510\n"
     ]
    },
    {
     "data": {
      "text/html": [
       "<div>\n",
       "<style scoped>\n",
       "    .dataframe tbody tr th:only-of-type {\n",
       "        vertical-align: middle;\n",
       "    }\n",
       "\n",
       "    .dataframe tbody tr th {\n",
       "        vertical-align: top;\n",
       "    }\n",
       "\n",
       "    .dataframe thead th {\n",
       "        text-align: right;\n",
       "    }\n",
       "</style>\n",
       "<table border=\"1\" class=\"dataframe\">\n",
       "  <thead>\n",
       "    <tr style=\"text-align: right;\">\n",
       "      <th></th>\n",
       "      <th>MMSI</th>\n",
       "      <th>Status</th>\n",
       "    </tr>\n",
       "  </thead>\n",
       "  <tbody>\n",
       "    <tr>\n",
       "      <th>3</th>\n",
       "      <td>205686000</td>\n",
       "      <td>{under way using engine, at anchor}</td>\n",
       "    </tr>\n",
       "    <tr>\n",
       "      <th>6</th>\n",
       "      <td>209141000</td>\n",
       "      <td>{under way using engine, at anchor, moored}</td>\n",
       "    </tr>\n",
       "    <tr>\n",
       "      <th>8</th>\n",
       "      <td>209263000</td>\n",
       "      <td>{under way using engine, moored}</td>\n",
       "    </tr>\n",
       "    <tr>\n",
       "      <th>11</th>\n",
       "      <td>209534000</td>\n",
       "      <td>{under way using engine, moored}</td>\n",
       "    </tr>\n",
       "    <tr>\n",
       "      <th>14</th>\n",
       "      <td>210057000</td>\n",
       "      <td>{under way using engine, moored}</td>\n",
       "    </tr>\n",
       "    <tr>\n",
       "      <th>...</th>\n",
       "      <td>...</td>\n",
       "      <td>...</td>\n",
       "    </tr>\n",
       "    <tr>\n",
       "      <th>1705</th>\n",
       "      <td>636092598</td>\n",
       "      <td>{under way using engine, at anchor, moored}</td>\n",
       "    </tr>\n",
       "    <tr>\n",
       "      <th>1707</th>\n",
       "      <td>636092684</td>\n",
       "      <td>{under way using engine, moored}</td>\n",
       "    </tr>\n",
       "    <tr>\n",
       "      <th>1710</th>\n",
       "      <td>671051000</td>\n",
       "      <td>{under way using engine, moored}</td>\n",
       "    </tr>\n",
       "    <tr>\n",
       "      <th>1711</th>\n",
       "      <td>671932000</td>\n",
       "      <td>{under way using engine, moored}</td>\n",
       "    </tr>\n",
       "    <tr>\n",
       "      <th>1712</th>\n",
       "      <td>671937000</td>\n",
       "      <td>{under way using engine, at anchor}</td>\n",
       "    </tr>\n",
       "  </tbody>\n",
       "</table>\n",
       "<p>510 rows × 2 columns</p>\n",
       "</div>"
      ],
      "text/plain": [
       "           MMSI                                       Status\n",
       "3     205686000          {under way using engine, at anchor}\n",
       "6     209141000  {under way using engine, at anchor, moored}\n",
       "8     209263000             {under way using engine, moored}\n",
       "11    209534000             {under way using engine, moored}\n",
       "14    210057000             {under way using engine, moored}\n",
       "...         ...                                          ...\n",
       "1705  636092598  {under way using engine, at anchor, moored}\n",
       "1707  636092684             {under way using engine, moored}\n",
       "1710  671051000             {under way using engine, moored}\n",
       "1711  671932000             {under way using engine, moored}\n",
       "1712  671937000          {under way using engine, at anchor}\n",
       "\n",
       "[510 rows x 2 columns]"
      ]
     },
     "execution_count": 20,
     "metadata": {},
     "output_type": "execute_result"
    }
   ],
   "source": [
    "#Many of the ships do not change \"status\" (either stay moored or are only 'underway')\n",
    "#Need to clean the data where the ship does not change status. \n",
    "\n",
    "t2_start = process_time() \n",
    "\n",
    "zones_comb_status = zones_comb.groupby(\"MMSI\")['Status'].apply(set).reset_index()\n",
    "\n",
    "for index,row in zones_comb_status.iterrows():\n",
    "    if len(row['Status']) < 2:\n",
    "        zones_comb_status.drop(index, inplace=True) \n",
    "\n",
    "\n",
    "t2_end = process_time()\n",
    "\n",
    "print(\"Combine Time: \", t2_end-t2_start)\n",
    "print(\"Number of rows: \", len(zones_comb_status))\n",
    "zones_comb_status"
   ]
  },
  {
   "cell_type": "code",
   "execution_count": 21,
   "metadata": {},
   "outputs": [
    {
     "data": {
      "text/plain": [
       "1425459"
      ]
     },
     "execution_count": 21,
     "metadata": {},
     "output_type": "execute_result"
    }
   ],
   "source": [
    "#Note the ships with useful informatio in the table above\n",
    "useful_ships = zones_comb_status['MMSI'].unique().tolist()\n",
    "zones_useful = zones_comb[zones_comb['MMSI'].isin(useful_ships)]\n",
    "len(zones_useful)"
   ]
  },
  {
   "cell_type": "code",
   "execution_count": 57,
   "metadata": {},
   "outputs": [
    {
     "name": "stdout",
     "output_type": "stream",
     "text": [
      "Combine Time:  9.625\n",
      "Number of total datapoints:  2758\n"
     ]
    },
    {
     "data": {
      "text/html": [
       "<div>\n",
       "<style scoped>\n",
       "    .dataframe tbody tr th:only-of-type {\n",
       "        vertical-align: middle;\n",
       "    }\n",
       "\n",
       "    .dataframe tbody tr th {\n",
       "        vertical-align: top;\n",
       "    }\n",
       "\n",
       "    .dataframe thead th {\n",
       "        text-align: right;\n",
       "    }\n",
       "</style>\n",
       "<table border=\"1\" class=\"dataframe\">\n",
       "  <thead>\n",
       "    <tr style=\"text-align: right;\">\n",
       "      <th></th>\n",
       "      <th>MMSI</th>\n",
       "      <th>Status_comp</th>\n",
       "    </tr>\n",
       "  </thead>\n",
       "  <tbody>\n",
       "    <tr>\n",
       "      <th>0</th>\n",
       "      <td>205686000</td>\n",
       "      <td>[(under way using engine, 2017-12-08T16:33:48,...</td>\n",
       "    </tr>\n",
       "    <tr>\n",
       "      <th>1</th>\n",
       "      <td>209141000</td>\n",
       "      <td>[(at anchor, 2017-12-04T20:18:13, -63.11846999...</td>\n",
       "    </tr>\n",
       "    <tr>\n",
       "      <th>2</th>\n",
       "      <td>209263000</td>\n",
       "      <td>[(moored, 2017-12-01T02:25:21, -70.02003, 18.4...</td>\n",
       "    </tr>\n",
       "    <tr>\n",
       "      <th>3</th>\n",
       "      <td>209534000</td>\n",
       "      <td>[(under way using engine, 2017-12-07T09:51:05,...</td>\n",
       "    </tr>\n",
       "    <tr>\n",
       "      <th>4</th>\n",
       "      <td>210057000</td>\n",
       "      <td>[(under way using engine, 2017-12-14T15:46:05,...</td>\n",
       "    </tr>\n",
       "    <tr>\n",
       "      <th>...</th>\n",
       "      <td>...</td>\n",
       "      <td>...</td>\n",
       "    </tr>\n",
       "    <tr>\n",
       "      <th>505</th>\n",
       "      <td>636092598</td>\n",
       "      <td>[(under way using engine, 2017-12-01T00:02:15,...</td>\n",
       "    </tr>\n",
       "    <tr>\n",
       "      <th>506</th>\n",
       "      <td>636092684</td>\n",
       "      <td>[(under way using engine, 2017-12-20T11:26:07,...</td>\n",
       "    </tr>\n",
       "    <tr>\n",
       "      <th>507</th>\n",
       "      <td>671051000</td>\n",
       "      <td>[(under way using engine, 2017-12-05T09:20:48,...</td>\n",
       "    </tr>\n",
       "    <tr>\n",
       "      <th>508</th>\n",
       "      <td>671932000</td>\n",
       "      <td>[(under way using engine, 2017-12-01T00:03:30,...</td>\n",
       "    </tr>\n",
       "    <tr>\n",
       "      <th>509</th>\n",
       "      <td>671937000</td>\n",
       "      <td>[(under way using engine, 2017-12-02T06:07:38,...</td>\n",
       "    </tr>\n",
       "  </tbody>\n",
       "</table>\n",
       "<p>510 rows × 2 columns</p>\n",
       "</div>"
      ],
      "text/plain": [
       "          MMSI                                        Status_comp\n",
       "0    205686000  [(under way using engine, 2017-12-08T16:33:48,...\n",
       "1    209141000  [(at anchor, 2017-12-04T20:18:13, -63.11846999...\n",
       "2    209263000  [(moored, 2017-12-01T02:25:21, -70.02003, 18.4...\n",
       "3    209534000  [(under way using engine, 2017-12-07T09:51:05,...\n",
       "4    210057000  [(under way using engine, 2017-12-14T15:46:05,...\n",
       "..         ...                                                ...\n",
       "505  636092598  [(under way using engine, 2017-12-01T00:02:15,...\n",
       "506  636092684  [(under way using engine, 2017-12-20T11:26:07,...\n",
       "507  671051000  [(under way using engine, 2017-12-05T09:20:48,...\n",
       "508  671932000  [(under way using engine, 2017-12-01T00:03:30,...\n",
       "509  671937000  [(under way using engine, 2017-12-02T06:07:38,...\n",
       "\n",
       "[510 rows x 2 columns]"
      ]
     },
     "execution_count": 57,
     "metadata": {},
     "output_type": "execute_result"
    }
   ],
   "source": [
    "# So far we went from 6.5 million to 1.5 million rows. Pretty good reduction in data. \n",
    "# The next step is to reduce the data further to where we have the ships when it enters a port and when it leave a port\n",
    "# This means to track the status chronologically and note when there is a change. \n",
    "\n",
    "t3_start = process_time() \n",
    "\n",
    "zones_ordered = zones_useful.sort_values(['MMSI','BaseDateTime'],ascending=True)\n",
    "zones_comb_list = zones_ordered.groupby(\"MMSI\").agg({'Status':list, 'LAT':list, 'LON':list, 'BaseDateTime':list}).reset_index()\n",
    "\n",
    "def compress_stat(row):\n",
    "    stat = row['Status']\n",
    "    time = row['BaseDateTime']\n",
    "    lon = row['LON']\n",
    "    lat = row['LAT']\n",
    "    return [(stat[i+1],time[i+1],lon[i+1],lat[i+1]) for i,j,k in zip(np.arange(len(stat)-1), stat[:-1], stat[1:]) if (j!=k or i==0)]\n",
    "\n",
    "zones_comb_list['Status_comp'] = zones_comb_list.apply(lambda row: compress_stat(row), axis=1)\n",
    "zones_compressed = zones_comb_list.drop(['Status','LAT','LON','BaseDateTime'], axis=1)\n",
    "\n",
    "# In case we want this as a dictionary\n",
    "zones_compressed_dict = dict(zip(zones_compressed['MMSI'],zones_compressed['Status_comp']))\n",
    "\n",
    "t3_end = process_time()\n",
    "\n",
    "print(\"Combine Time: \", t3_end-t3_start)\n",
    "print(\"Number of total datapoints: \", sum([len(i) for i in zones_compressed_dict.values()]))\n",
    "zones_compressed\n"
   ]
  },
  {
   "cell_type": "code",
   "execution_count": 81,
   "metadata": {
    "scrolled": true
   },
   "outputs": [
    {
     "data": {
      "text/plain": [
       "<matplotlib.collections.PathCollection at 0x1ab2a958148>"
      ]
     },
     "execution_count": 81,
     "metadata": {},
     "output_type": "execute_result"
    },
    {
     "data": {
      "image/png": "[encoded data removed]",
      "text/plain": [
       "<Figure size 432x288 with 1 Axes>"
      ]
     },
     "metadata": {
      "needs_background": "light"
     },
     "output_type": "display_data"
    }
   ],
   "source": [
    "all_vals = [i for i in zones_compressed_dict.values()]\n",
    "lat = [i[3] for i in sum(x,[])]\n",
    "lon = [i[2] for i in sum(x,[])]\n",
    "plt.scatter(lon,lat)\n",
    "#plt.axis([-73,-65,15,22])"
   ]
  },
  {
   "cell_type": "code",
   "execution_count": 1,
   "metadata": {},
   "outputs": [
    {
     "ename": "NameError",
     "evalue": "name 'np' is not defined",
     "output_type": "error",
     "traceback": [
      "\u001b[1;31m---------------------------------------------------------------------------\u001b[0m",
      "\u001b[1;31mNameError\u001b[0m                                 Traceback (most recent call last)",
      "\u001b[1;32m<ipython-input-1-57818705bd7c>\u001b[0m in \u001b[0;36m<module>\u001b[1;34m\u001b[0m\n\u001b[0;32m      1\u001b[0m \u001b[1;32mfrom\u001b[0m \u001b[0msklearn\u001b[0m\u001b[1;33m.\u001b[0m\u001b[0mcluster\u001b[0m \u001b[1;32mimport\u001b[0m \u001b[0mDBSCAN\u001b[0m\u001b[1;33m\u001b[0m\u001b[1;33m\u001b[0m\u001b[0m\n\u001b[1;32m----> 2\u001b[1;33m \u001b[0mCoords\u001b[0m \u001b[1;33m=\u001b[0m \u001b[0mnp\u001b[0m\u001b[1;33m.\u001b[0m\u001b[0marray\u001b[0m\u001b[1;33m(\u001b[0m\u001b[1;33m[\u001b[0m\u001b[1;33m[\u001b[0m\u001b[0mi\u001b[0m\u001b[1;33m,\u001b[0m\u001b[0mj\u001b[0m\u001b[1;33m]\u001b[0m \u001b[1;32mfor\u001b[0m \u001b[0mi\u001b[0m\u001b[1;33m,\u001b[0m\u001b[0mj\u001b[0m \u001b[1;32min\u001b[0m \u001b[0mzip\u001b[0m\u001b[1;33m(\u001b[0m\u001b[0mlon\u001b[0m\u001b[1;33m,\u001b[0m\u001b[0mlat\u001b[0m\u001b[1;33m)\u001b[0m\u001b[1;33m]\u001b[0m\u001b[1;33m)\u001b[0m\u001b[1;33m\u001b[0m\u001b[1;33m\u001b[0m\u001b[0m\n\u001b[0m\u001b[0;32m      3\u001b[0m \u001b[0mclustering\u001b[0m \u001b[1;33m=\u001b[0m \u001b[0mDBSCAN\u001b[0m\u001b[1;33m(\u001b[0m\u001b[0meps\u001b[0m\u001b[1;33m=\u001b[0m\u001b[1;36m0.15\u001b[0m\u001b[1;33m,\u001b[0m \u001b[0mmin_samples\u001b[0m\u001b[1;33m=\u001b[0m\u001b[1;36m2\u001b[0m\u001b[1;33m)\u001b[0m\u001b[1;33m.\u001b[0m\u001b[0mfit\u001b[0m\u001b[1;33m(\u001b[0m\u001b[0mCoords\u001b[0m\u001b[1;33m)\u001b[0m\u001b[1;33m\u001b[0m\u001b[1;33m\u001b[0m\u001b[0m\n\u001b[0;32m      4\u001b[0m \u001b[0mplt\u001b[0m\u001b[1;33m.\u001b[0m\u001b[0mscatter\u001b[0m\u001b[1;33m(\u001b[0m\u001b[0mlon\u001b[0m\u001b[1;33m,\u001b[0m\u001b[0mlat\u001b[0m\u001b[1;33m,\u001b[0m\u001b[0mc\u001b[0m\u001b[1;33m=\u001b[0m\u001b[0mclustering\u001b[0m\u001b[1;33m.\u001b[0m\u001b[0mlabels_\u001b[0m\u001b[1;33m)\u001b[0m\u001b[1;33m\u001b[0m\u001b[1;33m\u001b[0m\u001b[0m\n\u001b[0;32m      5\u001b[0m \u001b[1;31m#plt.axis([-70,-69,18,18.5])\u001b[0m\u001b[1;33m\u001b[0m\u001b[1;33m\u001b[0m\u001b[1;33m\u001b[0m\u001b[0m\n",
      "\u001b[1;31mNameError\u001b[0m: name 'np' is not defined"
     ]
    }
   ],
   "source": [
    "from sklearn.cluster import DBSCAN\n",
    "Coords = np.array([[i,j] for i,j in zip(lon,lat)])\n",
    "clustering = DBSCAN(eps=0.15, min_samples=2).fit(Coords)\n",
    "plt.scatter(lon,lat,c=clustering.labels_)\n",
    "#plt.axis([-70,-69,18,18.5])"
   ]
  },
  {
   "cell_type": "code",
   "execution_count": 93,
   "metadata": {},
   "outputs": [
    {
     "data": {
      "text/plain": [
       "97"
      ]
     },
     "execution_count": 93,
     "metadata": {},
     "output_type": "execute_result"
    }
   ],
   "source": []
  },
  {
   "cell_type": "code",
   "execution_count": null,
   "metadata": {},
   "outputs": [],
   "source": []
  },
  {
   "cell_type": "code",
   "execution_count": null,
   "metadata": {},
   "outputs": [],
   "source": []
  }
 ],
 "metadata": {
  "kernelspec": {
   "display_name": "Python 3",
   "language": "python",
   "name": "python3"
  },
  "language_info": {
   "codemirror_mode": {
    "name": "ipython",
    "version": 3
   },
   "file_extension": ".py",
   "mimetype": "text/x-python",
   "name": "python",
   "nbconvert_exporter": "python",
   "pygments_lexer": "ipython3",
   "version": "3.7.6"
  }
 },
 "nbformat": 4,
 "nbformat_minor": 2
}
