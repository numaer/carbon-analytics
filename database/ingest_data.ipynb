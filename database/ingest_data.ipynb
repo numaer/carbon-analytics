{
 "cells": [
  {
   "cell_type": "code",
   "execution_count": 16,
   "metadata": {},
   "outputs": [],
   "source": [
    "import pandas as pd\n",
    "import os"
   ]
  },
  {
   "cell_type": "code",
   "execution_count": 18,
   "metadata": {},
   "outputs": [],
   "source": [
    "dataPath = './data/'\n",
    "outputPath = './output/'\n",
    "folder = os.fsencode(path)\n",
    "\n",
    "for file in os.listdir(folder):\n",
    "    filename = os.fsdecode(file)\n",
    "    if filename.endswith( ('.csv') ):\n",
    "        zone = filename.split(\".\",1)[0][-2:-1]\n",
    "        df = pd.read_csv(path + filename)\n",
    "        df['BaseDateTime']=df['BaseDateTime'].str.replace(\"T\", \" \")\n",
    "        df['Zone'] = zone\n",
    "        df.to_csv(outputPath + filename, index=False)"
   ]
  }
 ],
 "metadata": {
  "kernelspec": {
   "display_name": "Python 3",
   "language": "python",
   "name": "python3"
  },
  "language_info": {
   "codemirror_mode": {
    "name": "ipython",
    "version": 3
   },
   "file_extension": ".py",
   "mimetype": "text/x-python",
   "name": "python",
   "nbconvert_exporter": "python",
   "pygments_lexer": "ipython3",
   "version": "3.7.6"
  }
 },
 "nbformat": 4,
 "nbformat_minor": 2
}
